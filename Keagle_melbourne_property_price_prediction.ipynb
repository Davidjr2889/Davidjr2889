{
  "nbformat": 4,
  "nbformat_minor": 0,
  "metadata": {
    "colab": {
      "name": "Keagle_melbourne_property_price_prediction.ipynb",
      "provenance": [],
      "authorship_tag": "ABX9TyM3nC5q80pgBdsapQxnfboo",
      "include_colab_link": true
    },
    "kernelspec": {
      "name": "python3",
      "display_name": "Python 3"
    },
    "language_info": {
      "name": "python"
    }
  },
  "cells": [
    {
      "cell_type": "markdown",
      "metadata": {
        "id": "view-in-github",
        "colab_type": "text"
      },
      "source": [
        "<a href=\"https://colab.research.google.com/github/Davidjr2889/Davidjr2889/blob/main/Keagle_melbourne_property_price_prediction.ipynb\" target=\"_parent\"><img src=\"https://colab.research.google.com/assets/colab-badge.svg\" alt=\"Open In Colab\"/></a>"
      ]
    },
    {
      "cell_type": "code",
      "execution_count": 2,
      "metadata": {
        "id": "6-DW0rALUG4p"
      },
      "outputs": [],
      "source": [
        "import numpy as np\n",
        "import pandas as pd\n",
        "\n",
        "\n",
        "from tensorflow.keras.preprocessing.sequence import pad_sequences\n",
        "from sklearn.preprocessing import StandardScaler\n",
        "from sklearn.model_selection import train_test_split\n",
        "\n",
        "import tensorflow as tf\n",
        "\n",
        "from sklearn.metrics import r2_score"
      ]
    },
    {
      "cell_type": "code",
      "source": [
        "data = pd.read_csv('MELBOURNE_HOUSE_PRICES_LESS.csv')"
      ],
      "metadata": {
        "id": "1s5Eudq5U_6h"
      },
      "execution_count": 3,
      "outputs": []
    },
    {
      "cell_type": "code",
      "source": [
        "data.info()"
      ],
      "metadata": {
        "colab": {
          "base_uri": "https://localhost:8080/"
        },
        "id": "c-ucsL-7VUXG",
        "outputId": "fd145572-fc3a-4a84-d9cc-0e3fa5f5aa07"
      },
      "execution_count": 4,
      "outputs": [
        {
          "output_type": "stream",
          "name": "stdout",
          "text": [
            "<class 'pandas.core.frame.DataFrame'>\n",
            "RangeIndex: 18220 entries, 0 to 18219\n",
            "Data columns (total 13 columns):\n",
            " #   Column         Non-Null Count  Dtype  \n",
            "---  ------         --------------  -----  \n",
            " 0   Suburb         18220 non-null  object \n",
            " 1   Address        18220 non-null  object \n",
            " 2   Rooms          18220 non-null  int64  \n",
            " 3   Type           18220 non-null  object \n",
            " 4   Price          13976 non-null  float64\n",
            " 5   Method         18220 non-null  object \n",
            " 6   SellerG        18220 non-null  object \n",
            " 7   Date           18220 non-null  object \n",
            " 8   Postcode       18220 non-null  int64  \n",
            " 9   Regionname     18220 non-null  object \n",
            " 10  Propertycount  18219 non-null  float64\n",
            " 11  Distance       18219 non-null  float64\n",
            " 12  CouncilArea    18219 non-null  object \n",
            "dtypes: float64(3), int64(2), object(8)\n",
            "memory usage: 1.8+ MB\n"
          ]
        }
      ]
    },
    {
      "cell_type": "code",
      "source": [
        "#preprocessamento"
      ],
      "metadata": {
        "id": "FgFbAnEWVbGH"
      },
      "execution_count": 5,
      "outputs": []
    },
    {
      "cell_type": "code",
      "source": [
        "def onehot_encode(df, column_dict):\n",
        "  df = df.copy()\n",
        "\n",
        "  for column, prefix in column_dict.items():\n",
        "    dummies = pd.get_dummies(df[column], prefix= prefix)\n",
        "    df = pd.concat([df, dummies], axis= 1)\n",
        "    df = df.drop(column, axis=1)\n",
        "  return df"
      ],
      "metadata": {
        "id": "f9gGfz60dCwh"
      },
      "execution_count": 6,
      "outputs": []
    },
    {
      "cell_type": "code",
      "source": [
        "from tensorflow.keras.preprocessing.text import Tokenizer"
      ],
      "metadata": {
        "id": "Rmwrpf3Smbhy"
      },
      "execution_count": 7,
      "outputs": []
    },
    {
      "cell_type": "markdown",
      "source": [
        "Criar um espaço para alocar o endereço o qual será categorizado."
      ],
      "metadata": {
        "id": "polJ5hirm9QZ"
      }
    },
    {
      "cell_type": "code",
      "source": [
        "def get_sequences(texts):\n",
        "    tokenizer = Tokenizer()\n",
        "    tokenizer.fit_on_texts(texts)\n",
        "    \n",
        "    vocab_length = len(tokenizer.word_index) + 1\n",
        "    print(\"Vocab length:\", vocab_length)\n",
        "    \n",
        "    sequences = tokenizer.texts_to_sequences(texts)\n",
        "    \n",
        "    max_seq_length = np.max([len(sequence) for sequence in sequences])\n",
        "    print(\"Max sequence length:\", max_seq_length)\n",
        "    \n",
        "    sequences = pad_sequences(sequences, maxlen=max_seq_length, padding='post')\n",
        "    return sequences"
      ],
      "metadata": {
        "id": "xvNzi1sSgIGr"
      },
      "execution_count": 49,
      "outputs": []
    },
    {
      "cell_type": "code",
      "source": [
        "get_sequences(X['Address'])"
      ],
      "metadata": {
        "colab": {
          "base_uri": "https://localhost:8080/",
          "height": 675
        },
        "id": "0zfEZDe8gduI",
        "outputId": "48cd003c-ffc8-4497-e8e4-1c6a361bfdea"
      },
      "execution_count": 50,
      "outputs": [
        {
          "output_type": "error",
          "ename": "KeyError",
          "evalue": "ignored",
          "traceback": [
            "\u001b[0;31m---------------------------------------------------------------------------\u001b[0m",
            "\u001b[0;31mKeyError\u001b[0m                                  Traceback (most recent call last)",
            "\u001b[0;32m/usr/local/lib/python3.7/dist-packages/pandas/core/indexes/base.py\u001b[0m in \u001b[0;36mget_loc\u001b[0;34m(self, key, method, tolerance)\u001b[0m\n\u001b[1;32m   2897\u001b[0m             \u001b[0;32mtry\u001b[0m\u001b[0;34m:\u001b[0m\u001b[0;34m\u001b[0m\u001b[0;34m\u001b[0m\u001b[0m\n\u001b[0;32m-> 2898\u001b[0;31m                 \u001b[0;32mreturn\u001b[0m \u001b[0mself\u001b[0m\u001b[0;34m.\u001b[0m\u001b[0m_engine\u001b[0m\u001b[0;34m.\u001b[0m\u001b[0mget_loc\u001b[0m\u001b[0;34m(\u001b[0m\u001b[0mcasted_key\u001b[0m\u001b[0;34m)\u001b[0m\u001b[0;34m\u001b[0m\u001b[0;34m\u001b[0m\u001b[0m\n\u001b[0m\u001b[1;32m   2899\u001b[0m             \u001b[0;32mexcept\u001b[0m \u001b[0mKeyError\u001b[0m \u001b[0;32mas\u001b[0m \u001b[0merr\u001b[0m\u001b[0;34m:\u001b[0m\u001b[0;34m\u001b[0m\u001b[0;34m\u001b[0m\u001b[0m\n",
            "\u001b[0;32mpandas/_libs/index.pyx\u001b[0m in \u001b[0;36mpandas._libs.index.IndexEngine.get_loc\u001b[0;34m()\u001b[0m\n",
            "\u001b[0;32mpandas/_libs/index.pyx\u001b[0m in \u001b[0;36mpandas._libs.index.IndexEngine.get_loc\u001b[0;34m()\u001b[0m\n",
            "\u001b[0;32mpandas/_libs/hashtable_class_helper.pxi\u001b[0m in \u001b[0;36mpandas._libs.hashtable.PyObjectHashTable.get_item\u001b[0;34m()\u001b[0m\n",
            "\u001b[0;32mpandas/_libs/hashtable_class_helper.pxi\u001b[0m in \u001b[0;36mpandas._libs.hashtable.PyObjectHashTable.get_item\u001b[0;34m()\u001b[0m\n",
            "\u001b[0;31mKeyError\u001b[0m: 'Address'",
            "\nThe above exception was the direct cause of the following exception:\n",
            "\u001b[0;31mKeyError\u001b[0m                                  Traceback (most recent call last)",
            "\u001b[0;32m<ipython-input-50-28217c23e0aa>\u001b[0m in \u001b[0;36m<module>\u001b[0;34m()\u001b[0m\n\u001b[0;32m----> 1\u001b[0;31m \u001b[0mget_sequences\u001b[0m\u001b[0;34m(\u001b[0m\u001b[0mX\u001b[0m\u001b[0;34m[\u001b[0m\u001b[0;34m'Address'\u001b[0m\u001b[0;34m]\u001b[0m\u001b[0;34m)\u001b[0m\u001b[0;34m\u001b[0m\u001b[0;34m\u001b[0m\u001b[0m\n\u001b[0m",
            "\u001b[0;32m/usr/local/lib/python3.7/dist-packages/pandas/core/frame.py\u001b[0m in \u001b[0;36m__getitem__\u001b[0;34m(self, key)\u001b[0m\n\u001b[1;32m   2904\u001b[0m             \u001b[0;32mif\u001b[0m \u001b[0mself\u001b[0m\u001b[0;34m.\u001b[0m\u001b[0mcolumns\u001b[0m\u001b[0;34m.\u001b[0m\u001b[0mnlevels\u001b[0m \u001b[0;34m>\u001b[0m \u001b[0;36m1\u001b[0m\u001b[0;34m:\u001b[0m\u001b[0;34m\u001b[0m\u001b[0;34m\u001b[0m\u001b[0m\n\u001b[1;32m   2905\u001b[0m                 \u001b[0;32mreturn\u001b[0m \u001b[0mself\u001b[0m\u001b[0;34m.\u001b[0m\u001b[0m_getitem_multilevel\u001b[0m\u001b[0;34m(\u001b[0m\u001b[0mkey\u001b[0m\u001b[0;34m)\u001b[0m\u001b[0;34m\u001b[0m\u001b[0;34m\u001b[0m\u001b[0m\n\u001b[0;32m-> 2906\u001b[0;31m             \u001b[0mindexer\u001b[0m \u001b[0;34m=\u001b[0m \u001b[0mself\u001b[0m\u001b[0;34m.\u001b[0m\u001b[0mcolumns\u001b[0m\u001b[0;34m.\u001b[0m\u001b[0mget_loc\u001b[0m\u001b[0;34m(\u001b[0m\u001b[0mkey\u001b[0m\u001b[0;34m)\u001b[0m\u001b[0;34m\u001b[0m\u001b[0;34m\u001b[0m\u001b[0m\n\u001b[0m\u001b[1;32m   2907\u001b[0m             \u001b[0;32mif\u001b[0m \u001b[0mis_integer\u001b[0m\u001b[0;34m(\u001b[0m\u001b[0mindexer\u001b[0m\u001b[0;34m)\u001b[0m\u001b[0;34m:\u001b[0m\u001b[0;34m\u001b[0m\u001b[0;34m\u001b[0m\u001b[0m\n\u001b[1;32m   2908\u001b[0m                 \u001b[0mindexer\u001b[0m \u001b[0;34m=\u001b[0m \u001b[0;34m[\u001b[0m\u001b[0mindexer\u001b[0m\u001b[0;34m]\u001b[0m\u001b[0;34m\u001b[0m\u001b[0;34m\u001b[0m\u001b[0m\n",
            "\u001b[0;32m/usr/local/lib/python3.7/dist-packages/pandas/core/indexes/base.py\u001b[0m in \u001b[0;36mget_loc\u001b[0;34m(self, key, method, tolerance)\u001b[0m\n\u001b[1;32m   2898\u001b[0m                 \u001b[0;32mreturn\u001b[0m \u001b[0mself\u001b[0m\u001b[0;34m.\u001b[0m\u001b[0m_engine\u001b[0m\u001b[0;34m.\u001b[0m\u001b[0mget_loc\u001b[0m\u001b[0;34m(\u001b[0m\u001b[0mcasted_key\u001b[0m\u001b[0;34m)\u001b[0m\u001b[0;34m\u001b[0m\u001b[0;34m\u001b[0m\u001b[0m\n\u001b[1;32m   2899\u001b[0m             \u001b[0;32mexcept\u001b[0m \u001b[0mKeyError\u001b[0m \u001b[0;32mas\u001b[0m \u001b[0merr\u001b[0m\u001b[0;34m:\u001b[0m\u001b[0;34m\u001b[0m\u001b[0;34m\u001b[0m\u001b[0m\n\u001b[0;32m-> 2900\u001b[0;31m                 \u001b[0;32mraise\u001b[0m \u001b[0mKeyError\u001b[0m\u001b[0;34m(\u001b[0m\u001b[0mkey\u001b[0m\u001b[0;34m)\u001b[0m \u001b[0;32mfrom\u001b[0m \u001b[0merr\u001b[0m\u001b[0;34m\u001b[0m\u001b[0;34m\u001b[0m\u001b[0m\n\u001b[0m\u001b[1;32m   2901\u001b[0m \u001b[0;34m\u001b[0m\u001b[0m\n\u001b[1;32m   2902\u001b[0m         \u001b[0;32mif\u001b[0m \u001b[0mtolerance\u001b[0m \u001b[0;32mis\u001b[0m \u001b[0;32mnot\u001b[0m \u001b[0;32mNone\u001b[0m\u001b[0;34m:\u001b[0m\u001b[0;34m\u001b[0m\u001b[0;34m\u001b[0m\u001b[0m\n",
            "\u001b[0;31mKeyError\u001b[0m: 'Address'"
          ]
        }
      ]
    },
    {
      "cell_type": "code",
      "source": [
        "pd.get_dummies(data['Method'])"
      ],
      "metadata": {
        "colab": {
          "base_uri": "https://localhost:8080/",
          "height": 423
        },
        "id": "PKm88HJ5jz3K",
        "outputId": "1df6a2dc-1496-4d9d-e2f2-315064d3abc7"
      },
      "execution_count": 52,
      "outputs": [
        {
          "output_type": "execute_result",
          "data": {
            "text/html": [
              "\n",
              "  <div id=\"df-76517946-b9b0-437e-8b92-359ee502f2d6\">\n",
              "    <div class=\"colab-df-container\">\n",
              "      <div>\n",
              "<style scoped>\n",
              "    .dataframe tbody tr th:only-of-type {\n",
              "        vertical-align: middle;\n",
              "    }\n",
              "\n",
              "    .dataframe tbody tr th {\n",
              "        vertical-align: top;\n",
              "    }\n",
              "\n",
              "    .dataframe thead th {\n",
              "        text-align: right;\n",
              "    }\n",
              "</style>\n",
              "<table border=\"1\" class=\"dataframe\">\n",
              "  <thead>\n",
              "    <tr style=\"text-align: right;\">\n",
              "      <th></th>\n",
              "      <th>PI</th>\n",
              "      <th>PN</th>\n",
              "      <th>S</th>\n",
              "      <th>SA</th>\n",
              "      <th>SN</th>\n",
              "      <th>SP</th>\n",
              "      <th>SS</th>\n",
              "      <th>VB</th>\n",
              "      <th>W</th>\n",
              "    </tr>\n",
              "  </thead>\n",
              "  <tbody>\n",
              "    <tr>\n",
              "      <th>0</th>\n",
              "      <td>0</td>\n",
              "      <td>0</td>\n",
              "      <td>1</td>\n",
              "      <td>0</td>\n",
              "      <td>0</td>\n",
              "      <td>0</td>\n",
              "      <td>0</td>\n",
              "      <td>0</td>\n",
              "      <td>0</td>\n",
              "    </tr>\n",
              "    <tr>\n",
              "      <th>1</th>\n",
              "      <td>0</td>\n",
              "      <td>0</td>\n",
              "      <td>1</td>\n",
              "      <td>0</td>\n",
              "      <td>0</td>\n",
              "      <td>0</td>\n",
              "      <td>0</td>\n",
              "      <td>0</td>\n",
              "      <td>0</td>\n",
              "    </tr>\n",
              "    <tr>\n",
              "      <th>2</th>\n",
              "      <td>0</td>\n",
              "      <td>0</td>\n",
              "      <td>1</td>\n",
              "      <td>0</td>\n",
              "      <td>0</td>\n",
              "      <td>0</td>\n",
              "      <td>0</td>\n",
              "      <td>0</td>\n",
              "      <td>0</td>\n",
              "    </tr>\n",
              "    <tr>\n",
              "      <th>3</th>\n",
              "      <td>0</td>\n",
              "      <td>0</td>\n",
              "      <td>1</td>\n",
              "      <td>0</td>\n",
              "      <td>0</td>\n",
              "      <td>0</td>\n",
              "      <td>0</td>\n",
              "      <td>0</td>\n",
              "      <td>0</td>\n",
              "    </tr>\n",
              "    <tr>\n",
              "      <th>4</th>\n",
              "      <td>0</td>\n",
              "      <td>0</td>\n",
              "      <td>1</td>\n",
              "      <td>0</td>\n",
              "      <td>0</td>\n",
              "      <td>0</td>\n",
              "      <td>0</td>\n",
              "      <td>0</td>\n",
              "      <td>0</td>\n",
              "    </tr>\n",
              "    <tr>\n",
              "      <th>...</th>\n",
              "      <td>...</td>\n",
              "      <td>...</td>\n",
              "      <td>...</td>\n",
              "      <td>...</td>\n",
              "      <td>...</td>\n",
              "      <td>...</td>\n",
              "      <td>...</td>\n",
              "      <td>...</td>\n",
              "      <td>...</td>\n",
              "    </tr>\n",
              "    <tr>\n",
              "      <th>63018</th>\n",
              "      <td>0</td>\n",
              "      <td>0</td>\n",
              "      <td>1</td>\n",
              "      <td>0</td>\n",
              "      <td>0</td>\n",
              "      <td>0</td>\n",
              "      <td>0</td>\n",
              "      <td>0</td>\n",
              "      <td>0</td>\n",
              "    </tr>\n",
              "    <tr>\n",
              "      <th>63019</th>\n",
              "      <td>0</td>\n",
              "      <td>0</td>\n",
              "      <td>1</td>\n",
              "      <td>0</td>\n",
              "      <td>0</td>\n",
              "      <td>0</td>\n",
              "      <td>0</td>\n",
              "      <td>0</td>\n",
              "      <td>0</td>\n",
              "    </tr>\n",
              "    <tr>\n",
              "      <th>63020</th>\n",
              "      <td>0</td>\n",
              "      <td>0</td>\n",
              "      <td>1</td>\n",
              "      <td>0</td>\n",
              "      <td>0</td>\n",
              "      <td>0</td>\n",
              "      <td>0</td>\n",
              "      <td>0</td>\n",
              "      <td>0</td>\n",
              "    </tr>\n",
              "    <tr>\n",
              "      <th>63021</th>\n",
              "      <td>1</td>\n",
              "      <td>0</td>\n",
              "      <td>0</td>\n",
              "      <td>0</td>\n",
              "      <td>0</td>\n",
              "      <td>0</td>\n",
              "      <td>0</td>\n",
              "      <td>0</td>\n",
              "      <td>0</td>\n",
              "    </tr>\n",
              "    <tr>\n",
              "      <th>63022</th>\n",
              "      <td>0</td>\n",
              "      <td>0</td>\n",
              "      <td>0</td>\n",
              "      <td>0</td>\n",
              "      <td>0</td>\n",
              "      <td>1</td>\n",
              "      <td>0</td>\n",
              "      <td>0</td>\n",
              "      <td>0</td>\n",
              "    </tr>\n",
              "  </tbody>\n",
              "</table>\n",
              "<p>63023 rows × 9 columns</p>\n",
              "</div>\n",
              "      <button class=\"colab-df-convert\" onclick=\"convertToInteractive('df-76517946-b9b0-437e-8b92-359ee502f2d6')\"\n",
              "              title=\"Convert this dataframe to an interactive table.\"\n",
              "              style=\"display:none;\">\n",
              "        \n",
              "  <svg xmlns=\"http://www.w3.org/2000/svg\" height=\"24px\"viewBox=\"0 0 24 24\"\n",
              "       width=\"24px\">\n",
              "    <path d=\"M0 0h24v24H0V0z\" fill=\"none\"/>\n",
              "    <path d=\"M18.56 5.44l.94 2.06.94-2.06 2.06-.94-2.06-.94-.94-2.06-.94 2.06-2.06.94zm-11 1L8.5 8.5l.94-2.06 2.06-.94-2.06-.94L8.5 2.5l-.94 2.06-2.06.94zm10 10l.94 2.06.94-2.06 2.06-.94-2.06-.94-.94-2.06-.94 2.06-2.06.94z\"/><path d=\"M17.41 7.96l-1.37-1.37c-.4-.4-.92-.59-1.43-.59-.52 0-1.04.2-1.43.59L10.3 9.45l-7.72 7.72c-.78.78-.78 2.05 0 2.83L4 21.41c.39.39.9.59 1.41.59.51 0 1.02-.2 1.41-.59l7.78-7.78 2.81-2.81c.8-.78.8-2.07 0-2.86zM5.41 20L4 18.59l7.72-7.72 1.47 1.35L5.41 20z\"/>\n",
              "  </svg>\n",
              "      </button>\n",
              "      \n",
              "  <style>\n",
              "    .colab-df-container {\n",
              "      display:flex;\n",
              "      flex-wrap:wrap;\n",
              "      gap: 12px;\n",
              "    }\n",
              "\n",
              "    .colab-df-convert {\n",
              "      background-color: #E8F0FE;\n",
              "      border: none;\n",
              "      border-radius: 50%;\n",
              "      cursor: pointer;\n",
              "      display: none;\n",
              "      fill: #1967D2;\n",
              "      height: 32px;\n",
              "      padding: 0 0 0 0;\n",
              "      width: 32px;\n",
              "    }\n",
              "\n",
              "    .colab-df-convert:hover {\n",
              "      background-color: #E2EBFA;\n",
              "      box-shadow: 0px 1px 2px rgba(60, 64, 67, 0.3), 0px 1px 3px 1px rgba(60, 64, 67, 0.15);\n",
              "      fill: #174EA6;\n",
              "    }\n",
              "\n",
              "    [theme=dark] .colab-df-convert {\n",
              "      background-color: #3B4455;\n",
              "      fill: #D2E3FC;\n",
              "    }\n",
              "\n",
              "    [theme=dark] .colab-df-convert:hover {\n",
              "      background-color: #434B5C;\n",
              "      box-shadow: 0px 1px 3px 1px rgba(0, 0, 0, 0.15);\n",
              "      filter: drop-shadow(0px 1px 2px rgba(0, 0, 0, 0.3));\n",
              "      fill: #FFFFFF;\n",
              "    }\n",
              "  </style>\n",
              "\n",
              "      <script>\n",
              "        const buttonEl =\n",
              "          document.querySelector('#df-76517946-b9b0-437e-8b92-359ee502f2d6 button.colab-df-convert');\n",
              "        buttonEl.style.display =\n",
              "          google.colab.kernel.accessAllowed ? 'block' : 'none';\n",
              "\n",
              "        async function convertToInteractive(key) {\n",
              "          const element = document.querySelector('#df-76517946-b9b0-437e-8b92-359ee502f2d6');\n",
              "          const dataTable =\n",
              "            await google.colab.kernel.invokeFunction('convertToInteractive',\n",
              "                                                     [key], {});\n",
              "          if (!dataTable) return;\n",
              "\n",
              "          const docLinkHtml = 'Like what you see? Visit the ' +\n",
              "            '<a target=\"_blank\" href=https://colab.research.google.com/notebooks/data_table.ipynb>data table notebook</a>'\n",
              "            + ' to learn more about interactive tables.';\n",
              "          element.innerHTML = '';\n",
              "          dataTable['output_type'] = 'display_data';\n",
              "          await google.colab.output.renderOutput(dataTable, element);\n",
              "          const docLink = document.createElement('div');\n",
              "          docLink.innerHTML = docLinkHtml;\n",
              "          element.appendChild(docLink);\n",
              "        }\n",
              "      </script>\n",
              "    </div>\n",
              "  </div>\n",
              "  "
            ],
            "text/plain": [
              "       PI  PN  S  SA  SN  SP  SS  VB  W\n",
              "0       0   0  1   0   0   0   0   0  0\n",
              "1       0   0  1   0   0   0   0   0  0\n",
              "2       0   0  1   0   0   0   0   0  0\n",
              "3       0   0  1   0   0   0   0   0  0\n",
              "4       0   0  1   0   0   0   0   0  0\n",
              "...    ..  .. ..  ..  ..  ..  ..  .. ..\n",
              "63018   0   0  1   0   0   0   0   0  0\n",
              "63019   0   0  1   0   0   0   0   0  0\n",
              "63020   0   0  1   0   0   0   0   0  0\n",
              "63021   1   0  0   0   0   0   0   0  0\n",
              "63022   0   0  0   0   0   1   0   0  0\n",
              "\n",
              "[63023 rows x 9 columns]"
            ]
          },
          "metadata": {},
          "execution_count": 52
        }
      ]
    },
    {
      "cell_type": "code",
      "source": [
        "def preprocess_inputs(df):\n",
        "  df = df.copy()\n",
        "  #tirando linhas com valores vazios\n",
        "\n",
        "  df = df.dropna(axis = 0 ).reset_index(drop=True)\n",
        "\n",
        "  #one-hotencoder\n",
        "\n",
        "  column_dict = {\n",
        "      'Suburb': 'SU',\n",
        "      'Type': 'TY',  \n",
        "      'Method': 'ME',   \n",
        "      'SellerG': 'SE', \n",
        "      'Postcode': 'PO',   \n",
        "      'Regionname': 'RE',\n",
        "      'CouncilArea': 'CO',\n",
        "  }\n",
        " \n",
        "  df = onehot_encode(df, column_dict)\n",
        "\n",
        "  # Reemplazando Data por --- Ano, Mes, e dia com metodo lambda\n",
        "  df['Date'] = pd.to_datetime(df['Date'])\n",
        "\n",
        "  df['Year'] = df['Date'].apply(lambda x: x.year)\n",
        "  df['Month'] = df['Date'].apply(lambda x: x.month)\n",
        "  df['Day'] = df['Date'].apply(lambda x: x.day)\n",
        "\n",
        "  df = df.drop('Date', axis=1)\n",
        "\n",
        "  #obter sequencias de endereços\n",
        "\n",
        "  addr_sequences = get_sequences(df['Address'])\n",
        "  df = df.drop('Address', axis = 1)\n",
        "\n",
        "  # Decl\n",
        "  y = df['Price'].copy()\n",
        "  X = df.drop('Price', axis = 1).copy()\n",
        "\n",
        "  # escalando X com um escalador standar \"scale\"\n",
        "  scaler = StandardScaler()\n",
        "  X = pd.DataFrame(scaler.fit_transform(X), columns=X.columns)\n",
        "\n",
        "\n",
        "\n",
        "  return X, addr_sequences, y\n"
      ],
      "metadata": {
        "id": "JAXL-8LFVv5f"
      },
      "execution_count": 51,
      "outputs": []
    },
    {
      "cell_type": "code",
      "source": [
        "X, addr_sequences, y = preprocess_inputs(data)"
      ],
      "metadata": {
        "colab": {
          "base_uri": "https://localhost:8080/"
        },
        "id": "gYx3KvJ6qOeJ",
        "outputId": "0e387106-2973-4689-acaa-43a7ca762a5d"
      },
      "execution_count": 52,
      "outputs": [
        {
          "output_type": "stream",
          "name": "stdout",
          "text": [
            "Vocab length: 6236\n",
            "Max sequence length: 5\n"
          ]
        }
      ]
    },
    {
      "cell_type": "code",
      "source": [
        "X.mean()\n"
      ],
      "metadata": {
        "colab": {
          "base_uri": "https://localhost:8080/"
        },
        "id": "krLomQWwq6do",
        "outputId": "55d31021-808a-495e-bac8-c936e17954d9"
      },
      "execution_count": 25,
      "outputs": [
        {
          "output_type": "execute_result",
          "data": {
            "text/plain": [
              "Rooms                           -2.279965e-15\n",
              "Propertycount                   -4.774753e-17\n",
              "Distance                        -3.504333e-16\n",
              "SU_Abbotsford                    1.014366e-15\n",
              "SU_Aberfeldie                    1.899837e-15\n",
              "                                     ...     \n",
              "CO_Yarra City Council           -3.279027e-15\n",
              "CO_Yarra Ranges Shire Council   -9.722485e-16\n",
              "Year                            -1.442532e-13\n",
              "Month                            6.036992e-14\n",
              "Day                              2.863144e-15\n",
              "Length: 907, dtype: float64"
            ]
          },
          "metadata": {},
          "execution_count": 25
        }
      ]
    },
    {
      "cell_type": "code",
      "source": [
        "addr_sequences"
      ],
      "metadata": {
        "colab": {
          "base_uri": "https://localhost:8080/"
        },
        "id": "topYTOBIq_LZ",
        "outputId": "2ac9cb62-257a-48c7-d291-dbb92b47146f"
      },
      "execution_count": 23,
      "outputs": [
        {
          "output_type": "execute_result",
          "data": {
            "text/plain": [
              "array([[  61, 2005,    1,    0,    0],\n",
              "       [2006,  641,    1,    0,    0],\n",
              "       [3256,  347,    1,    0,    0],\n",
              "       ...,\n",
              "       [   8, 1276,  155,    2,    0],\n",
              "       [  23,   28,  116,    2,    0],\n",
              "       [  15,   29, 3208,  878,    2]], dtype=int32)"
            ]
          },
          "metadata": {},
          "execution_count": 23
        }
      ]
    },
    {
      "cell_type": "code",
      "source": [
        "y"
      ],
      "metadata": {
        "colab": {
          "base_uri": "https://localhost:8080/"
        },
        "id": "2cUCSmsgrAlB",
        "outputId": "4cadaf24-f6a4-41fc-caf3-80d0535fe423"
      },
      "execution_count": 120,
      "outputs": [
        {
          "output_type": "execute_result",
          "data": {
            "text/plain": [
              "0        1490000.0\n",
              "1        1220000.0\n",
              "2        1420000.0\n",
              "3        1515000.0\n",
              "4         670000.0\n",
              "           ...    \n",
              "48428     347700.0\n",
              "48429     808000.0\n",
              "48430     566000.0\n",
              "48431     500000.0\n",
              "48432     545000.0\n",
              "Name: Price, Length: 48433, dtype: float64"
            ]
          },
          "metadata": {},
          "execution_count": 120
        }
      ]
    },
    {
      "cell_type": "code",
      "source": [
        "X_train, X_test, addr_train, addr_test, y_train, y_test = train_test_split(X, addr_sequences, y, train_size=0.7, random_state=123)"
      ],
      "metadata": {
        "id": "FYtHa-IkrBTB"
      },
      "execution_count": 29,
      "outputs": []
    },
    {
      "cell_type": "code",
      "source": [
        "addr_train.shape"
      ],
      "metadata": {
        "colab": {
          "base_uri": "https://localhost:8080/"
        },
        "id": "QCQSmhS9CVm8",
        "outputId": "cd1ca178-1e1a-410f-a121-07cd3659748d"
      },
      "execution_count": 33,
      "outputs": [
        {
          "output_type": "execute_result",
          "data": {
            "text/plain": [
              "(9782, 5)"
            ]
          },
          "metadata": {},
          "execution_count": 33
        }
      ]
    },
    {
      "cell_type": "code",
      "source": [
        "X_inputs = tf.keras.Input(shape=(X_train.shape[1],), name= 'X_input')\n",
        "addr_inputs = tf.keras.Input(shape=(addr_train.shape[1],), name='addr_input')\n",
        "\n",
        "X_dense1 = tf.keras.layers.Dense(512, activation = 'relu', name = 'X_dense1')(X_inputs)\n",
        "X_dense2 = tf.keras.layers.Dense(512, activation = 'relu', name = 'X_dense2')(X_dense1)\n",
        "\n",
        "addr_embebing = tf.keras.layers.Embedding(\n",
        "    input_dim = 6236,\n",
        "    output_dim = 64,\n",
        "    input_length = addr_train.shape[1],\n",
        "    name= 'addr_embebing'\n",
        ") (addr_inputs)\n",
        "addr_flatten = tf.keras.layers.Flatten(name='addr_flatten')(addr_embebing)\n",
        "\n",
        "concat = tf.keras.layers.concatenate([X_dense2, addr_flatten],name = 'concatenate' )\n",
        "\n",
        "outputs = tf.keras.layers.Dense(1, activation = 'linear')(concat)\n",
        "model = tf.keras.Model(inputs= [X_inputs, addr_inputs], outputs=outputs)\n",
        "\n",
        "\n",
        "print(model.summary())\n",
        "tf.keras.utils.plot_model(model)"
      ],
      "metadata": {
        "colab": {
          "base_uri": "https://localhost:8080/",
          "height": 984
        },
        "id": "7QS3DM0GBu7x",
        "outputId": "74d7966a-a996-4087-9614-82225cad4ab2"
      },
      "execution_count": 48,
      "outputs": [
        {
          "output_type": "stream",
          "name": "stdout",
          "text": [
            "Model: \"model_1\"\n",
            "__________________________________________________________________________________________________\n",
            " Layer (type)                   Output Shape         Param #     Connected to                     \n",
            "==================================================================================================\n",
            " X_input (InputLayer)           [(None, 907)]        0           []                               \n",
            "                                                                                                  \n",
            " addr_input (InputLayer)        [(None, 5)]          0           []                               \n",
            "                                                                                                  \n",
            " X_dense1 (Dense)               (None, 512)          464896      ['X_input[0][0]']                \n",
            "                                                                                                  \n",
            " addr_embebing (Embedding)      (None, 5, 64)        399104      ['addr_input[0][0]']             \n",
            "                                                                                                  \n",
            " X_dense2 (Dense)               (None, 512)          262656      ['X_dense1[0][0]']               \n",
            "                                                                                                  \n",
            " addr_flatten (Flatten)         (None, 320)          0           ['addr_embebing[0][0]']          \n",
            "                                                                                                  \n",
            " concatenate (Concatenate)      (None, 832)          0           ['X_dense2[0][0]',               \n",
            "                                                                  'addr_flatten[0][0]']           \n",
            "                                                                                                  \n",
            " dense_5 (Dense)                (None, 1)            833         ['concatenate[0][0]']            \n",
            "                                                                                                  \n",
            "==================================================================================================\n",
            "Total params: 1,127,489\n",
            "Trainable params: 1,127,489\n",
            "Non-trainable params: 0\n",
            "__________________________________________________________________________________________________\n",
            "None\n"
          ]
        },
        {
          "output_type": "execute_result",
          "data": {
            "image/png": "[encoded data removed]",
            "text/plain": [
              "<IPython.core.display.Image object>"
            ]
          },
          "metadata": {},
          "execution_count": 48
        }
      ]
    },
    {
      "cell_type": "code",
      "source": [
        "model.compile(\n",
        "    optimizer= tf.keras.optimizers.Adam(learning_rate=0.1),\n",
        "    loss= 'mse'\n",
        ")\n",
        "\n",
        "history = model.fit(\n",
        "    [X_train, addr_train],\n",
        "    y_train,\n",
        "    validation_split= 0.2,\n",
        "    batch_size = 32,\n",
        "    epochs = 50,\n",
        "    callbacks = [\n",
        "                tf.keras.callbacks.EarlyStopping(\n",
        "                    monitor='val_loss',\n",
        "                    patience = 3,\n",
        "                    restore_best_weights = True\n",
        "                ),\n",
        "                tf.keras.callbacks.ReduceLROnPlateau()\n",
        "    ]\n",
        ")"
      ],
      "metadata": {
        "colab": {
          "base_uri": "https://localhost:8080/"
        },
        "id": "FxvbzwR1CRTJ",
        "outputId": "982106e8-80c5-457c-9b85-33796adb4e13"
      },
      "execution_count": 57,
      "outputs": [
        {
          "output_type": "stream",
          "name": "stdout",
          "text": [
            "Epoch 1/50\n",
            "245/245 [==============================] - 4s 14ms/step - loss: 76707143680.0000 - val_loss: 126206189568.0000 - lr: 0.1000\n",
            "Epoch 2/50\n",
            "245/245 [==============================] - 3s 13ms/step - loss: 68558262272.0000 - val_loss: 116755349504.0000 - lr: 0.1000\n",
            "Epoch 3/50\n",
            "245/245 [==============================] - 3s 13ms/step - loss: 61633462272.0000 - val_loss: 126749163520.0000 - lr: 0.1000\n",
            "Epoch 4/50\n",
            "245/245 [==============================] - 3s 12ms/step - loss: 57326149632.0000 - val_loss: 119926890496.0000 - lr: 0.1000\n",
            "Epoch 5/50\n",
            "245/245 [==============================] - 3s 13ms/step - loss: 53413183488.0000 - val_loss: 131006939136.0000 - lr: 0.1000\n"
          ]
        }
      ]
    },
    {
      "cell_type": "code",
      "source": [
        "y_true = np.array(y_test)\n",
        "y_pred = np.squeeze(model.predict([X_test, addr_test]))"
      ],
      "metadata": {
        "id": "zDLTpMB0IYXt"
      },
      "execution_count": 59,
      "outputs": []
    },
    {
      "cell_type": "code",
      "source": [
        "model_r2 = r2_score(y_true, y_pred)\n",
        "print('Model R*2 Score: {: 6f}', format(model_r2))"
      ],
      "metadata": {
        "colab": {
          "base_uri": "https://localhost:8080/"
        },
        "id": "5zIjUcYRJanR",
        "outputId": "9aa1a692-d866-44d2-8c02-0b41fef3596a"
      },
      "execution_count": 60,
      "outputs": [
        {
          "output_type": "stream",
          "name": "stdout",
          "text": [
            "Model R*2 Score: {: 6f} 0.704622821633655\n"
          ]
        }
      ]
    },
    {
      "cell_type": "code",
      "source": [
        ""
      ],
      "metadata": {
        "id": "tSMAzBa7Jwk6"
      },
      "execution_count": null,
      "outputs": []
    }
  ]
}