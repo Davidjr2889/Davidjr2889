{
  "cells": [
    {
      "cell_type": "markdown",
      "metadata": {
        "id": "view-in-github",
        "colab_type": "text"
      },
      "source": [
        "<a href=\"https://colab.research.google.com/github/Davidjr2889/Davidjr2889/blob/main/Dataset_manfing.ipynb\" target=\"_parent\"><img src=\"https://colab.research.google.com/assets/colab-badge.svg\" alt=\"Open In Colab\"/></a>"
      ]
    },
    {
      "cell_type": "markdown",
      "id": "f0950cf4",
      "metadata": {
        "id": "f0950cf4"
      },
      "source": [
        "### Vamos carregar algumas bibliotecas para fazer manipulação com pandas, visualização com matplotlib e seaborn como complemento, alem de tirar algumas advertencias."
      ]
    },
    {
      "cell_type": "code",
      "execution_count": null,
      "id": "54bb6118",
      "metadata": {
        "id": "54bb6118"
      },
      "outputs": [],
      "source": [
        "import pandas as pd\n",
        "from pandas import DataFrame\n",
        "from pandas.plotting import autocorrelation_plot\n",
        "import numpy as np\n",
        "from matplotlib import pyplot as plt\n",
        "import matplotlib.pyplot as plt\n",
        "import seaborn as sns\n",
        "import datetime\n",
        "from os import replace\n",
        "import warnings\n",
        "warnings.filterwarnings('ignore')"
      ]
    },
    {
      "cell_type": "markdown",
      "id": "48e9936b",
      "metadata": {
        "id": "48e9936b"
      },
      "source": [
        "### Vou carregar meu dataset como df"
      ]
    },
    {
      "cell_type": "code",
      "execution_count": null,
      "id": "f5dddb63",
      "metadata": {
        "id": "f5dddb63"
      },
      "outputs": [],
      "source": [
        "df = pd.read_excel('C:/Users/jcont/Desktop/teste/DataSet_Test.xlsx')"
      ]
    },
    {
      "cell_type": "markdown",
      "id": "1336d1a2",
      "metadata": {
        "id": "1336d1a2"
      },
      "source": [
        "### Vou ler meu dataset para visualizar os dados que vem nelas"
      ]
    },
    {
      "cell_type": "code",
      "execution_count": null,
      "id": "3dcf9584",
      "metadata": {
        "id": "3dcf9584",
        "outputId": "f3a36182-4006-4ecb-f34d-7b636d986e3f"
      },
      "outputs": [
        {
          "data": {
            "text/html": [
              "<div>\n",
              "<style scoped>\n",
              "    .dataframe tbody tr th:only-of-type {\n",
              "        vertical-align: middle;\n",
              "    }\n",
              "\n",
              "    .dataframe tbody tr th {\n",
              "        vertical-align: top;\n",
              "    }\n",
              "\n",
              "    .dataframe thead th {\n",
              "        text-align: right;\n",
              "    }\n",
              "</style>\n",
              "<table border=\"1\" class=\"dataframe\">\n",
              "  <thead>\n",
              "    <tr style=\"text-align: right;\">\n",
              "      <th></th>\n",
              "      <th>BillNo</th>\n",
              "      <th>Itemname</th>\n",
              "      <th>Quantity</th>\n",
              "      <th>Date</th>\n",
              "      <th>Price</th>\n",
              "      <th>CustomerID</th>\n",
              "      <th>Country</th>\n",
              "    </tr>\n",
              "  </thead>\n",
              "  <tbody>\n",
              "    <tr>\n",
              "      <th>0</th>\n",
              "      <td>536365</td>\n",
              "      <td>WHITE HANGING HEART T-LIGHT HOLDER</td>\n",
              "      <td>6</td>\n",
              "      <td>2010-12-01 08:26:00</td>\n",
              "      <td>2.55</td>\n",
              "      <td>17850.0</td>\n",
              "      <td>United Kingdom</td>\n",
              "    </tr>\n",
              "    <tr>\n",
              "      <th>1</th>\n",
              "      <td>536365</td>\n",
              "      <td>WHITE METAL LANTERN</td>\n",
              "      <td>6</td>\n",
              "      <td>2010-12-01 08:26:00</td>\n",
              "      <td>3.39</td>\n",
              "      <td>17850.0</td>\n",
              "      <td>United Kingdom</td>\n",
              "    </tr>\n",
              "    <tr>\n",
              "      <th>2</th>\n",
              "      <td>536365</td>\n",
              "      <td>CREAM CUPID HEARTS COAT HANGER</td>\n",
              "      <td>8</td>\n",
              "      <td>2010-12-01 08:26:00</td>\n",
              "      <td>2.75</td>\n",
              "      <td>17850.0</td>\n",
              "      <td>United Kingdom</td>\n",
              "    </tr>\n",
              "    <tr>\n",
              "      <th>3</th>\n",
              "      <td>536365</td>\n",
              "      <td>KNITTED UNION FLAG HOT WATER BOTTLE</td>\n",
              "      <td>6</td>\n",
              "      <td>2010-12-01 08:26:00</td>\n",
              "      <td>3.39</td>\n",
              "      <td>17850.0</td>\n",
              "      <td>United Kingdom</td>\n",
              "    </tr>\n",
              "    <tr>\n",
              "      <th>4</th>\n",
              "      <td>536365</td>\n",
              "      <td>RED WOOLLY HOTTIE WHITE HEART.</td>\n",
              "      <td>6</td>\n",
              "      <td>2010-12-01 08:26:00</td>\n",
              "      <td>3.39</td>\n",
              "      <td>17850.0</td>\n",
              "      <td>United Kingdom</td>\n",
              "    </tr>\n",
              "    <tr>\n",
              "      <th>...</th>\n",
              "      <td>...</td>\n",
              "      <td>...</td>\n",
              "      <td>...</td>\n",
              "      <td>...</td>\n",
              "      <td>...</td>\n",
              "      <td>...</td>\n",
              "      <td>...</td>\n",
              "    </tr>\n",
              "    <tr>\n",
              "      <th>522059</th>\n",
              "      <td>581587</td>\n",
              "      <td>PACK OF 20 SPACEBOY NAPKINS</td>\n",
              "      <td>12</td>\n",
              "      <td>2011-12-09 12:50:00</td>\n",
              "      <td>0.85</td>\n",
              "      <td>12680.0</td>\n",
              "      <td>France</td>\n",
              "    </tr>\n",
              "    <tr>\n",
              "      <th>522060</th>\n",
              "      <td>581587</td>\n",
              "      <td>CHILDREN'S APRON DOLLY GIRL</td>\n",
              "      <td>6</td>\n",
              "      <td>2011-12-09 12:50:00</td>\n",
              "      <td>2.10</td>\n",
              "      <td>12680.0</td>\n",
              "      <td>France</td>\n",
              "    </tr>\n",
              "    <tr>\n",
              "      <th>522061</th>\n",
              "      <td>581587</td>\n",
              "      <td>CHILDRENS CUTLERY DOLLY GIRL</td>\n",
              "      <td>4</td>\n",
              "      <td>2011-12-09 12:50:00</td>\n",
              "      <td>4.15</td>\n",
              "      <td>12680.0</td>\n",
              "      <td>France</td>\n",
              "    </tr>\n",
              "    <tr>\n",
              "      <th>522062</th>\n",
              "      <td>581587</td>\n",
              "      <td>CHILDRENS CUTLERY CIRCUS PARADE</td>\n",
              "      <td>4</td>\n",
              "      <td>2011-12-09 12:50:00</td>\n",
              "      <td>4.15</td>\n",
              "      <td>12680.0</td>\n",
              "      <td>France</td>\n",
              "    </tr>\n",
              "    <tr>\n",
              "      <th>522063</th>\n",
              "      <td>581587</td>\n",
              "      <td>BAKING SET 9 PIECE RETROSPOT</td>\n",
              "      <td>3</td>\n",
              "      <td>2011-12-09 12:50:00</td>\n",
              "      <td>4.95</td>\n",
              "      <td>12680.0</td>\n",
              "      <td>France</td>\n",
              "    </tr>\n",
              "  </tbody>\n",
              "</table>\n",
              "<p>522064 rows × 7 columns</p>\n",
              "</div>"
            ],
            "text/plain": [
              "        BillNo                             Itemname  Quantity  \\\n",
              "0       536365   WHITE HANGING HEART T-LIGHT HOLDER         6   \n",
              "1       536365                  WHITE METAL LANTERN         6   \n",
              "2       536365       CREAM CUPID HEARTS COAT HANGER         8   \n",
              "3       536365  KNITTED UNION FLAG HOT WATER BOTTLE         6   \n",
              "4       536365       RED WOOLLY HOTTIE WHITE HEART.         6   \n",
              "...        ...                                  ...       ...   \n",
              "522059  581587          PACK OF 20 SPACEBOY NAPKINS        12   \n",
              "522060  581587          CHILDREN'S APRON DOLLY GIRL         6   \n",
              "522061  581587         CHILDRENS CUTLERY DOLLY GIRL         4   \n",
              "522062  581587      CHILDRENS CUTLERY CIRCUS PARADE         4   \n",
              "522063  581587         BAKING SET 9 PIECE RETROSPOT         3   \n",
              "\n",
              "                      Date  Price  CustomerID         Country  \n",
              "0      2010-12-01 08:26:00   2.55     17850.0  United Kingdom  \n",
              "1      2010-12-01 08:26:00   3.39     17850.0  United Kingdom  \n",
              "2      2010-12-01 08:26:00   2.75     17850.0  United Kingdom  \n",
              "3      2010-12-01 08:26:00   3.39     17850.0  United Kingdom  \n",
              "4      2010-12-01 08:26:00   3.39     17850.0  United Kingdom  \n",
              "...                    ...    ...         ...             ...  \n",
              "522059 2011-12-09 12:50:00   0.85     12680.0          France  \n",
              "522060 2011-12-09 12:50:00   2.10     12680.0          France  \n",
              "522061 2011-12-09 12:50:00   4.15     12680.0          France  \n",
              "522062 2011-12-09 12:50:00   4.15     12680.0          France  \n",
              "522063 2011-12-09 12:50:00   4.95     12680.0          France  \n",
              "\n",
              "[522064 rows x 7 columns]"
            ]
          },
          "execution_count": 3,
          "metadata": {},
          "output_type": "execute_result"
        }
      ],
      "source": [
        "df"
      ]
    },
    {
      "cell_type": "markdown",
      "id": "d90239bb",
      "metadata": {
        "id": "d90239bb"
      },
      "source": [
        "### Vamos verificar o tamanho e o tipo de dados, alem de ver se temos dados nulos ou nao"
      ]
    },
    {
      "cell_type": "code",
      "execution_count": null,
      "id": "3834d632",
      "metadata": {
        "id": "3834d632",
        "outputId": "3dae36ef-fb0b-48be-dc39-03d4834ff7b4"
      },
      "outputs": [
        {
          "name": "stdout",
          "output_type": "stream",
          "text": [
            "features:\t7\n",
            "entries:\t522064\n",
            "<class 'pandas.core.frame.DataFrame'>\n",
            "RangeIndex: 522064 entries, 0 to 522063\n",
            "Data columns (total 7 columns):\n",
            " #   Column      Non-Null Count   Dtype         \n",
            "---  ------      --------------   -----         \n",
            " 0   BillNo      522064 non-null  object        \n",
            " 1   Itemname    520609 non-null  object        \n",
            " 2   Quantity    522064 non-null  int64         \n",
            " 3   Date        522064 non-null  datetime64[ns]\n",
            " 4   Price       522064 non-null  float64       \n",
            " 5   CustomerID  388023 non-null  float64       \n",
            " 6   Country     522064 non-null  object        \n",
            "dtypes: datetime64[ns](1), float64(2), int64(1), object(3)\n",
            "memory usage: 27.9+ MB\n"
          ]
        },
        {
          "data": {
            "text/plain": [
              "None"
            ]
          },
          "metadata": {},
          "output_type": "display_data"
        },
        {
          "data": {
            "text/plain": [
              "BillNo        False\n",
              "Itemname       True\n",
              "Quantity      False\n",
              "Date          False\n",
              "Price         False\n",
              "CustomerID     True\n",
              "Country       False\n",
              "dtype: bool"
            ]
          },
          "metadata": {},
          "output_type": "display_data"
        },
        {
          "data": {
            "text/plain": [
              "BillNo             0\n",
              "Itemname        1455\n",
              "Quantity           0\n",
              "Date               0\n",
              "Price              0\n",
              "CustomerID    134041\n",
              "Country            0\n",
              "dtype: int64"
            ]
          },
          "metadata": {},
          "output_type": "display_data"
        }
      ],
      "source": [
        "# Verificando o tamanho do dataset\n",
        "print('features:\\t{}'.format(df.shape[1]))\n",
        "print('entries:\\t{}'.format(df.shape[0]))\n",
        "\n",
        "# Verificando o tipo de variaveis\n",
        "display(df.info())\n",
        "# Verificar se tem algum valor vazio\n",
        "display(df.isna().any())\n",
        "# Somatoria de valores vazios\n",
        "display(df.isna().sum())"
      ]
    },
    {
      "cell_type": "markdown",
      "id": "8c7352b3",
      "metadata": {
        "id": "8c7352b3"
      },
      "source": [
        "### Vou Trabalhar com um Segundo Dataset para não alterar o primeiro e poder\n",
        "### Realizar algumas analises, além de re organizar colunas e tirar as que não vamos utilizar"
      ]
    },
    {
      "cell_type": "code",
      "execution_count": null,
      "id": "ae700ffc",
      "metadata": {
        "id": "ae700ffc",
        "outputId": "9b38dbb1-51ac-4347-efd0-1f59b79c950f"
      },
      "outputs": [
        {
          "data": {
            "text/plain": [
              "Index(['BillNo', 'Itemname', 'Quantity', 'Date', 'Price', 'CustomerID',\n",
              "       'Country'],\n",
              "      dtype='object')"
            ]
          },
          "execution_count": 5,
          "metadata": {},
          "output_type": "execute_result"
        }
      ],
      "source": [
        "# Vou trabalhar com um segundo dataset para nao alterar o principal.\n",
        "df1 = df.copy()\n",
        "\n",
        "# Preciso das colunas que existem no df1\n",
        "df1.columns"
      ]
    },
    {
      "cell_type": "markdown",
      "id": "c87886a5",
      "metadata": {
        "id": "c87886a5"
      },
      "source": [
        "### Nesta Breve Leitura, ja podemos identificar dados que estão vazios.\n",
        "### Desde já vamos tirar a coluna CostumerID, pois só ela significa o 25 % do dataset"
      ]
    },
    {
      "cell_type": "code",
      "execution_count": null,
      "id": "fc973a8c",
      "metadata": {
        "id": "fc973a8c"
      },
      "outputs": [],
      "source": [
        "# Exclui CostumerID, pois representava 1/4 do dataframe \n",
        "df1 = df1[['BillNo', 'Itemname', 'Quantity', 'Date', 'Price','Country']]\n",
        "\n",
        "# Faço um drop para eliminar valores vazios que nao tenho como preencher\n",
        "df1 = df1.dropna()"
      ]
    },
    {
      "cell_type": "markdown",
      "id": "9308a3ac",
      "metadata": {
        "id": "9308a3ac"
      },
      "source": [
        "### Uma boa pratica nesse caso ao trabalhar com datas, seria separar elas por ano, mes e dia."
      ]
    },
    {
      "cell_type": "code",
      "execution_count": null,
      "id": "6b35ec2d",
      "metadata": {
        "id": "6b35ec2d"
      },
      "outputs": [],
      "source": [
        "def data_(df1):\n",
        "    \n",
        "    # Entrada\n",
        "    df1['Date'] = pd.to_datetime(df1['Date'])\n",
        "    # Saida esperada\n",
        "    df1['Year'] = df1['Date'].apply(lambda x: x.year)\n",
        "    df1['Month'] = df1['Date'].apply(lambda x: x.month)\n",
        "    df1['Day'] = df1['Date'].apply(lambda x: x.day)\n",
        "    \n",
        "        \n",
        "data_(df1)"
      ]
    },
    {
      "cell_type": "markdown",
      "id": "2da79db8",
      "metadata": {
        "id": "2da79db8"
      },
      "source": [
        "### Visualizando o df1, podemos observar que ano, mes e dia ja foi separado, isso vai ajudar mais pra frente o nosso aprendizado de maquina."
      ]
    },
    {
      "cell_type": "code",
      "execution_count": null,
      "id": "9780d45e",
      "metadata": {
        "id": "9780d45e",
        "outputId": "1604c18f-b290-4ef1-9777-ec56df8aa534"
      },
      "outputs": [
        {
          "data": {
            "text/html": [
              "<div>\n",
              "<style scoped>\n",
              "    .dataframe tbody tr th:only-of-type {\n",
              "        vertical-align: middle;\n",
              "    }\n",
              "\n",
              "    .dataframe tbody tr th {\n",
              "        vertical-align: top;\n",
              "    }\n",
              "\n",
              "    .dataframe thead th {\n",
              "        text-align: right;\n",
              "    }\n",
              "</style>\n",
              "<table border=\"1\" class=\"dataframe\">\n",
              "  <thead>\n",
              "    <tr style=\"text-align: right;\">\n",
              "      <th></th>\n",
              "      <th>BillNo</th>\n",
              "      <th>Itemname</th>\n",
              "      <th>Quantity</th>\n",
              "      <th>Date</th>\n",
              "      <th>Price</th>\n",
              "      <th>Country</th>\n",
              "      <th>Year</th>\n",
              "      <th>Month</th>\n",
              "      <th>Day</th>\n",
              "    </tr>\n",
              "  </thead>\n",
              "  <tbody>\n",
              "    <tr>\n",
              "      <th>0</th>\n",
              "      <td>536365</td>\n",
              "      <td>WHITE HANGING HEART T-LIGHT HOLDER</td>\n",
              "      <td>6</td>\n",
              "      <td>2010-12-01 08:26:00</td>\n",
              "      <td>2.55</td>\n",
              "      <td>United Kingdom</td>\n",
              "      <td>2010</td>\n",
              "      <td>12</td>\n",
              "      <td>1</td>\n",
              "    </tr>\n",
              "    <tr>\n",
              "      <th>1</th>\n",
              "      <td>536365</td>\n",
              "      <td>WHITE METAL LANTERN</td>\n",
              "      <td>6</td>\n",
              "      <td>2010-12-01 08:26:00</td>\n",
              "      <td>3.39</td>\n",
              "      <td>United Kingdom</td>\n",
              "      <td>2010</td>\n",
              "      <td>12</td>\n",
              "      <td>1</td>\n",
              "    </tr>\n",
              "    <tr>\n",
              "      <th>2</th>\n",
              "      <td>536365</td>\n",
              "      <td>CREAM CUPID HEARTS COAT HANGER</td>\n",
              "      <td>8</td>\n",
              "      <td>2010-12-01 08:26:00</td>\n",
              "      <td>2.75</td>\n",
              "      <td>United Kingdom</td>\n",
              "      <td>2010</td>\n",
              "      <td>12</td>\n",
              "      <td>1</td>\n",
              "    </tr>\n",
              "    <tr>\n",
              "      <th>3</th>\n",
              "      <td>536365</td>\n",
              "      <td>KNITTED UNION FLAG HOT WATER BOTTLE</td>\n",
              "      <td>6</td>\n",
              "      <td>2010-12-01 08:26:00</td>\n",
              "      <td>3.39</td>\n",
              "      <td>United Kingdom</td>\n",
              "      <td>2010</td>\n",
              "      <td>12</td>\n",
              "      <td>1</td>\n",
              "    </tr>\n",
              "    <tr>\n",
              "      <th>4</th>\n",
              "      <td>536365</td>\n",
              "      <td>RED WOOLLY HOTTIE WHITE HEART.</td>\n",
              "      <td>6</td>\n",
              "      <td>2010-12-01 08:26:00</td>\n",
              "      <td>3.39</td>\n",
              "      <td>United Kingdom</td>\n",
              "      <td>2010</td>\n",
              "      <td>12</td>\n",
              "      <td>1</td>\n",
              "    </tr>\n",
              "    <tr>\n",
              "      <th>...</th>\n",
              "      <td>...</td>\n",
              "      <td>...</td>\n",
              "      <td>...</td>\n",
              "      <td>...</td>\n",
              "      <td>...</td>\n",
              "      <td>...</td>\n",
              "      <td>...</td>\n",
              "      <td>...</td>\n",
              "      <td>...</td>\n",
              "    </tr>\n",
              "    <tr>\n",
              "      <th>522059</th>\n",
              "      <td>581587</td>\n",
              "      <td>PACK OF 20 SPACEBOY NAPKINS</td>\n",
              "      <td>12</td>\n",
              "      <td>2011-12-09 12:50:00</td>\n",
              "      <td>0.85</td>\n",
              "      <td>France</td>\n",
              "      <td>2011</td>\n",
              "      <td>12</td>\n",
              "      <td>9</td>\n",
              "    </tr>\n",
              "    <tr>\n",
              "      <th>522060</th>\n",
              "      <td>581587</td>\n",
              "      <td>CHILDREN'S APRON DOLLY GIRL</td>\n",
              "      <td>6</td>\n",
              "      <td>2011-12-09 12:50:00</td>\n",
              "      <td>2.10</td>\n",
              "      <td>France</td>\n",
              "      <td>2011</td>\n",
              "      <td>12</td>\n",
              "      <td>9</td>\n",
              "    </tr>\n",
              "    <tr>\n",
              "      <th>522061</th>\n",
              "      <td>581587</td>\n",
              "      <td>CHILDRENS CUTLERY DOLLY GIRL</td>\n",
              "      <td>4</td>\n",
              "      <td>2011-12-09 12:50:00</td>\n",
              "      <td>4.15</td>\n",
              "      <td>France</td>\n",
              "      <td>2011</td>\n",
              "      <td>12</td>\n",
              "      <td>9</td>\n",
              "    </tr>\n",
              "    <tr>\n",
              "      <th>522062</th>\n",
              "      <td>581587</td>\n",
              "      <td>CHILDRENS CUTLERY CIRCUS PARADE</td>\n",
              "      <td>4</td>\n",
              "      <td>2011-12-09 12:50:00</td>\n",
              "      <td>4.15</td>\n",
              "      <td>France</td>\n",
              "      <td>2011</td>\n",
              "      <td>12</td>\n",
              "      <td>9</td>\n",
              "    </tr>\n",
              "    <tr>\n",
              "      <th>522063</th>\n",
              "      <td>581587</td>\n",
              "      <td>BAKING SET 9 PIECE RETROSPOT</td>\n",
              "      <td>3</td>\n",
              "      <td>2011-12-09 12:50:00</td>\n",
              "      <td>4.95</td>\n",
              "      <td>France</td>\n",
              "      <td>2011</td>\n",
              "      <td>12</td>\n",
              "      <td>9</td>\n",
              "    </tr>\n",
              "  </tbody>\n",
              "</table>\n",
              "<p>520609 rows × 9 columns</p>\n",
              "</div>"
            ],
            "text/plain": [
              "        BillNo                             Itemname  Quantity  \\\n",
              "0       536365   WHITE HANGING HEART T-LIGHT HOLDER         6   \n",
              "1       536365                  WHITE METAL LANTERN         6   \n",
              "2       536365       CREAM CUPID HEARTS COAT HANGER         8   \n",
              "3       536365  KNITTED UNION FLAG HOT WATER BOTTLE         6   \n",
              "4       536365       RED WOOLLY HOTTIE WHITE HEART.         6   \n",
              "...        ...                                  ...       ...   \n",
              "522059  581587          PACK OF 20 SPACEBOY NAPKINS        12   \n",
              "522060  581587          CHILDREN'S APRON DOLLY GIRL         6   \n",
              "522061  581587         CHILDRENS CUTLERY DOLLY GIRL         4   \n",
              "522062  581587      CHILDRENS CUTLERY CIRCUS PARADE         4   \n",
              "522063  581587         BAKING SET 9 PIECE RETROSPOT         3   \n",
              "\n",
              "                      Date  Price         Country  Year  Month  Day  \n",
              "0      2010-12-01 08:26:00   2.55  United Kingdom  2010     12    1  \n",
              "1      2010-12-01 08:26:00   3.39  United Kingdom  2010     12    1  \n",
              "2      2010-12-01 08:26:00   2.75  United Kingdom  2010     12    1  \n",
              "3      2010-12-01 08:26:00   3.39  United Kingdom  2010     12    1  \n",
              "4      2010-12-01 08:26:00   3.39  United Kingdom  2010     12    1  \n",
              "...                    ...    ...             ...   ...    ...  ...  \n",
              "522059 2011-12-09 12:50:00   0.85          France  2011     12    9  \n",
              "522060 2011-12-09 12:50:00   2.10          France  2011     12    9  \n",
              "522061 2011-12-09 12:50:00   4.15          France  2011     12    9  \n",
              "522062 2011-12-09 12:50:00   4.15          France  2011     12    9  \n",
              "522063 2011-12-09 12:50:00   4.95          France  2011     12    9  \n",
              "\n",
              "[520609 rows x 9 columns]"
            ]
          },
          "execution_count": 8,
          "metadata": {},
          "output_type": "execute_result"
        }
      ],
      "source": [
        "df1"
      ]
    },
    {
      "cell_type": "markdown",
      "id": "bac82853",
      "metadata": {
        "id": "bac82853"
      },
      "source": [
        "### Vou trabalhar com um segundo df para verificar algumas coisas."
      ]
    },
    {
      "cell_type": "code",
      "execution_count": null,
      "id": "32221d50",
      "metadata": {
        "id": "32221d50",
        "outputId": "83acf160-4b39-4370-e104-c95918044a0a"
      },
      "outputs": [
        {
          "data": {
            "text/plain": [
              "array(['United Kingdom', 'France', 'Australia', 'Netherlands', 'Germany',\n",
              "       'Norway', 'Switzerland', 'Spain', 'Poland', 'Portugal', 'Italy',\n",
              "       'Belgium', 'Lithuania', 'Japan', 'Iceland', 'Sweden', 'Austria',\n",
              "       'Bahrain', 'Israel', 'Greece', 'Hong Kong', 'Singapore', 'Lebanon',\n",
              "       'United Arab Emirates', 'Saudi Arabia', 'Unspecified', 'Brazil',\n",
              "       'USA', 'Malta', 'RSA'], dtype=object)"
            ]
          },
          "execution_count": 9,
          "metadata": {},
          "output_type": "execute_result"
        }
      ],
      "source": [
        "# Vou criar um segundo df\n",
        "df2 = df1.copy()\n",
        "\n",
        "# Verficar quais Paises Existem no df2\n",
        "df2.Country.unique()"
      ]
    },
    {
      "cell_type": "markdown",
      "id": "a431c4c4",
      "metadata": {
        "id": "a431c4c4"
      },
      "source": [
        "### A ideia principal de fazer esse unique(), foi exatamente para poder construir um dicionario com todos os paises existentes no data set e poder colocar dentro da regiao ou continente correspondente"
      ]
    },
    {
      "cell_type": "code",
      "execution_count": null,
      "id": "52a3c78c",
      "metadata": {
        "id": "52a3c78c"
      },
      "outputs": [],
      "source": [
        "dict_1 = {\n",
        "\n",
        "    'Germany':'Germanic Countries', \n",
        "    'Switzerland':'Germanic Countries',\n",
        "    'Austria':'Germanic Countries',\n",
        "\n",
        "    'Belgium':'Benelux',\n",
        "    'Netherlands':'Benelux',\n",
        "\n",
        "    'France':'Western Europe',\n",
        "    'Monaco':'Western Europe',\n",
        "\n",
        "    'Spain':'Southern Europe',\n",
        "    'Greece':'Southern Europe',\n",
        "    'Italy':'Southern Europe',\n",
        "    'Portugal':'Southern Europe',\n",
        "    'Malta':'Southern Europe',\n",
        "\n",
        "    'Poland':'Eastern Europe',\n",
        "\n",
        "    'Sweden':'Northern Europe',\n",
        "    'Norway':'Northern Europe',\n",
        "    'Lithuania':'Northern Europe',\n",
        "    'United Kingdom':'Northern Europe',\n",
        "\n",
        "    'Australia':'Oceania',\n",
        "\n",
        "    'Iceland':'Continental Europe',\n",
        "\n",
        "    'Japan':'Far East',\n",
        "    'Hong Kong':'Far East',\n",
        "\n",
        "    'Saudi Arabia':'Middle East',\n",
        "    'United Arab Emirates':'Middle East',\n",
        "    'Bahrain':'Middle East',\n",
        "    'Lebanon':'Middle East',\n",
        "    'Israel':'Middle East',\n",
        "\n",
        "    'Singapore':'Southeast Asia',\n",
        "\n",
        "    'Brazil': 'South America',\n",
        "\n",
        "    'USA':'North America',\n",
        "\n",
        "    'RSA':'South Africa',\n",
        "\n",
        "    'Unspecified':'Unspecified'    \n",
        "}\n",
        "\n",
        "df2['Zoning'] = df1['Country'].replace(dict_1)"
      ]
    },
    {
      "cell_type": "markdown",
      "id": "57bd5044",
      "metadata": {
        "id": "57bd5044"
      },
      "source": [
        "\n",
        "### Resultado desse desse dicionario é uma nova coluna chamda 'Zoning' para melhorar nossa analise, e agora podemos fazer uma analise de continente x paises, agrupando alguns resultados"
      ]
    },
    {
      "cell_type": "code",
      "execution_count": null,
      "id": "a728787d",
      "metadata": {
        "id": "a728787d",
        "outputId": "c0b477bb-cfa5-42d4-e016-806367c9ce0b"
      },
      "outputs": [
        {
          "data": {
            "text/html": [
              "<div>\n",
              "<style scoped>\n",
              "    .dataframe tbody tr th:only-of-type {\n",
              "        vertical-align: middle;\n",
              "    }\n",
              "\n",
              "    .dataframe tbody tr th {\n",
              "        vertical-align: top;\n",
              "    }\n",
              "\n",
              "    .dataframe thead th {\n",
              "        text-align: right;\n",
              "    }\n",
              "</style>\n",
              "<table border=\"1\" class=\"dataframe\">\n",
              "  <thead>\n",
              "    <tr style=\"text-align: right;\">\n",
              "      <th></th>\n",
              "      <th>BillNo</th>\n",
              "      <th>Itemname</th>\n",
              "      <th>Quantity</th>\n",
              "      <th>Date</th>\n",
              "      <th>Price</th>\n",
              "      <th>Country</th>\n",
              "      <th>Year</th>\n",
              "      <th>Month</th>\n",
              "      <th>Day</th>\n",
              "      <th>Zoning</th>\n",
              "    </tr>\n",
              "  </thead>\n",
              "  <tbody>\n",
              "    <tr>\n",
              "      <th>0</th>\n",
              "      <td>536365</td>\n",
              "      <td>WHITE HANGING HEART T-LIGHT HOLDER</td>\n",
              "      <td>6</td>\n",
              "      <td>2010-12-01 08:26:00</td>\n",
              "      <td>2.55</td>\n",
              "      <td>United Kingdom</td>\n",
              "      <td>2010</td>\n",
              "      <td>12</td>\n",
              "      <td>1</td>\n",
              "      <td>Northern Europe</td>\n",
              "    </tr>\n",
              "    <tr>\n",
              "      <th>1</th>\n",
              "      <td>536365</td>\n",
              "      <td>WHITE METAL LANTERN</td>\n",
              "      <td>6</td>\n",
              "      <td>2010-12-01 08:26:00</td>\n",
              "      <td>3.39</td>\n",
              "      <td>United Kingdom</td>\n",
              "      <td>2010</td>\n",
              "      <td>12</td>\n",
              "      <td>1</td>\n",
              "      <td>Northern Europe</td>\n",
              "    </tr>\n",
              "    <tr>\n",
              "      <th>2</th>\n",
              "      <td>536365</td>\n",
              "      <td>CREAM CUPID HEARTS COAT HANGER</td>\n",
              "      <td>8</td>\n",
              "      <td>2010-12-01 08:26:00</td>\n",
              "      <td>2.75</td>\n",
              "      <td>United Kingdom</td>\n",
              "      <td>2010</td>\n",
              "      <td>12</td>\n",
              "      <td>1</td>\n",
              "      <td>Northern Europe</td>\n",
              "    </tr>\n",
              "    <tr>\n",
              "      <th>3</th>\n",
              "      <td>536365</td>\n",
              "      <td>KNITTED UNION FLAG HOT WATER BOTTLE</td>\n",
              "      <td>6</td>\n",
              "      <td>2010-12-01 08:26:00</td>\n",
              "      <td>3.39</td>\n",
              "      <td>United Kingdom</td>\n",
              "      <td>2010</td>\n",
              "      <td>12</td>\n",
              "      <td>1</td>\n",
              "      <td>Northern Europe</td>\n",
              "    </tr>\n",
              "    <tr>\n",
              "      <th>4</th>\n",
              "      <td>536365</td>\n",
              "      <td>RED WOOLLY HOTTIE WHITE HEART.</td>\n",
              "      <td>6</td>\n",
              "      <td>2010-12-01 08:26:00</td>\n",
              "      <td>3.39</td>\n",
              "      <td>United Kingdom</td>\n",
              "      <td>2010</td>\n",
              "      <td>12</td>\n",
              "      <td>1</td>\n",
              "      <td>Northern Europe</td>\n",
              "    </tr>\n",
              "    <tr>\n",
              "      <th>...</th>\n",
              "      <td>...</td>\n",
              "      <td>...</td>\n",
              "      <td>...</td>\n",
              "      <td>...</td>\n",
              "      <td>...</td>\n",
              "      <td>...</td>\n",
              "      <td>...</td>\n",
              "      <td>...</td>\n",
              "      <td>...</td>\n",
              "      <td>...</td>\n",
              "    </tr>\n",
              "    <tr>\n",
              "      <th>522059</th>\n",
              "      <td>581587</td>\n",
              "      <td>PACK OF 20 SPACEBOY NAPKINS</td>\n",
              "      <td>12</td>\n",
              "      <td>2011-12-09 12:50:00</td>\n",
              "      <td>0.85</td>\n",
              "      <td>France</td>\n",
              "      <td>2011</td>\n",
              "      <td>12</td>\n",
              "      <td>9</td>\n",
              "      <td>Western Europe</td>\n",
              "    </tr>\n",
              "    <tr>\n",
              "      <th>522060</th>\n",
              "      <td>581587</td>\n",
              "      <td>CHILDREN'S APRON DOLLY GIRL</td>\n",
              "      <td>6</td>\n",
              "      <td>2011-12-09 12:50:00</td>\n",
              "      <td>2.10</td>\n",
              "      <td>France</td>\n",
              "      <td>2011</td>\n",
              "      <td>12</td>\n",
              "      <td>9</td>\n",
              "      <td>Western Europe</td>\n",
              "    </tr>\n",
              "    <tr>\n",
              "      <th>522061</th>\n",
              "      <td>581587</td>\n",
              "      <td>CHILDRENS CUTLERY DOLLY GIRL</td>\n",
              "      <td>4</td>\n",
              "      <td>2011-12-09 12:50:00</td>\n",
              "      <td>4.15</td>\n",
              "      <td>France</td>\n",
              "      <td>2011</td>\n",
              "      <td>12</td>\n",
              "      <td>9</td>\n",
              "      <td>Western Europe</td>\n",
              "    </tr>\n",
              "    <tr>\n",
              "      <th>522062</th>\n",
              "      <td>581587</td>\n",
              "      <td>CHILDRENS CUTLERY CIRCUS PARADE</td>\n",
              "      <td>4</td>\n",
              "      <td>2011-12-09 12:50:00</td>\n",
              "      <td>4.15</td>\n",
              "      <td>France</td>\n",
              "      <td>2011</td>\n",
              "      <td>12</td>\n",
              "      <td>9</td>\n",
              "      <td>Western Europe</td>\n",
              "    </tr>\n",
              "    <tr>\n",
              "      <th>522063</th>\n",
              "      <td>581587</td>\n",
              "      <td>BAKING SET 9 PIECE RETROSPOT</td>\n",
              "      <td>3</td>\n",
              "      <td>2011-12-09 12:50:00</td>\n",
              "      <td>4.95</td>\n",
              "      <td>France</td>\n",
              "      <td>2011</td>\n",
              "      <td>12</td>\n",
              "      <td>9</td>\n",
              "      <td>Western Europe</td>\n",
              "    </tr>\n",
              "  </tbody>\n",
              "</table>\n",
              "<p>520609 rows × 10 columns</p>\n",
              "</div>"
            ],
            "text/plain": [
              "        BillNo                             Itemname  Quantity  \\\n",
              "0       536365   WHITE HANGING HEART T-LIGHT HOLDER         6   \n",
              "1       536365                  WHITE METAL LANTERN         6   \n",
              "2       536365       CREAM CUPID HEARTS COAT HANGER         8   \n",
              "3       536365  KNITTED UNION FLAG HOT WATER BOTTLE         6   \n",
              "4       536365       RED WOOLLY HOTTIE WHITE HEART.         6   \n",
              "...        ...                                  ...       ...   \n",
              "522059  581587          PACK OF 20 SPACEBOY NAPKINS        12   \n",
              "522060  581587          CHILDREN'S APRON DOLLY GIRL         6   \n",
              "522061  581587         CHILDRENS CUTLERY DOLLY GIRL         4   \n",
              "522062  581587      CHILDRENS CUTLERY CIRCUS PARADE         4   \n",
              "522063  581587         BAKING SET 9 PIECE RETROSPOT         3   \n",
              "\n",
              "                      Date  Price         Country  Year  Month  Day  \\\n",
              "0      2010-12-01 08:26:00   2.55  United Kingdom  2010     12    1   \n",
              "1      2010-12-01 08:26:00   3.39  United Kingdom  2010     12    1   \n",
              "2      2010-12-01 08:26:00   2.75  United Kingdom  2010     12    1   \n",
              "3      2010-12-01 08:26:00   3.39  United Kingdom  2010     12    1   \n",
              "4      2010-12-01 08:26:00   3.39  United Kingdom  2010     12    1   \n",
              "...                    ...    ...             ...   ...    ...  ...   \n",
              "522059 2011-12-09 12:50:00   0.85          France  2011     12    9   \n",
              "522060 2011-12-09 12:50:00   2.10          France  2011     12    9   \n",
              "522061 2011-12-09 12:50:00   4.15          France  2011     12    9   \n",
              "522062 2011-12-09 12:50:00   4.15          France  2011     12    9   \n",
              "522063 2011-12-09 12:50:00   4.95          France  2011     12    9   \n",
              "\n",
              "                 Zoning  \n",
              "0       Northern Europe  \n",
              "1       Northern Europe  \n",
              "2       Northern Europe  \n",
              "3       Northern Europe  \n",
              "4       Northern Europe  \n",
              "...                 ...  \n",
              "522059   Western Europe  \n",
              "522060   Western Europe  \n",
              "522061   Western Europe  \n",
              "522062   Western Europe  \n",
              "522063   Western Europe  \n",
              "\n",
              "[520609 rows x 10 columns]"
            ]
          },
          "execution_count": 11,
          "metadata": {},
          "output_type": "execute_result"
        }
      ],
      "source": [
        "df2\n"
      ]
    },
    {
      "cell_type": "markdown",
      "id": "edc1d27d",
      "metadata": {
        "id": "edc1d27d"
      },
      "source": [
        "### EDA Relação dos paises com continentes\n"
      ]
    },
    {
      "cell_type": "markdown",
      "id": "bd5854c2",
      "metadata": {
        "id": "bd5854c2"
      },
      "source": [
        "### Verificação de Valores dos continentes e /ou regioes estão completos ou falta nomear algum.\n"
      ]
    },
    {
      "cell_type": "code",
      "execution_count": null,
      "id": "5b170c4b",
      "metadata": {
        "id": "5b170c4b",
        "outputId": "a8e50224-3780-4fde-9bde-03567488b6c6"
      },
      "outputs": [
        {
          "data": {
            "text/plain": [
              "Northern Europe       487725\n",
              "Germanic Countries     11407\n",
              "Western Europe          8408\n",
              "Southern Europe         5001\n",
              "Benelux                 4394\n",
              "Oceania                 1185\n",
              "Far East                 605\n",
              "Unspecified              446\n",
              "Middle East              435\n",
              "Eastern Europe           330\n",
              "Southeast Asia           222\n",
              "Continental Europe       182\n",
              "North America            179\n",
              "South Africa              58\n",
              "South America             32\n",
              "Name: Zoning, dtype: int64"
            ]
          },
          "execution_count": 12,
          "metadata": {},
          "output_type": "execute_result"
        }
      ],
      "source": [
        "# Verificação de valores em Zoning\n",
        "df2.Zoning.value_counts()"
      ]
    },
    {
      "cell_type": "markdown",
      "id": "65f41c47",
      "metadata": {
        "id": "65f41c47"
      },
      "source": [
        "\n",
        "### Pode-se observar que na regiao de Northern Europe que contem os paises Sweeden, Norway, United Kingdom e Lithuania  tem maior quantidade de pedidos"
      ]
    },
    {
      "cell_type": "code",
      "execution_count": null,
      "id": "532a6248",
      "metadata": {
        "id": "532a6248",
        "outputId": "925955b8-8765-4e40-dc81-1773910f97c6"
      },
      "outputs": [
        {
          "data": {
            "text/html": [
              "<div>\n",
              "<style scoped>\n",
              "    .dataframe tbody tr th:only-of-type {\n",
              "        vertical-align: middle;\n",
              "    }\n",
              "\n",
              "    .dataframe tbody tr th {\n",
              "        vertical-align: top;\n",
              "    }\n",
              "\n",
              "    .dataframe thead th {\n",
              "        text-align: right;\n",
              "    }\n",
              "</style>\n",
              "<table border=\"1\" class=\"dataframe\">\n",
              "  <thead>\n",
              "    <tr style=\"text-align: right;\">\n",
              "      <th></th>\n",
              "      <th>Quantity</th>\n",
              "      <th>Price</th>\n",
              "    </tr>\n",
              "  </thead>\n",
              "  <tbody>\n",
              "    <tr>\n",
              "      <th>count</th>\n",
              "      <td>520609.000000</td>\n",
              "      <td>520609.000000</td>\n",
              "    </tr>\n",
              "    <tr>\n",
              "      <th>mean</th>\n",
              "      <td>10.145545</td>\n",
              "      <td>3.837497</td>\n",
              "    </tr>\n",
              "    <tr>\n",
              "      <th>std</th>\n",
              "      <td>160.818639</td>\n",
              "      <td>41.958621</td>\n",
              "    </tr>\n",
              "    <tr>\n",
              "      <th>min</th>\n",
              "      <td>-9600.000000</td>\n",
              "      <td>-11062.060000</td>\n",
              "    </tr>\n",
              "    <tr>\n",
              "      <th>25%</th>\n",
              "      <td>1.000000</td>\n",
              "      <td>1.250000</td>\n",
              "    </tr>\n",
              "    <tr>\n",
              "      <th>50%</th>\n",
              "      <td>3.000000</td>\n",
              "      <td>2.080000</td>\n",
              "    </tr>\n",
              "    <tr>\n",
              "      <th>75%</th>\n",
              "      <td>10.000000</td>\n",
              "      <td>4.130000</td>\n",
              "    </tr>\n",
              "    <tr>\n",
              "      <th>max</th>\n",
              "      <td>80995.000000</td>\n",
              "      <td>13541.330000</td>\n",
              "    </tr>\n",
              "  </tbody>\n",
              "</table>\n",
              "</div>"
            ],
            "text/plain": [
              "            Quantity          Price\n",
              "count  520609.000000  520609.000000\n",
              "mean       10.145545       3.837497\n",
              "std       160.818639      41.958621\n",
              "min     -9600.000000  -11062.060000\n",
              "25%         1.000000       1.250000\n",
              "50%         3.000000       2.080000\n",
              "75%        10.000000       4.130000\n",
              "max     80995.000000   13541.330000"
            ]
          },
          "execution_count": 13,
          "metadata": {},
          "output_type": "execute_result"
        }
      ],
      "source": [
        "# Verificação de algumas estatisticas\n",
        "df2[['Quantity','Price']].describe()"
      ]
    },
    {
      "cell_type": "markdown",
      "id": "a022a78d",
      "metadata": {
        "id": "a022a78d"
      },
      "source": [
        "### Nessa Breve estatistica, podemos perceber que o valor minimo  está negativo e vamos conferir.\n"
      ]
    },
    {
      "cell_type": "code",
      "execution_count": null,
      "id": "ee0c982a",
      "metadata": {
        "id": "ee0c982a",
        "outputId": "ff4ff5b0-b0ae-4bf0-dc86-f26c793d1436"
      },
      "outputs": [
        {
          "data": {
            "text/html": [
              "<div>\n",
              "<style scoped>\n",
              "    .dataframe tbody tr th:only-of-type {\n",
              "        vertical-align: middle;\n",
              "    }\n",
              "\n",
              "    .dataframe tbody tr th {\n",
              "        vertical-align: top;\n",
              "    }\n",
              "\n",
              "    .dataframe thead th {\n",
              "        text-align: right;\n",
              "    }\n",
              "</style>\n",
              "<table border=\"1\" class=\"dataframe\">\n",
              "  <thead>\n",
              "    <tr style=\"text-align: right;\">\n",
              "      <th></th>\n",
              "      <th>BillNo</th>\n",
              "      <th>Itemname</th>\n",
              "      <th>Quantity</th>\n",
              "      <th>Date</th>\n",
              "      <th>Price</th>\n",
              "      <th>Country</th>\n",
              "      <th>Year</th>\n",
              "      <th>Month</th>\n",
              "      <th>Day</th>\n",
              "      <th>Zoning</th>\n",
              "    </tr>\n",
              "  </thead>\n",
              "  <tbody>\n",
              "    <tr>\n",
              "      <th>7122</th>\n",
              "      <td>537032</td>\n",
              "      <td>?</td>\n",
              "      <td>-30</td>\n",
              "      <td>2010-12-03 16:50:00</td>\n",
              "      <td>0.0</td>\n",
              "      <td>United Kingdom</td>\n",
              "      <td>2010</td>\n",
              "      <td>12</td>\n",
              "      <td>3</td>\n",
              "      <td>Northern Europe</td>\n",
              "    </tr>\n",
              "    <tr>\n",
              "      <th>12926</th>\n",
              "      <td>537425</td>\n",
              "      <td>check</td>\n",
              "      <td>-20</td>\n",
              "      <td>2010-12-06 15:35:00</td>\n",
              "      <td>0.0</td>\n",
              "      <td>United Kingdom</td>\n",
              "      <td>2010</td>\n",
              "      <td>12</td>\n",
              "      <td>6</td>\n",
              "      <td>Northern Europe</td>\n",
              "    </tr>\n",
              "    <tr>\n",
              "      <th>12927</th>\n",
              "      <td>537426</td>\n",
              "      <td>check</td>\n",
              "      <td>-35</td>\n",
              "      <td>2010-12-06 15:36:00</td>\n",
              "      <td>0.0</td>\n",
              "      <td>United Kingdom</td>\n",
              "      <td>2010</td>\n",
              "      <td>12</td>\n",
              "      <td>6</td>\n",
              "      <td>Northern Europe</td>\n",
              "    </tr>\n",
              "    <tr>\n",
              "      <th>12973</th>\n",
              "      <td>537432</td>\n",
              "      <td>damages</td>\n",
              "      <td>-43</td>\n",
              "      <td>2010-12-06 16:10:00</td>\n",
              "      <td>0.0</td>\n",
              "      <td>United Kingdom</td>\n",
              "      <td>2010</td>\n",
              "      <td>12</td>\n",
              "      <td>6</td>\n",
              "      <td>Northern Europe</td>\n",
              "    </tr>\n",
              "    <tr>\n",
              "      <th>20844</th>\n",
              "      <td>538072</td>\n",
              "      <td>faulty</td>\n",
              "      <td>-13</td>\n",
              "      <td>2010-12-09 14:10:00</td>\n",
              "      <td>0.0</td>\n",
              "      <td>United Kingdom</td>\n",
              "      <td>2010</td>\n",
              "      <td>12</td>\n",
              "      <td>9</td>\n",
              "      <td>Northern Europe</td>\n",
              "    </tr>\n",
              "    <tr>\n",
              "      <th>...</th>\n",
              "      <td>...</td>\n",
              "      <td>...</td>\n",
              "      <td>...</td>\n",
              "      <td>...</td>\n",
              "      <td>...</td>\n",
              "      <td>...</td>\n",
              "      <td>...</td>\n",
              "      <td>...</td>\n",
              "      <td>...</td>\n",
              "      <td>...</td>\n",
              "    </tr>\n",
              "    <tr>\n",
              "      <th>515634</th>\n",
              "      <td>581210</td>\n",
              "      <td>check</td>\n",
              "      <td>-26</td>\n",
              "      <td>2011-12-07 18:36:00</td>\n",
              "      <td>0.0</td>\n",
              "      <td>United Kingdom</td>\n",
              "      <td>2011</td>\n",
              "      <td>12</td>\n",
              "      <td>7</td>\n",
              "      <td>Northern Europe</td>\n",
              "    </tr>\n",
              "    <tr>\n",
              "      <th>515636</th>\n",
              "      <td>581212</td>\n",
              "      <td>lost</td>\n",
              "      <td>-1050</td>\n",
              "      <td>2011-12-07 18:38:00</td>\n",
              "      <td>0.0</td>\n",
              "      <td>United Kingdom</td>\n",
              "      <td>2011</td>\n",
              "      <td>12</td>\n",
              "      <td>7</td>\n",
              "      <td>Northern Europe</td>\n",
              "    </tr>\n",
              "    <tr>\n",
              "      <th>515637</th>\n",
              "      <td>581213</td>\n",
              "      <td>check</td>\n",
              "      <td>-30</td>\n",
              "      <td>2011-12-07 18:38:00</td>\n",
              "      <td>0.0</td>\n",
              "      <td>United Kingdom</td>\n",
              "      <td>2011</td>\n",
              "      <td>12</td>\n",
              "      <td>7</td>\n",
              "      <td>Northern Europe</td>\n",
              "    </tr>\n",
              "    <tr>\n",
              "      <th>517209</th>\n",
              "      <td>581226</td>\n",
              "      <td>missing</td>\n",
              "      <td>-338</td>\n",
              "      <td>2011-12-08 09:56:00</td>\n",
              "      <td>0.0</td>\n",
              "      <td>United Kingdom</td>\n",
              "      <td>2011</td>\n",
              "      <td>12</td>\n",
              "      <td>8</td>\n",
              "      <td>Northern Europe</td>\n",
              "    </tr>\n",
              "    <tr>\n",
              "      <th>519172</th>\n",
              "      <td>581422</td>\n",
              "      <td>smashed</td>\n",
              "      <td>-235</td>\n",
              "      <td>2011-12-08 15:24:00</td>\n",
              "      <td>0.0</td>\n",
              "      <td>United Kingdom</td>\n",
              "      <td>2011</td>\n",
              "      <td>12</td>\n",
              "      <td>8</td>\n",
              "      <td>Northern Europe</td>\n",
              "    </tr>\n",
              "  </tbody>\n",
              "</table>\n",
              "<p>473 rows × 10 columns</p>\n",
              "</div>"
            ],
            "text/plain": [
              "        BillNo Itemname  Quantity                Date  Price         Country  \\\n",
              "7122    537032        ?       -30 2010-12-03 16:50:00    0.0  United Kingdom   \n",
              "12926   537425    check       -20 2010-12-06 15:35:00    0.0  United Kingdom   \n",
              "12927   537426    check       -35 2010-12-06 15:36:00    0.0  United Kingdom   \n",
              "12973   537432  damages       -43 2010-12-06 16:10:00    0.0  United Kingdom   \n",
              "20844   538072   faulty       -13 2010-12-09 14:10:00    0.0  United Kingdom   \n",
              "...        ...      ...       ...                 ...    ...             ...   \n",
              "515634  581210    check       -26 2011-12-07 18:36:00    0.0  United Kingdom   \n",
              "515636  581212     lost     -1050 2011-12-07 18:38:00    0.0  United Kingdom   \n",
              "515637  581213    check       -30 2011-12-07 18:38:00    0.0  United Kingdom   \n",
              "517209  581226  missing      -338 2011-12-08 09:56:00    0.0  United Kingdom   \n",
              "519172  581422  smashed      -235 2011-12-08 15:24:00    0.0  United Kingdom   \n",
              "\n",
              "        Year  Month  Day           Zoning  \n",
              "7122    2010     12    3  Northern Europe  \n",
              "12926   2010     12    6  Northern Europe  \n",
              "12927   2010     12    6  Northern Europe  \n",
              "12973   2010     12    6  Northern Europe  \n",
              "20844   2010     12    9  Northern Europe  \n",
              "...      ...    ...  ...              ...  \n",
              "515634  2011     12    7  Northern Europe  \n",
              "515636  2011     12    7  Northern Europe  \n",
              "515637  2011     12    7  Northern Europe  \n",
              "517209  2011     12    8  Northern Europe  \n",
              "519172  2011     12    8  Northern Europe  \n",
              "\n",
              "[473 rows x 10 columns]"
            ]
          },
          "execution_count": 14,
          "metadata": {},
          "output_type": "execute_result"
        }
      ],
      "source": [
        "sac = df2[df2['Quantity']<1]\n",
        "sac"
      ]
    },
    {
      "cell_type": "markdown",
      "id": "f9e5457d",
      "metadata": {
        "id": "f9e5457d"
      },
      "source": [
        "### Achamos valores de itemname check,damages,etc. Será que é devolução para ser de valor negativo na quantidade e 0 no preço?\n"
      ]
    },
    {
      "cell_type": "markdown",
      "id": "0ea9560a",
      "metadata": {
        "id": "0ea9560a"
      },
      "source": [
        "### Verificamos items com unique() para ver quais sao os problemas\n"
      ]
    },
    {
      "cell_type": "code",
      "execution_count": null,
      "id": "ff2da49e",
      "metadata": {
        "id": "ff2da49e",
        "outputId": "d9dc19a5-906c-4cde-e134-b7aa112e34fe"
      },
      "outputs": [
        {
          "data": {
            "text/plain": [
              "array(['?', 'check', 'damages', 'faulty', 'Dotcom sales',\n",
              "       'reverse 21/5/10 adjustment', 'mouldy, thrown away.', 'counted',\n",
              "       'Given away', 'Dotcom', 'label mix up', 'samples/damages',\n",
              "       'thrown away', 'incorrectly made-thrown away.', 'showroom', 'MIA',\n",
              "       'Dotcom set', 'wrongly sold as sets', 'Amazon sold sets',\n",
              "       'dotcom sold sets', 'wrongly sold sets', '? sold as sets?',\n",
              "       '?sold as sets?', 'Thrown away.', 'damages/display',\n",
              "       'damaged stock', 'broken', 'throw away', 'wrong barcode (22467)',\n",
              "       'wrong barcode', 'barcode problem', '?lost',\n",
              "       \"thrown away-can't sell.\", \"thrown away-can't sell\", 'damages?',\n",
              "       're dotcom quick fix.', \"Dotcom sold in 6's\", 'sold in set?',\n",
              "       'cracked', 'sold as 22467', 'Damaged',\n",
              "       'mystery! Only ever imported 1800',\n",
              "       'MERCHANT CHANDLER CREDIT ERROR, STO', 'POSSIBLE DAMAGES OR LOST?',\n",
              "       'damaged', 'DAMAGED', 'Display', 'Missing', 'wrong code?',\n",
              "       'wrong code', 'adjust', 'crushed', 'damages/showroom etc',\n",
              "       'samples', 'damages/credits from ASOS.',\n",
              "       'Not rcvd in 10/11/2010 delivery', 'Thrown away-rusty',\n",
              "       'sold as set/6 by dotcom', 'wet/rusty', 'damages/dotcom?',\n",
              "       'smashed', 'reverse previous adjustment',\n",
              "       'incorrectly credited C550456 see 47', 'wet damaged',\n",
              "       'Water damaged', 'missing', 'sold as set on dotcom',\n",
              "       'sold as set on dotcom and amazon', 'water damage',\n",
              "       'sold as set by dotcom', 'Printing smudges/thrown away',\n",
              "       'printing smudges/thrown away', 'found some more on shelf',\n",
              "       'Show Samples', 'mix up with c', 'mouldy, unsaleable.',\n",
              "       'wrongly marked. 23343 in box', 'stock creditted wrongly', 'ebay',\n",
              "       'incorrectly put back into stock', 'Damages/samples',\n",
              "       'Sold as 1 on dotcom', 'taig adjust no stock',\n",
              "       'code mix up? 84930', '?display?', 'sold as 1', '?missing',\n",
              "       'crushed ctn', 'Crushed', 'temp adjustment', '??', 'test',\n",
              "       'OOPS ! adjustment', 'Dagamed',\n",
              "       'historic computer difference?....se', 'Incorrect stock entry.',\n",
              "       'incorrect stock entry.', 'wrongly coded-23343', 'stock check',\n",
              "       'crushed boxes', 'WET/MOULDY', \"can't find\", 'mouldy',\n",
              "       'Wet pallet-thrown away', 'adjustment', '20713 wrongly marked',\n",
              "       're-adjustment', 'Breakages', 'wrongly coded 20713', 'Damages',\n",
              "       'CHECK', 'Unsaleable, destroyed.', 'dotcom sales', 'damages wax',\n",
              "       'water damaged', 'Wrongly mrked had 85123a in box',\n",
              "       'wrongly marked carton 22804', 'missing?', 'wet rusty', '???lost',\n",
              "       'sold with wrong barcode', 'rusty thrown away', 'rusty throw away',\n",
              "       'dotcom', '?? missing', 'wet pallet', '????missing', '???missing',\n",
              "       'lost in space', 'wet?', 'lost??', '???', 'wet', 'wet boxes',\n",
              "       '????damages????', 'mixed up', 'lost'], dtype=object)"
            ]
          },
          "execution_count": 15,
          "metadata": {},
          "output_type": "execute_result"
        }
      ],
      "source": [
        "sac.Itemname.unique()"
      ]
    },
    {
      "cell_type": "markdown",
      "id": "e312c907",
      "metadata": {
        "id": "e312c907"
      },
      "source": [
        "### Sabendo quais são os elementos que estao negativos, e que formam parte do sac, vamos contabilizar e oq faremos com eles é fazer uma analise  de frequencia "
      ]
    },
    {
      "cell_type": "code",
      "execution_count": null,
      "id": "274d5578",
      "metadata": {
        "id": "274d5578",
        "outputId": "770ed748-0f77-4953-e161-872c06763a87"
      },
      "outputs": [
        {
          "data": {
            "text/plain": [
              "check                          120\n",
              "damages                         45\n",
              "damaged                         42\n",
              "?                               41\n",
              "sold as set on dotcom           20\n",
              "                              ... \n",
              "damages/dotcom?                  1\n",
              "throw away                       1\n",
              "OOPS ! adjustment                1\n",
              "????damages????                  1\n",
              "reverse previous adjustment      1\n",
              "Name: Itemname, Length: 137, dtype: int64"
            ]
          },
          "execution_count": 16,
          "metadata": {},
          "output_type": "execute_result"
        }
      ],
      "source": [
        "sac.Itemname.value_counts()"
      ]
    },
    {
      "cell_type": "markdown",
      "id": "4b22b509",
      "metadata": {
        "id": "4b22b509"
      },
      "source": [
        "### Vamos fazer uma analise de frequencia só dos 3 primeiros valores mais importantes check, damages e damaged\n"
      ]
    },
    {
      "cell_type": "code",
      "execution_count": null,
      "id": "3dcd6087",
      "metadata": {
        "id": "3dcd6087",
        "outputId": "55fd144b-07e6-4f4a-c8e8-28d490164070"
      },
      "outputs": [
        {
          "data": {
            "text/html": [
              "<div>\n",
              "<style scoped>\n",
              "    .dataframe tbody tr th:only-of-type {\n",
              "        vertical-align: middle;\n",
              "    }\n",
              "\n",
              "    .dataframe tbody tr th {\n",
              "        vertical-align: top;\n",
              "    }\n",
              "\n",
              "    .dataframe thead th {\n",
              "        text-align: right;\n",
              "    }\n",
              "</style>\n",
              "<table border=\"1\" class=\"dataframe\">\n",
              "  <thead>\n",
              "    <tr style=\"text-align: right;\">\n",
              "      <th></th>\n",
              "      <th>BillNo</th>\n",
              "      <th>Itemname</th>\n",
              "      <th>Quantity</th>\n",
              "      <th>Date</th>\n",
              "      <th>Price</th>\n",
              "      <th>Country</th>\n",
              "      <th>Year</th>\n",
              "      <th>Month</th>\n",
              "      <th>Day</th>\n",
              "      <th>Zoning</th>\n",
              "    </tr>\n",
              "  </thead>\n",
              "  <tbody>\n",
              "    <tr>\n",
              "      <th>12926</th>\n",
              "      <td>537425</td>\n",
              "      <td>check</td>\n",
              "      <td>-20</td>\n",
              "      <td>2010-12-06 15:35:00</td>\n",
              "      <td>0.0</td>\n",
              "      <td>United Kingdom</td>\n",
              "      <td>2010</td>\n",
              "      <td>12</td>\n",
              "      <td>6</td>\n",
              "      <td>Northern Europe</td>\n",
              "    </tr>\n",
              "    <tr>\n",
              "      <th>12927</th>\n",
              "      <td>537426</td>\n",
              "      <td>check</td>\n",
              "      <td>-35</td>\n",
              "      <td>2010-12-06 15:36:00</td>\n",
              "      <td>0.0</td>\n",
              "      <td>United Kingdom</td>\n",
              "      <td>2010</td>\n",
              "      <td>12</td>\n",
              "      <td>6</td>\n",
              "      <td>Northern Europe</td>\n",
              "    </tr>\n",
              "    <tr>\n",
              "      <th>104969</th>\n",
              "      <td>545546</td>\n",
              "      <td>check</td>\n",
              "      <td>-150</td>\n",
              "      <td>2011-03-03 15:03:00</td>\n",
              "      <td>0.0</td>\n",
              "      <td>United Kingdom</td>\n",
              "      <td>2011</td>\n",
              "      <td>3</td>\n",
              "      <td>3</td>\n",
              "      <td>Northern Europe</td>\n",
              "    </tr>\n",
              "    <tr>\n",
              "      <th>109803</th>\n",
              "      <td>545990</td>\n",
              "      <td>check</td>\n",
              "      <td>-3000</td>\n",
              "      <td>2011-03-08 13:07:00</td>\n",
              "      <td>0.0</td>\n",
              "      <td>United Kingdom</td>\n",
              "      <td>2011</td>\n",
              "      <td>3</td>\n",
              "      <td>8</td>\n",
              "      <td>Northern Europe</td>\n",
              "    </tr>\n",
              "    <tr>\n",
              "      <th>367274</th>\n",
              "      <td>569875</td>\n",
              "      <td>check</td>\n",
              "      <td>-45</td>\n",
              "      <td>2011-10-06 15:07:00</td>\n",
              "      <td>0.0</td>\n",
              "      <td>United Kingdom</td>\n",
              "      <td>2011</td>\n",
              "      <td>10</td>\n",
              "      <td>6</td>\n",
              "      <td>Northern Europe</td>\n",
              "    </tr>\n",
              "  </tbody>\n",
              "</table>\n",
              "</div>"
            ],
            "text/plain": [
              "        BillNo Itemname  Quantity                Date  Price         Country  \\\n",
              "12926   537425    check       -20 2010-12-06 15:35:00    0.0  United Kingdom   \n",
              "12927   537426    check       -35 2010-12-06 15:36:00    0.0  United Kingdom   \n",
              "104969  545546    check      -150 2011-03-03 15:03:00    0.0  United Kingdom   \n",
              "109803  545990    check     -3000 2011-03-08 13:07:00    0.0  United Kingdom   \n",
              "367274  569875    check       -45 2011-10-06 15:07:00    0.0  United Kingdom   \n",
              "\n",
              "        Year  Month  Day           Zoning  \n",
              "12926   2010     12    6  Northern Europe  \n",
              "12927   2010     12    6  Northern Europe  \n",
              "104969  2011      3    3  Northern Europe  \n",
              "109803  2011      3    8  Northern Europe  \n",
              "367274  2011     10    6  Northern Europe  "
            ]
          },
          "execution_count": 17,
          "metadata": {},
          "output_type": "execute_result"
        }
      ],
      "source": [
        "sac_check = sac[sac['Itemname']=='check']\n",
        "sac_check.head()"
      ]
    },
    {
      "cell_type": "code",
      "execution_count": null,
      "id": "7c328a5f",
      "metadata": {
        "id": "7c328a5f",
        "outputId": "29bbffd5-d86b-4da5-87d3-f4867a29c77d"
      },
      "outputs": [
        {
          "data": {
            "text/html": [
              "<div>\n",
              "<style scoped>\n",
              "    .dataframe tbody tr th:only-of-type {\n",
              "        vertical-align: middle;\n",
              "    }\n",
              "\n",
              "    .dataframe tbody tr th {\n",
              "        vertical-align: top;\n",
              "    }\n",
              "\n",
              "    .dataframe thead th {\n",
              "        text-align: right;\n",
              "    }\n",
              "</style>\n",
              "<table border=\"1\" class=\"dataframe\">\n",
              "  <thead>\n",
              "    <tr style=\"text-align: right;\">\n",
              "      <th></th>\n",
              "      <th>BillNo</th>\n",
              "      <th>Itemname</th>\n",
              "      <th>Quantity</th>\n",
              "      <th>Date</th>\n",
              "      <th>Price</th>\n",
              "      <th>Country</th>\n",
              "      <th>Year</th>\n",
              "      <th>Month</th>\n",
              "      <th>Day</th>\n",
              "      <th>Zoning</th>\n",
              "    </tr>\n",
              "  </thead>\n",
              "  <tbody>\n",
              "    <tr>\n",
              "      <th>12926</th>\n",
              "      <td>537425</td>\n",
              "      <td>check</td>\n",
              "      <td>-20</td>\n",
              "      <td>2010-12-06 15:35:00</td>\n",
              "      <td>0.0</td>\n",
              "      <td>United Kingdom</td>\n",
              "      <td>2010</td>\n",
              "      <td>12</td>\n",
              "      <td>6</td>\n",
              "      <td>Northern Europe</td>\n",
              "    </tr>\n",
              "    <tr>\n",
              "      <th>12927</th>\n",
              "      <td>537426</td>\n",
              "      <td>check</td>\n",
              "      <td>-35</td>\n",
              "      <td>2010-12-06 15:36:00</td>\n",
              "      <td>0.0</td>\n",
              "      <td>United Kingdom</td>\n",
              "      <td>2010</td>\n",
              "      <td>12</td>\n",
              "      <td>6</td>\n",
              "      <td>Northern Europe</td>\n",
              "    </tr>\n",
              "    <tr>\n",
              "      <th>104969</th>\n",
              "      <td>545546</td>\n",
              "      <td>check</td>\n",
              "      <td>-150</td>\n",
              "      <td>2011-03-03 15:03:00</td>\n",
              "      <td>0.0</td>\n",
              "      <td>United Kingdom</td>\n",
              "      <td>2011</td>\n",
              "      <td>3</td>\n",
              "      <td>3</td>\n",
              "      <td>Northern Europe</td>\n",
              "    </tr>\n",
              "    <tr>\n",
              "      <th>109803</th>\n",
              "      <td>545990</td>\n",
              "      <td>check</td>\n",
              "      <td>-3000</td>\n",
              "      <td>2011-03-08 13:07:00</td>\n",
              "      <td>0.0</td>\n",
              "      <td>United Kingdom</td>\n",
              "      <td>2011</td>\n",
              "      <td>3</td>\n",
              "      <td>8</td>\n",
              "      <td>Northern Europe</td>\n",
              "    </tr>\n",
              "    <tr>\n",
              "      <th>367274</th>\n",
              "      <td>569875</td>\n",
              "      <td>check</td>\n",
              "      <td>-45</td>\n",
              "      <td>2011-10-06 15:07:00</td>\n",
              "      <td>0.0</td>\n",
              "      <td>United Kingdom</td>\n",
              "      <td>2011</td>\n",
              "      <td>10</td>\n",
              "      <td>6</td>\n",
              "      <td>Northern Europe</td>\n",
              "    </tr>\n",
              "  </tbody>\n",
              "</table>\n",
              "</div>"
            ],
            "text/plain": [
              "        BillNo Itemname  Quantity                Date  Price         Country  \\\n",
              "12926   537425    check       -20 2010-12-06 15:35:00    0.0  United Kingdom   \n",
              "12927   537426    check       -35 2010-12-06 15:36:00    0.0  United Kingdom   \n",
              "104969  545546    check      -150 2011-03-03 15:03:00    0.0  United Kingdom   \n",
              "109803  545990    check     -3000 2011-03-08 13:07:00    0.0  United Kingdom   \n",
              "367274  569875    check       -45 2011-10-06 15:07:00    0.0  United Kingdom   \n",
              "\n",
              "        Year  Month  Day           Zoning  \n",
              "12926   2010     12    6  Northern Europe  \n",
              "12927   2010     12    6  Northern Europe  \n",
              "104969  2011      3    3  Northern Europe  \n",
              "109803  2011      3    8  Northern Europe  \n",
              "367274  2011     10    6  Northern Europe  "
            ]
          },
          "execution_count": 18,
          "metadata": {},
          "output_type": "execute_result"
        }
      ],
      "source": [
        "sac_check = (sac[sac['Itemname']=='check'])\n",
        "sac_check.head()\n"
      ]
    },
    {
      "cell_type": "markdown",
      "id": "6b57efd7",
      "metadata": {
        "id": "6b57efd7"
      },
      "source": [
        "### essa analise será feita por ano 2010 e 2011"
      ]
    },
    {
      "cell_type": "code",
      "execution_count": null,
      "id": "30e68091",
      "metadata": {
        "id": "30e68091",
        "outputId": "4b80e699-81cc-4f3b-d04b-a599135d154b"
      },
      "outputs": [
        {
          "data": {
            "text/html": [
              "<div>\n",
              "<style scoped>\n",
              "    .dataframe tbody tr th:only-of-type {\n",
              "        vertical-align: middle;\n",
              "    }\n",
              "\n",
              "    .dataframe tbody tr th {\n",
              "        vertical-align: top;\n",
              "    }\n",
              "\n",
              "    .dataframe thead th {\n",
              "        text-align: right;\n",
              "    }\n",
              "</style>\n",
              "<table border=\"1\" class=\"dataframe\">\n",
              "  <thead>\n",
              "    <tr style=\"text-align: right;\">\n",
              "      <th></th>\n",
              "      <th></th>\n",
              "      <th></th>\n",
              "      <th></th>\n",
              "      <th></th>\n",
              "      <th></th>\n",
              "      <th>Quantity</th>\n",
              "      <th>Price</th>\n",
              "    </tr>\n",
              "    <tr>\n",
              "      <th>Year</th>\n",
              "      <th>Month</th>\n",
              "      <th>Day</th>\n",
              "      <th>Zoning</th>\n",
              "      <th>Country</th>\n",
              "      <th>Itemname</th>\n",
              "      <th></th>\n",
              "      <th></th>\n",
              "    </tr>\n",
              "  </thead>\n",
              "  <tbody>\n",
              "    <tr>\n",
              "      <th>2010</th>\n",
              "      <th>12</th>\n",
              "      <th>6</th>\n",
              "      <th>Northern Europe</th>\n",
              "      <th>United Kingdom</th>\n",
              "      <th>check</th>\n",
              "      <td>-55</td>\n",
              "      <td>0.0</td>\n",
              "    </tr>\n",
              "  </tbody>\n",
              "</table>\n",
              "</div>"
            ],
            "text/plain": [
              "                                                        Quantity  Price\n",
              "Year Month Day Zoning          Country        Itemname                 \n",
              "2010 12    6   Northern Europe United Kingdom check          -55    0.0"
            ]
          },
          "execution_count": 19,
          "metadata": {},
          "output_type": "execute_result"
        }
      ],
      "source": [
        "agg_sac_check_2010 = sac_check[sac_check['Year']==2010].groupby(['Year','Month','Day','Zoning','Country','Itemname']).sum()\n",
        "agg_sac_check_2010"
      ]
    },
    {
      "cell_type": "markdown",
      "id": "45289e54",
      "metadata": {
        "id": "45289e54"
      },
      "source": [
        "### No caso de 2010 para check não sera necesario analisar, sendo que temos so 1 devolução, sendo nao interesante para mostrar, porem é importante para a informação"
      ]
    },
    {
      "cell_type": "code",
      "execution_count": null,
      "id": "14f0bce4",
      "metadata": {
        "id": "14f0bce4",
        "outputId": "92360ff4-1732-428e-b530-d05552da2114"
      },
      "outputs": [
        {
          "data": {
            "text/html": [
              "<div>\n",
              "<style scoped>\n",
              "    .dataframe tbody tr th:only-of-type {\n",
              "        vertical-align: middle;\n",
              "    }\n",
              "\n",
              "    .dataframe tbody tr th {\n",
              "        vertical-align: top;\n",
              "    }\n",
              "\n",
              "    .dataframe thead th {\n",
              "        text-align: right;\n",
              "    }\n",
              "</style>\n",
              "<table border=\"1\" class=\"dataframe\">\n",
              "  <thead>\n",
              "    <tr style=\"text-align: right;\">\n",
              "      <th></th>\n",
              "      <th></th>\n",
              "      <th></th>\n",
              "      <th></th>\n",
              "      <th></th>\n",
              "      <th></th>\n",
              "      <th>Quantity</th>\n",
              "      <th>Price</th>\n",
              "    </tr>\n",
              "    <tr>\n",
              "      <th>Year</th>\n",
              "      <th>Month</th>\n",
              "      <th>Day</th>\n",
              "      <th>Zoning</th>\n",
              "      <th>Country</th>\n",
              "      <th>Itemname</th>\n",
              "      <th></th>\n",
              "      <th></th>\n",
              "    </tr>\n",
              "  </thead>\n",
              "  <tbody>\n",
              "    <tr>\n",
              "      <th rowspan=\"27\" valign=\"top\">2011</th>\n",
              "      <th rowspan=\"2\" valign=\"top\">3</th>\n",
              "      <th>3</th>\n",
              "      <th>Northern Europe</th>\n",
              "      <th>United Kingdom</th>\n",
              "      <th>check</th>\n",
              "      <td>-150</td>\n",
              "      <td>0.0</td>\n",
              "    </tr>\n",
              "    <tr>\n",
              "      <th>8</th>\n",
              "      <th>Northern Europe</th>\n",
              "      <th>United Kingdom</th>\n",
              "      <th>check</th>\n",
              "      <td>-3000</td>\n",
              "      <td>0.0</td>\n",
              "    </tr>\n",
              "    <tr>\n",
              "      <th rowspan=\"9\" valign=\"top\">10</th>\n",
              "      <th>6</th>\n",
              "      <th>Northern Europe</th>\n",
              "      <th>United Kingdom</th>\n",
              "      <th>check</th>\n",
              "      <td>-90</td>\n",
              "      <td>0.0</td>\n",
              "    </tr>\n",
              "    <tr>\n",
              "      <th>10</th>\n",
              "      <th>Northern Europe</th>\n",
              "      <th>United Kingdom</th>\n",
              "      <th>check</th>\n",
              "      <td>-61</td>\n",
              "      <td>0.0</td>\n",
              "    </tr>\n",
              "    <tr>\n",
              "      <th>11</th>\n",
              "      <th>Northern Europe</th>\n",
              "      <th>United Kingdom</th>\n",
              "      <th>check</th>\n",
              "      <td>-242</td>\n",
              "      <td>0.0</td>\n",
              "    </tr>\n",
              "    <tr>\n",
              "      <th>14</th>\n",
              "      <th>Northern Europe</th>\n",
              "      <th>United Kingdom</th>\n",
              "      <th>check</th>\n",
              "      <td>-88</td>\n",
              "      <td>0.0</td>\n",
              "    </tr>\n",
              "    <tr>\n",
              "      <th>18</th>\n",
              "      <th>Northern Europe</th>\n",
              "      <th>United Kingdom</th>\n",
              "      <th>check</th>\n",
              "      <td>-46</td>\n",
              "      <td>0.0</td>\n",
              "    </tr>\n",
              "    <tr>\n",
              "      <th>19</th>\n",
              "      <th>Northern Europe</th>\n",
              "      <th>United Kingdom</th>\n",
              "      <th>check</th>\n",
              "      <td>-32</td>\n",
              "      <td>0.0</td>\n",
              "    </tr>\n",
              "    <tr>\n",
              "      <th>25</th>\n",
              "      <th>Northern Europe</th>\n",
              "      <th>United Kingdom</th>\n",
              "      <th>check</th>\n",
              "      <td>-328</td>\n",
              "      <td>0.0</td>\n",
              "    </tr>\n",
              "    <tr>\n",
              "      <th>26</th>\n",
              "      <th>Northern Europe</th>\n",
              "      <th>United Kingdom</th>\n",
              "      <th>check</th>\n",
              "      <td>-17</td>\n",
              "      <td>0.0</td>\n",
              "    </tr>\n",
              "    <tr>\n",
              "      <th>31</th>\n",
              "      <th>Northern Europe</th>\n",
              "      <th>United Kingdom</th>\n",
              "      <th>check</th>\n",
              "      <td>-970</td>\n",
              "      <td>0.0</td>\n",
              "    </tr>\n",
              "    <tr>\n",
              "      <th rowspan=\"14\" valign=\"top\">11</th>\n",
              "      <th>1</th>\n",
              "      <th>Northern Europe</th>\n",
              "      <th>United Kingdom</th>\n",
              "      <th>check</th>\n",
              "      <td>-36</td>\n",
              "      <td>0.0</td>\n",
              "    </tr>\n",
              "    <tr>\n",
              "      <th>3</th>\n",
              "      <th>Northern Europe</th>\n",
              "      <th>United Kingdom</th>\n",
              "      <th>check</th>\n",
              "      <td>-402</td>\n",
              "      <td>0.0</td>\n",
              "    </tr>\n",
              "    <tr>\n",
              "      <th>4</th>\n",
              "      <th>Northern Europe</th>\n",
              "      <th>United Kingdom</th>\n",
              "      <th>check</th>\n",
              "      <td>-786</td>\n",
              "      <td>0.0</td>\n",
              "    </tr>\n",
              "    <tr>\n",
              "      <th>9</th>\n",
              "      <th>Northern Europe</th>\n",
              "      <th>United Kingdom</th>\n",
              "      <th>check</th>\n",
              "      <td>-39</td>\n",
              "      <td>0.0</td>\n",
              "    </tr>\n",
              "    <tr>\n",
              "      <th>10</th>\n",
              "      <th>Northern Europe</th>\n",
              "      <th>United Kingdom</th>\n",
              "      <th>check</th>\n",
              "      <td>-280</td>\n",
              "      <td>0.0</td>\n",
              "    </tr>\n",
              "    <tr>\n",
              "      <th>11</th>\n",
              "      <th>Northern Europe</th>\n",
              "      <th>United Kingdom</th>\n",
              "      <th>check</th>\n",
              "      <td>-237</td>\n",
              "      <td>0.0</td>\n",
              "    </tr>\n",
              "    <tr>\n",
              "      <th>15</th>\n",
              "      <th>Northern Europe</th>\n",
              "      <th>United Kingdom</th>\n",
              "      <th>check</th>\n",
              "      <td>-265</td>\n",
              "      <td>0.0</td>\n",
              "    </tr>\n",
              "    <tr>\n",
              "      <th>16</th>\n",
              "      <th>Northern Europe</th>\n",
              "      <th>United Kingdom</th>\n",
              "      <th>check</th>\n",
              "      <td>-1987</td>\n",
              "      <td>0.0</td>\n",
              "    </tr>\n",
              "    <tr>\n",
              "      <th>17</th>\n",
              "      <th>Northern Europe</th>\n",
              "      <th>United Kingdom</th>\n",
              "      <th>check</th>\n",
              "      <td>-832</td>\n",
              "      <td>0.0</td>\n",
              "    </tr>\n",
              "    <tr>\n",
              "      <th>18</th>\n",
              "      <th>Northern Europe</th>\n",
              "      <th>United Kingdom</th>\n",
              "      <th>check</th>\n",
              "      <td>-486</td>\n",
              "      <td>0.0</td>\n",
              "    </tr>\n",
              "    <tr>\n",
              "      <th>22</th>\n",
              "      <th>Northern Europe</th>\n",
              "      <th>United Kingdom</th>\n",
              "      <th>check</th>\n",
              "      <td>-57</td>\n",
              "      <td>0.0</td>\n",
              "    </tr>\n",
              "    <tr>\n",
              "      <th>24</th>\n",
              "      <th>Northern Europe</th>\n",
              "      <th>United Kingdom</th>\n",
              "      <th>check</th>\n",
              "      <td>-238</td>\n",
              "      <td>0.0</td>\n",
              "    </tr>\n",
              "    <tr>\n",
              "      <th>25</th>\n",
              "      <th>Northern Europe</th>\n",
              "      <th>United Kingdom</th>\n",
              "      <th>check</th>\n",
              "      <td>-536</td>\n",
              "      <td>0.0</td>\n",
              "    </tr>\n",
              "    <tr>\n",
              "      <th>30</th>\n",
              "      <th>Northern Europe</th>\n",
              "      <th>United Kingdom</th>\n",
              "      <th>check</th>\n",
              "      <td>-511</td>\n",
              "      <td>0.0</td>\n",
              "    </tr>\n",
              "    <tr>\n",
              "      <th rowspan=\"2\" valign=\"top\">12</th>\n",
              "      <th>2</th>\n",
              "      <th>Northern Europe</th>\n",
              "      <th>United Kingdom</th>\n",
              "      <th>check</th>\n",
              "      <td>-1257</td>\n",
              "      <td>0.0</td>\n",
              "    </tr>\n",
              "    <tr>\n",
              "      <th>7</th>\n",
              "      <th>Northern Europe</th>\n",
              "      <th>United Kingdom</th>\n",
              "      <th>check</th>\n",
              "      <td>-219</td>\n",
              "      <td>0.0</td>\n",
              "    </tr>\n",
              "  </tbody>\n",
              "</table>\n",
              "</div>"
            ],
            "text/plain": [
              "                                                        Quantity  Price\n",
              "Year Month Day Zoning          Country        Itemname                 \n",
              "2011 3     3   Northern Europe United Kingdom check         -150    0.0\n",
              "           8   Northern Europe United Kingdom check        -3000    0.0\n",
              "     10    6   Northern Europe United Kingdom check          -90    0.0\n",
              "           10  Northern Europe United Kingdom check          -61    0.0\n",
              "           11  Northern Europe United Kingdom check         -242    0.0\n",
              "           14  Northern Europe United Kingdom check          -88    0.0\n",
              "           18  Northern Europe United Kingdom check          -46    0.0\n",
              "           19  Northern Europe United Kingdom check          -32    0.0\n",
              "           25  Northern Europe United Kingdom check         -328    0.0\n",
              "           26  Northern Europe United Kingdom check          -17    0.0\n",
              "           31  Northern Europe United Kingdom check         -970    0.0\n",
              "     11    1   Northern Europe United Kingdom check          -36    0.0\n",
              "           3   Northern Europe United Kingdom check         -402    0.0\n",
              "           4   Northern Europe United Kingdom check         -786    0.0\n",
              "           9   Northern Europe United Kingdom check          -39    0.0\n",
              "           10  Northern Europe United Kingdom check         -280    0.0\n",
              "           11  Northern Europe United Kingdom check         -237    0.0\n",
              "           15  Northern Europe United Kingdom check         -265    0.0\n",
              "           16  Northern Europe United Kingdom check        -1987    0.0\n",
              "           17  Northern Europe United Kingdom check         -832    0.0\n",
              "           18  Northern Europe United Kingdom check         -486    0.0\n",
              "           22  Northern Europe United Kingdom check          -57    0.0\n",
              "           24  Northern Europe United Kingdom check         -238    0.0\n",
              "           25  Northern Europe United Kingdom check         -536    0.0\n",
              "           30  Northern Europe United Kingdom check         -511    0.0\n",
              "     12    2   Northern Europe United Kingdom check        -1257    0.0\n",
              "           7   Northern Europe United Kingdom check         -219    0.0"
            ]
          },
          "execution_count": 20,
          "metadata": {},
          "output_type": "execute_result"
        }
      ],
      "source": [
        "agg_sac_check_2011 = sac_check[sac_check['Year']==2011].groupby(['Year','Month','Day','Zoning','Country','Itemname']).sum()\n",
        "agg_sac_check_2011"
      ]
    },
    {
      "cell_type": "code",
      "execution_count": null,
      "id": "46620ce7",
      "metadata": {
        "id": "46620ce7",
        "outputId": "d53cdb97-db08-49c7-d332-b1a8f019b0c2"
      },
      "outputs": [
        {
          "data": {
            "text/plain": [
              "<AxesSubplot:xlabel='Month', ylabel='Quantity'>"
            ]
          },
          "execution_count": 21,
          "metadata": {},
          "output_type": "execute_result"
        },
        {
          "data": {
            "image/png": "[encoded data removed]",
            "text/plain": [
              "<Figure size 1008x720 with 1 Axes>"
            ]
          },
          "metadata": {
            "needs_background": "light"
          },
          "output_type": "display_data"
        }
      ],
      "source": [
        "# Preços por Continente/Regiao no ano 2010\n",
        "plt.figure(figsize =(14,10))\n",
        "plt.xticks(rotation=45)\n",
        "sns.set_theme(style = 'darkgrid')\n",
        "sns.lineplot(data=agg_sac_check_2011, x='Month', y='Quantity', hue='Country',ci=False)"
      ]
    },
    {
      "cell_type": "markdown",
      "id": "6c18f751",
      "metadata": {
        "id": "6c18f751"
      },
      "source": [
        "### em este grafico podemos perceber oq acontece com a quantidades de reposições do sac, ela diminui em um periodo longo do ano, mas nos ultimos meses, desde outubro a dezembro ela começa aumentar de forma acelerada, pode ser por causa da vesperas das festas natalinas, tudo isso só no reino unido"
      ]
    },
    {
      "cell_type": "code",
      "execution_count": null,
      "id": "6d766898",
      "metadata": {
        "scrolled": false,
        "id": "6d766898",
        "outputId": "3d868a92-f043-402e-c3e4-ff242b84abd9"
      },
      "outputs": [
        {
          "data": {
            "text/html": [
              "<div>\n",
              "<style scoped>\n",
              "    .dataframe tbody tr th:only-of-type {\n",
              "        vertical-align: middle;\n",
              "    }\n",
              "\n",
              "    .dataframe tbody tr th {\n",
              "        vertical-align: top;\n",
              "    }\n",
              "\n",
              "    .dataframe thead th {\n",
              "        text-align: right;\n",
              "    }\n",
              "</style>\n",
              "<table border=\"1\" class=\"dataframe\">\n",
              "  <thead>\n",
              "    <tr style=\"text-align: right;\">\n",
              "      <th></th>\n",
              "      <th>BillNo</th>\n",
              "      <th>Itemname</th>\n",
              "      <th>Quantity</th>\n",
              "      <th>Date</th>\n",
              "      <th>Price</th>\n",
              "      <th>Country</th>\n",
              "      <th>Year</th>\n",
              "      <th>Month</th>\n",
              "      <th>Day</th>\n",
              "      <th>Zoning</th>\n",
              "    </tr>\n",
              "  </thead>\n",
              "  <tbody>\n",
              "    <tr>\n",
              "      <th>12973</th>\n",
              "      <td>537432</td>\n",
              "      <td>damages</td>\n",
              "      <td>-43</td>\n",
              "      <td>2010-12-06 16:10:00</td>\n",
              "      <td>0.0</td>\n",
              "      <td>United Kingdom</td>\n",
              "      <td>2010</td>\n",
              "      <td>12</td>\n",
              "      <td>6</td>\n",
              "      <td>Northern Europe</td>\n",
              "    </tr>\n",
              "    <tr>\n",
              "      <th>49596</th>\n",
              "      <td>540638</td>\n",
              "      <td>damages</td>\n",
              "      <td>-990</td>\n",
              "      <td>2011-01-10 12:14:00</td>\n",
              "      <td>0.0</td>\n",
              "      <td>United Kingdom</td>\n",
              "      <td>2011</td>\n",
              "      <td>1</td>\n",
              "      <td>10</td>\n",
              "      <td>Northern Europe</td>\n",
              "    </tr>\n",
              "    <tr>\n",
              "      <th>102236</th>\n",
              "      <td>545236</td>\n",
              "      <td>damages</td>\n",
              "      <td>-15</td>\n",
              "      <td>2011-03-01 10:32:00</td>\n",
              "      <td>0.0</td>\n",
              "      <td>United Kingdom</td>\n",
              "      <td>2011</td>\n",
              "      <td>3</td>\n",
              "      <td>1</td>\n",
              "      <td>Northern Europe</td>\n",
              "    </tr>\n",
              "    <tr>\n",
              "      <th>110648</th>\n",
              "      <td>546010</td>\n",
              "      <td>damages</td>\n",
              "      <td>-19</td>\n",
              "      <td>2011-03-08 15:55:00</td>\n",
              "      <td>0.0</td>\n",
              "      <td>United Kingdom</td>\n",
              "      <td>2011</td>\n",
              "      <td>3</td>\n",
              "      <td>8</td>\n",
              "      <td>Northern Europe</td>\n",
              "    </tr>\n",
              "    <tr>\n",
              "      <th>111930</th>\n",
              "      <td>546140</td>\n",
              "      <td>damages</td>\n",
              "      <td>-30</td>\n",
              "      <td>2011-03-09 16:35:00</td>\n",
              "      <td>0.0</td>\n",
              "      <td>United Kingdom</td>\n",
              "      <td>2011</td>\n",
              "      <td>3</td>\n",
              "      <td>9</td>\n",
              "      <td>Northern Europe</td>\n",
              "    </tr>\n",
              "  </tbody>\n",
              "</table>\n",
              "</div>"
            ],
            "text/plain": [
              "        BillNo Itemname  Quantity                Date  Price         Country  \\\n",
              "12973   537432  damages       -43 2010-12-06 16:10:00    0.0  United Kingdom   \n",
              "49596   540638  damages      -990 2011-01-10 12:14:00    0.0  United Kingdom   \n",
              "102236  545236  damages       -15 2011-03-01 10:32:00    0.0  United Kingdom   \n",
              "110648  546010  damages       -19 2011-03-08 15:55:00    0.0  United Kingdom   \n",
              "111930  546140  damages       -30 2011-03-09 16:35:00    0.0  United Kingdom   \n",
              "\n",
              "        Year  Month  Day           Zoning  \n",
              "12973   2010     12    6  Northern Europe  \n",
              "49596   2011      1   10  Northern Europe  \n",
              "102236  2011      3    1  Northern Europe  \n",
              "110648  2011      3    8  Northern Europe  \n",
              "111930  2011      3    9  Northern Europe  "
            ]
          },
          "execution_count": 22,
          "metadata": {},
          "output_type": "execute_result"
        }
      ],
      "source": [
        "sac_damages = sac[sac['Itemname']=='damages']\n",
        "sac_damages.head()"
      ]
    },
    {
      "cell_type": "markdown",
      "id": "c7a00678",
      "metadata": {
        "id": "c7a00678"
      },
      "source": [
        "### Vamos agrupar novamente por ano 2010, zoning, country e por item e vamos avaliar"
      ]
    },
    {
      "cell_type": "code",
      "execution_count": null,
      "id": "ce675353",
      "metadata": {
        "id": "ce675353",
        "outputId": "420d6e85-b167-4d11-9c46-520f27ea7b1b"
      },
      "outputs": [
        {
          "data": {
            "text/html": [
              "<div>\n",
              "<style scoped>\n",
              "    .dataframe tbody tr th:only-of-type {\n",
              "        vertical-align: middle;\n",
              "    }\n",
              "\n",
              "    .dataframe tbody tr th {\n",
              "        vertical-align: top;\n",
              "    }\n",
              "\n",
              "    .dataframe thead th {\n",
              "        text-align: right;\n",
              "    }\n",
              "</style>\n",
              "<table border=\"1\" class=\"dataframe\">\n",
              "  <thead>\n",
              "    <tr style=\"text-align: right;\">\n",
              "      <th></th>\n",
              "      <th></th>\n",
              "      <th></th>\n",
              "      <th></th>\n",
              "      <th></th>\n",
              "      <th></th>\n",
              "      <th>Quantity</th>\n",
              "      <th>Price</th>\n",
              "    </tr>\n",
              "    <tr>\n",
              "      <th>Year</th>\n",
              "      <th>Month</th>\n",
              "      <th>Day</th>\n",
              "      <th>Zoning</th>\n",
              "      <th>Country</th>\n",
              "      <th>Itemname</th>\n",
              "      <th></th>\n",
              "      <th></th>\n",
              "    </tr>\n",
              "  </thead>\n",
              "  <tbody>\n",
              "    <tr>\n",
              "      <th>2010</th>\n",
              "      <th>12</th>\n",
              "      <th>6</th>\n",
              "      <th>Northern Europe</th>\n",
              "      <th>United Kingdom</th>\n",
              "      <th>damages</th>\n",
              "      <td>-43</td>\n",
              "      <td>0.0</td>\n",
              "    </tr>\n",
              "  </tbody>\n",
              "</table>\n",
              "</div>"
            ],
            "text/plain": [
              "                                                        Quantity  Price\n",
              "Year Month Day Zoning          Country        Itemname                 \n",
              "2010 12    6   Northern Europe United Kingdom damages        -43    0.0"
            ]
          },
          "execution_count": 23,
          "metadata": {},
          "output_type": "execute_result"
        }
      ],
      "source": [
        "agg_sac_damages_2010 = sac_damages[sac_damages['Year']==2010].groupby(['Year','Month','Day','Zoning','Country','Itemname']).sum()\n",
        "agg_sac_damages_2010"
      ]
    },
    {
      "cell_type": "markdown",
      "id": "8a72ee1c",
      "metadata": {
        "id": "8a72ee1c"
      },
      "source": [
        "### Neste caso, somente temos um pedido com essa descrição, porem não é muito representativo\n",
        "===============================================================================================================\n",
        "### Vamos agrupar novamente por ano 2011, zoning, country e por item e vamos avaliar"
      ]
    },
    {
      "cell_type": "code",
      "execution_count": null,
      "id": "3e5dc94f",
      "metadata": {
        "id": "3e5dc94f",
        "outputId": "0c377529-0069-46fc-8ffc-a4ad439744d7"
      },
      "outputs": [
        {
          "data": {
            "text/html": [
              "<div>\n",
              "<style scoped>\n",
              "    .dataframe tbody tr th:only-of-type {\n",
              "        vertical-align: middle;\n",
              "    }\n",
              "\n",
              "    .dataframe tbody tr th {\n",
              "        vertical-align: top;\n",
              "    }\n",
              "\n",
              "    .dataframe thead th {\n",
              "        text-align: right;\n",
              "    }\n",
              "</style>\n",
              "<table border=\"1\" class=\"dataframe\">\n",
              "  <thead>\n",
              "    <tr style=\"text-align: right;\">\n",
              "      <th></th>\n",
              "      <th></th>\n",
              "      <th></th>\n",
              "      <th></th>\n",
              "      <th></th>\n",
              "      <th></th>\n",
              "      <th>Quantity</th>\n",
              "      <th>Price</th>\n",
              "    </tr>\n",
              "    <tr>\n",
              "      <th>Year</th>\n",
              "      <th>Month</th>\n",
              "      <th>Day</th>\n",
              "      <th>Zoning</th>\n",
              "      <th>Country</th>\n",
              "      <th>Itemname</th>\n",
              "      <th></th>\n",
              "      <th></th>\n",
              "    </tr>\n",
              "  </thead>\n",
              "  <tbody>\n",
              "    <tr>\n",
              "      <th rowspan=\"5\" valign=\"top\">2011</th>\n",
              "      <th>1</th>\n",
              "      <th>10</th>\n",
              "      <th>Northern Europe</th>\n",
              "      <th>United Kingdom</th>\n",
              "      <th>damages</th>\n",
              "      <td>-990</td>\n",
              "      <td>0.0</td>\n",
              "    </tr>\n",
              "    <tr>\n",
              "      <th rowspan=\"4\" valign=\"top\">3</th>\n",
              "      <th>1</th>\n",
              "      <th>Northern Europe</th>\n",
              "      <th>United Kingdom</th>\n",
              "      <th>damages</th>\n",
              "      <td>-15</td>\n",
              "      <td>0.0</td>\n",
              "    </tr>\n",
              "    <tr>\n",
              "      <th>8</th>\n",
              "      <th>Northern Europe</th>\n",
              "      <th>United Kingdom</th>\n",
              "      <th>damages</th>\n",
              "      <td>-19</td>\n",
              "      <td>0.0</td>\n",
              "    </tr>\n",
              "    <tr>\n",
              "      <th>9</th>\n",
              "      <th>Northern Europe</th>\n",
              "      <th>United Kingdom</th>\n",
              "      <th>damages</th>\n",
              "      <td>-30</td>\n",
              "      <td>0.0</td>\n",
              "    </tr>\n",
              "    <tr>\n",
              "      <th>11</th>\n",
              "      <th>Northern Europe</th>\n",
              "      <th>United Kingdom</th>\n",
              "      <th>damages</th>\n",
              "      <td>-110</td>\n",
              "      <td>0.0</td>\n",
              "    </tr>\n",
              "  </tbody>\n",
              "</table>\n",
              "</div>"
            ],
            "text/plain": [
              "                                                        Quantity  Price\n",
              "Year Month Day Zoning          Country        Itemname                 \n",
              "2011 1     10  Northern Europe United Kingdom damages       -990    0.0\n",
              "     3     1   Northern Europe United Kingdom damages        -15    0.0\n",
              "           8   Northern Europe United Kingdom damages        -19    0.0\n",
              "           9   Northern Europe United Kingdom damages        -30    0.0\n",
              "           11  Northern Europe United Kingdom damages       -110    0.0"
            ]
          },
          "execution_count": 24,
          "metadata": {},
          "output_type": "execute_result"
        }
      ],
      "source": [
        "agg_sac_damages_2011 = sac_damages[sac_damages['Year']==2011].groupby(['Year','Month','Day','Zoning','Country','Itemname']).sum()\n",
        "agg_sac_damages_2011.head()"
      ]
    },
    {
      "cell_type": "markdown",
      "id": "2f4e4ae7",
      "metadata": {
        "id": "2f4e4ae7"
      },
      "source": [
        "### Ja neste grafico podemos observar outras coisas, o comportamento do sac com o tempo."
      ]
    },
    {
      "cell_type": "code",
      "execution_count": null,
      "id": "e4e0fcf8",
      "metadata": {
        "id": "e4e0fcf8",
        "outputId": "a4a53c27-ea01-41a9-a3cc-cd4b603ab0bd"
      },
      "outputs": [
        {
          "data": {
            "image/png": "[encoded data removed]",
            "text/plain": [
              "<Figure size 1008x720 with 1 Axes>"
            ]
          },
          "metadata": {},
          "output_type": "display_data"
        }
      ],
      "source": [
        "# Preços por Continente/Regiao no ano 2010\n",
        "plt.figure(figsize =(14,10))\n",
        "plt.xticks(rotation=45)\n",
        "sns.set_theme(style = 'darkgrid')\n",
        "sns.lineplot(data=agg_sac_damages_2011, x='Month', y='Quantity', hue='Country',ci=False);"
      ]
    },
    {
      "cell_type": "markdown",
      "id": "d725a12c",
      "metadata": {
        "id": "d725a12c"
      },
      "source": [
        "### e podemos concluir que sac conseguiu corregir erros ao longo do tempo, para essa classe"
      ]
    },
    {
      "cell_type": "markdown",
      "id": "4f944807",
      "metadata": {
        "id": "4f944807"
      },
      "source": [
        "### Terceiro e ultimo produto, "
      ]
    },
    {
      "cell_type": "code",
      "execution_count": null,
      "id": "d977c0c4",
      "metadata": {
        "id": "d977c0c4",
        "outputId": "f9f11690-3a06-45a5-87dc-ab4033134683"
      },
      "outputs": [
        {
          "data": {
            "text/html": [
              "<div>\n",
              "<style scoped>\n",
              "    .dataframe tbody tr th:only-of-type {\n",
              "        vertical-align: middle;\n",
              "    }\n",
              "\n",
              "    .dataframe tbody tr th {\n",
              "        vertical-align: top;\n",
              "    }\n",
              "\n",
              "    .dataframe thead th {\n",
              "        text-align: right;\n",
              "    }\n",
              "</style>\n",
              "<table border=\"1\" class=\"dataframe\">\n",
              "  <thead>\n",
              "    <tr style=\"text-align: right;\">\n",
              "      <th></th>\n",
              "      <th>BillNo</th>\n",
              "      <th>Itemname</th>\n",
              "      <th>Quantity</th>\n",
              "      <th>Date</th>\n",
              "      <th>Price</th>\n",
              "      <th>Country</th>\n",
              "      <th>Year</th>\n",
              "      <th>Month</th>\n",
              "      <th>Day</th>\n",
              "      <th>Zoning</th>\n",
              "    </tr>\n",
              "  </thead>\n",
              "  <tbody>\n",
              "    <tr>\n",
              "      <th>149090</th>\n",
              "      <td>549935</td>\n",
              "      <td>damaged</td>\n",
              "      <td>-43</td>\n",
              "      <td>2011-04-13 11:16:00</td>\n",
              "      <td>0.0</td>\n",
              "      <td>United Kingdom</td>\n",
              "      <td>2011</td>\n",
              "      <td>4</td>\n",
              "      <td>13</td>\n",
              "      <td>Northern Europe</td>\n",
              "    </tr>\n",
              "    <tr>\n",
              "      <th>149231</th>\n",
              "      <td>549948</td>\n",
              "      <td>damaged</td>\n",
              "      <td>-1</td>\n",
              "      <td>2011-04-13 12:55:00</td>\n",
              "      <td>0.0</td>\n",
              "      <td>United Kingdom</td>\n",
              "      <td>2011</td>\n",
              "      <td>4</td>\n",
              "      <td>13</td>\n",
              "      <td>Northern Europe</td>\n",
              "    </tr>\n",
              "    <tr>\n",
              "      <th>161003</th>\n",
              "      <td>550954</td>\n",
              "      <td>damaged</td>\n",
              "      <td>-2</td>\n",
              "      <td>2011-04-21 16:18:00</td>\n",
              "      <td>0.0</td>\n",
              "      <td>United Kingdom</td>\n",
              "      <td>2011</td>\n",
              "      <td>4</td>\n",
              "      <td>21</td>\n",
              "      <td>Northern Europe</td>\n",
              "    </tr>\n",
              "    <tr>\n",
              "      <th>164581</th>\n",
              "      <td>551302</td>\n",
              "      <td>damaged</td>\n",
              "      <td>-18</td>\n",
              "      <td>2011-04-27 14:55:00</td>\n",
              "      <td>0.0</td>\n",
              "      <td>United Kingdom</td>\n",
              "      <td>2011</td>\n",
              "      <td>4</td>\n",
              "      <td>27</td>\n",
              "      <td>Northern Europe</td>\n",
              "    </tr>\n",
              "    <tr>\n",
              "      <th>174394</th>\n",
              "      <td>552331</td>\n",
              "      <td>damaged</td>\n",
              "      <td>-30</td>\n",
              "      <td>2011-05-09 10:24:00</td>\n",
              "      <td>0.0</td>\n",
              "      <td>United Kingdom</td>\n",
              "      <td>2011</td>\n",
              "      <td>5</td>\n",
              "      <td>9</td>\n",
              "      <td>Northern Europe</td>\n",
              "    </tr>\n",
              "  </tbody>\n",
              "</table>\n",
              "</div>"
            ],
            "text/plain": [
              "        BillNo Itemname  Quantity                Date  Price         Country  \\\n",
              "149090  549935  damaged       -43 2011-04-13 11:16:00    0.0  United Kingdom   \n",
              "149231  549948  damaged        -1 2011-04-13 12:55:00    0.0  United Kingdom   \n",
              "161003  550954  damaged        -2 2011-04-21 16:18:00    0.0  United Kingdom   \n",
              "164581  551302  damaged       -18 2011-04-27 14:55:00    0.0  United Kingdom   \n",
              "174394  552331  damaged       -30 2011-05-09 10:24:00    0.0  United Kingdom   \n",
              "\n",
              "        Year  Month  Day           Zoning  \n",
              "149090  2011      4   13  Northern Europe  \n",
              "149231  2011      4   13  Northern Europe  \n",
              "161003  2011      4   21  Northern Europe  \n",
              "164581  2011      4   27  Northern Europe  \n",
              "174394  2011      5    9  Northern Europe  "
            ]
          },
          "execution_count": 26,
          "metadata": {},
          "output_type": "execute_result"
        }
      ],
      "source": [
        "sac_damaged = sac[sac['Itemname']=='damaged']\n",
        "sac_damaged.head()"
      ]
    },
    {
      "cell_type": "markdown",
      "id": "9b47408c",
      "metadata": {
        "id": "9b47408c"
      },
      "source": [
        "### Agrupando elementos para avaliar em 2010"
      ]
    },
    {
      "cell_type": "code",
      "execution_count": null,
      "id": "c1446c14",
      "metadata": {
        "id": "c1446c14",
        "outputId": "e9f01e61-e386-4384-8535-faf2bef744c8"
      },
      "outputs": [
        {
          "data": {
            "text/html": [
              "<div>\n",
              "<style scoped>\n",
              "    .dataframe tbody tr th:only-of-type {\n",
              "        vertical-align: middle;\n",
              "    }\n",
              "\n",
              "    .dataframe tbody tr th {\n",
              "        vertical-align: top;\n",
              "    }\n",
              "\n",
              "    .dataframe thead th {\n",
              "        text-align: right;\n",
              "    }\n",
              "</style>\n",
              "<table border=\"1\" class=\"dataframe\">\n",
              "  <thead>\n",
              "    <tr style=\"text-align: right;\">\n",
              "      <th></th>\n",
              "      <th></th>\n",
              "      <th></th>\n",
              "      <th></th>\n",
              "      <th></th>\n",
              "      <th></th>\n",
              "      <th>Quantity</th>\n",
              "      <th>Price</th>\n",
              "    </tr>\n",
              "    <tr>\n",
              "      <th>Year</th>\n",
              "      <th>Month</th>\n",
              "      <th>Day</th>\n",
              "      <th>Zoning</th>\n",
              "      <th>Country</th>\n",
              "      <th>Itemname</th>\n",
              "      <th></th>\n",
              "      <th></th>\n",
              "    </tr>\n",
              "  </thead>\n",
              "  <tbody>\n",
              "  </tbody>\n",
              "</table>\n",
              "</div>"
            ],
            "text/plain": [
              "Empty DataFrame\n",
              "Columns: [Quantity, Price]\n",
              "Index: []"
            ]
          },
          "execution_count": 27,
          "metadata": {},
          "output_type": "execute_result"
        }
      ],
      "source": [
        "agg_sac_damaged_2010 = sac_damaged[sac_damaged['Year']==2010].groupby(['Year','Month','Day','Zoning','Country','Itemname']).sum()\n",
        "agg_sac_damaged_2010"
      ]
    },
    {
      "cell_type": "markdown",
      "id": "c33557ec",
      "metadata": {
        "id": "c33557ec"
      },
      "source": [
        "### podemos observar que não existem elementos em 2010"
      ]
    },
    {
      "cell_type": "markdown",
      "id": "4a912e51",
      "metadata": {
        "id": "4a912e51"
      },
      "source": [
        "### Agrupando elementos para avaliar em 2011"
      ]
    },
    {
      "cell_type": "code",
      "execution_count": null,
      "id": "fc7d04f8",
      "metadata": {
        "id": "fc7d04f8",
        "outputId": "89bd5437-7e44-4230-c45c-bf8a742b5c68"
      },
      "outputs": [
        {
          "data": {
            "text/html": [
              "<div>\n",
              "<style scoped>\n",
              "    .dataframe tbody tr th:only-of-type {\n",
              "        vertical-align: middle;\n",
              "    }\n",
              "\n",
              "    .dataframe tbody tr th {\n",
              "        vertical-align: top;\n",
              "    }\n",
              "\n",
              "    .dataframe thead th {\n",
              "        text-align: right;\n",
              "    }\n",
              "</style>\n",
              "<table border=\"1\" class=\"dataframe\">\n",
              "  <thead>\n",
              "    <tr style=\"text-align: right;\">\n",
              "      <th></th>\n",
              "      <th></th>\n",
              "      <th></th>\n",
              "      <th></th>\n",
              "      <th></th>\n",
              "      <th></th>\n",
              "      <th>Quantity</th>\n",
              "      <th>Price</th>\n",
              "    </tr>\n",
              "    <tr>\n",
              "      <th>Year</th>\n",
              "      <th>Month</th>\n",
              "      <th>Day</th>\n",
              "      <th>Zoning</th>\n",
              "      <th>Country</th>\n",
              "      <th>Itemname</th>\n",
              "      <th></th>\n",
              "      <th></th>\n",
              "    </tr>\n",
              "  </thead>\n",
              "  <tbody>\n",
              "    <tr>\n",
              "      <th rowspan=\"5\" valign=\"top\">2011</th>\n",
              "      <th rowspan=\"3\" valign=\"top\">4</th>\n",
              "      <th>13</th>\n",
              "      <th>Northern Europe</th>\n",
              "      <th>United Kingdom</th>\n",
              "      <th>damaged</th>\n",
              "      <td>-44</td>\n",
              "      <td>0.0</td>\n",
              "    </tr>\n",
              "    <tr>\n",
              "      <th>21</th>\n",
              "      <th>Northern Europe</th>\n",
              "      <th>United Kingdom</th>\n",
              "      <th>damaged</th>\n",
              "      <td>-2</td>\n",
              "      <td>0.0</td>\n",
              "    </tr>\n",
              "    <tr>\n",
              "      <th>27</th>\n",
              "      <th>Northern Europe</th>\n",
              "      <th>United Kingdom</th>\n",
              "      <th>damaged</th>\n",
              "      <td>-18</td>\n",
              "      <td>0.0</td>\n",
              "    </tr>\n",
              "    <tr>\n",
              "      <th rowspan=\"2\" valign=\"top\">5</th>\n",
              "      <th>9</th>\n",
              "      <th>Northern Europe</th>\n",
              "      <th>United Kingdom</th>\n",
              "      <th>damaged</th>\n",
              "      <td>-30</td>\n",
              "      <td>0.0</td>\n",
              "    </tr>\n",
              "    <tr>\n",
              "      <th>13</th>\n",
              "      <th>Northern Europe</th>\n",
              "      <th>United Kingdom</th>\n",
              "      <th>damaged</th>\n",
              "      <td>-160</td>\n",
              "      <td>0.0</td>\n",
              "    </tr>\n",
              "  </tbody>\n",
              "</table>\n",
              "</div>"
            ],
            "text/plain": [
              "                                                        Quantity  Price\n",
              "Year Month Day Zoning          Country        Itemname                 \n",
              "2011 4     13  Northern Europe United Kingdom damaged        -44    0.0\n",
              "           21  Northern Europe United Kingdom damaged         -2    0.0\n",
              "           27  Northern Europe United Kingdom damaged        -18    0.0\n",
              "     5     9   Northern Europe United Kingdom damaged        -30    0.0\n",
              "           13  Northern Europe United Kingdom damaged       -160    0.0"
            ]
          },
          "execution_count": 28,
          "metadata": {},
          "output_type": "execute_result"
        }
      ],
      "source": [
        "agg_sac_damaged_2011 = sac_damaged[sac_damaged['Year']==2011].groupby(['Year','Month','Day','Zoning','Country','Itemname']).sum()\n",
        "agg_sac_damaged_2011.head()"
      ]
    },
    {
      "cell_type": "markdown",
      "id": "f490bcbb",
      "metadata": {
        "id": "f490bcbb"
      },
      "source": [
        "### Ja neste grafico podemos observar outras coisas, o comportamento do sac com o tempo."
      ]
    },
    {
      "cell_type": "code",
      "execution_count": null,
      "id": "e22084ab",
      "metadata": {
        "id": "e22084ab",
        "outputId": "409febcc-6b4b-48b9-b53d-dfd928a5b95e"
      },
      "outputs": [
        {
          "data": {
            "text/plain": [
              "<AxesSubplot:xlabel='Month', ylabel='Quantity'>"
            ]
          },
          "execution_count": 29,
          "metadata": {},
          "output_type": "execute_result"
        },
        {
          "data": {
            "image/png": "[encoded data removed]",
            "text/plain": [
              "<Figure size 1440x720 with 1 Axes>"
            ]
          },
          "metadata": {},
          "output_type": "display_data"
        }
      ],
      "source": [
        "# Preços por Continente/Regiao no ano 2010\n",
        "plt.figure(figsize =(20,10))\n",
        "plt.xticks(rotation=45)\n",
        "sns.set_theme(style = 'darkgrid')\n",
        "sns.lineplot(data=agg_sac_damaged_2011, x='Month',hue='Country', y='Quantity', ci=False)"
      ]
    },
    {
      "cell_type": "markdown",
      "id": "0d0de6c9",
      "metadata": {
        "id": "0d0de6c9"
      },
      "source": [
        "### Podemos concluir que sac realizou uma boa gestao, podendo prever em alguns casos alguns problemas com entregas, umas das coisas que estao faltando é mais dados para poder avaliar com mais certeza que isso não se repete ou achar padroes em alguns meses comemorativos, onde por aumento de demanda aconteçam esses problemas."
      ]
    },
    {
      "cell_type": "markdown",
      "id": "d7639e4b",
      "metadata": {
        "id": "d7639e4b"
      },
      "source": [
        "### Conclusão: Não vamos trabalhar com esses valores, pois sao valores de items, entregados por SAC da empresa. porém vamos nos desfazer deles\n"
      ]
    },
    {
      "cell_type": "code",
      "execution_count": null,
      "id": "db0f4043",
      "metadata": {
        "id": "db0f4043",
        "outputId": "99c199cb-9b10-465f-b7ef-4918f89b0dbb"
      },
      "outputs": [
        {
          "data": {
            "text/html": [
              "<div>\n",
              "<style scoped>\n",
              "    .dataframe tbody tr th:only-of-type {\n",
              "        vertical-align: middle;\n",
              "    }\n",
              "\n",
              "    .dataframe tbody tr th {\n",
              "        vertical-align: top;\n",
              "    }\n",
              "\n",
              "    .dataframe thead th {\n",
              "        text-align: right;\n",
              "    }\n",
              "</style>\n",
              "<table border=\"1\" class=\"dataframe\">\n",
              "  <thead>\n",
              "    <tr style=\"text-align: right;\">\n",
              "      <th></th>\n",
              "      <th>Quantity</th>\n",
              "      <th>Price</th>\n",
              "    </tr>\n",
              "  </thead>\n",
              "  <tbody>\n",
              "    <tr>\n",
              "      <th>count</th>\n",
              "      <td>520136.000000</td>\n",
              "      <td>520136.000000</td>\n",
              "    </tr>\n",
              "    <tr>\n",
              "      <th>mean</th>\n",
              "      <td>10.463154</td>\n",
              "      <td>3.840986</td>\n",
              "    </tr>\n",
              "    <tr>\n",
              "      <th>std</th>\n",
              "      <td>158.129245</td>\n",
              "      <td>41.977535</td>\n",
              "    </tr>\n",
              "    <tr>\n",
              "      <th>min</th>\n",
              "      <td>1.000000</td>\n",
              "      <td>-11062.060000</td>\n",
              "    </tr>\n",
              "    <tr>\n",
              "      <th>25%</th>\n",
              "      <td>1.000000</td>\n",
              "      <td>1.250000</td>\n",
              "    </tr>\n",
              "    <tr>\n",
              "      <th>50%</th>\n",
              "      <td>3.000000</td>\n",
              "      <td>2.080000</td>\n",
              "    </tr>\n",
              "    <tr>\n",
              "      <th>75%</th>\n",
              "      <td>10.000000</td>\n",
              "      <td>4.130000</td>\n",
              "    </tr>\n",
              "    <tr>\n",
              "      <th>max</th>\n",
              "      <td>80995.000000</td>\n",
              "      <td>13541.330000</td>\n",
              "    </tr>\n",
              "  </tbody>\n",
              "</table>\n",
              "</div>"
            ],
            "text/plain": [
              "            Quantity          Price\n",
              "count  520136.000000  520136.000000\n",
              "mean       10.463154       3.840986\n",
              "std       158.129245      41.977535\n",
              "min         1.000000  -11062.060000\n",
              "25%         1.000000       1.250000\n",
              "50%         3.000000       2.080000\n",
              "75%        10.000000       4.130000\n",
              "max     80995.000000   13541.330000"
            ]
          },
          "execution_count": 30,
          "metadata": {},
          "output_type": "execute_result"
        }
      ],
      "source": [
        "aserto_1 = df2.loc[df2['Quantity']>0].copy()\n",
        "aserto_1[['Quantity','Price']].describe()"
      ]
    },
    {
      "cell_type": "markdown",
      "id": "6f2da141",
      "metadata": {
        "id": "6f2da141"
      },
      "source": [
        "### Agora sim!, conseguimos obter um valor minimo aceptavel para Quantity\n",
        "### Agora, vamos avaliar os valores para Price\n"
      ]
    },
    {
      "cell_type": "code",
      "execution_count": null,
      "id": "705f8b64",
      "metadata": {
        "id": "705f8b64",
        "outputId": "80265618-6f5a-4a5c-ccdb-b78e6fb26cce"
      },
      "outputs": [
        {
          "data": {
            "text/html": [
              "<div>\n",
              "<style scoped>\n",
              "    .dataframe tbody tr th:only-of-type {\n",
              "        vertical-align: middle;\n",
              "    }\n",
              "\n",
              "    .dataframe tbody tr th {\n",
              "        vertical-align: top;\n",
              "    }\n",
              "\n",
              "    .dataframe thead th {\n",
              "        text-align: right;\n",
              "    }\n",
              "</style>\n",
              "<table border=\"1\" class=\"dataframe\">\n",
              "  <thead>\n",
              "    <tr style=\"text-align: right;\">\n",
              "      <th></th>\n",
              "      <th>BillNo</th>\n",
              "      <th>Itemname</th>\n",
              "      <th>Quantity</th>\n",
              "      <th>Date</th>\n",
              "      <th>Price</th>\n",
              "      <th>Country</th>\n",
              "      <th>Year</th>\n",
              "      <th>Month</th>\n",
              "      <th>Day</th>\n",
              "      <th>Zoning</th>\n",
              "    </tr>\n",
              "  </thead>\n",
              "  <tbody>\n",
              "    <tr>\n",
              "      <th>6275</th>\n",
              "      <td>536941</td>\n",
              "      <td>amazon</td>\n",
              "      <td>20</td>\n",
              "      <td>2010-12-03 12:08:00</td>\n",
              "      <td>0.0</td>\n",
              "      <td>United Kingdom</td>\n",
              "      <td>2010</td>\n",
              "      <td>12</td>\n",
              "      <td>3</td>\n",
              "      <td>Northern Europe</td>\n",
              "    </tr>\n",
              "    <tr>\n",
              "      <th>6276</th>\n",
              "      <td>536942</td>\n",
              "      <td>amazon</td>\n",
              "      <td>15</td>\n",
              "      <td>2010-12-03 12:08:00</td>\n",
              "      <td>0.0</td>\n",
              "      <td>United Kingdom</td>\n",
              "      <td>2010</td>\n",
              "      <td>12</td>\n",
              "      <td>3</td>\n",
              "      <td>Northern Europe</td>\n",
              "    </tr>\n",
              "    <tr>\n",
              "      <th>9097</th>\n",
              "      <td>537197</td>\n",
              "      <td>ROUND CAKE TIN VINTAGE GREEN</td>\n",
              "      <td>1</td>\n",
              "      <td>2010-12-05 14:02:00</td>\n",
              "      <td>0.0</td>\n",
              "      <td>Germany</td>\n",
              "      <td>2010</td>\n",
              "      <td>12</td>\n",
              "      <td>5</td>\n",
              "      <td>Germanic Countries</td>\n",
              "    </tr>\n",
              "    <tr>\n",
              "      <th>14038</th>\n",
              "      <td>537534</td>\n",
              "      <td>CREAM SWEETHEART LETTER RACK</td>\n",
              "      <td>1</td>\n",
              "      <td>2010-12-07 11:48:00</td>\n",
              "      <td>0.0</td>\n",
              "      <td>United Kingdom</td>\n",
              "      <td>2010</td>\n",
              "      <td>12</td>\n",
              "      <td>7</td>\n",
              "      <td>Northern Europe</td>\n",
              "    </tr>\n",
              "    <tr>\n",
              "      <th>14039</th>\n",
              "      <td>537534</td>\n",
              "      <td>ZINC WILLIE WINKIE  CANDLE STICK</td>\n",
              "      <td>1</td>\n",
              "      <td>2010-12-07 11:48:00</td>\n",
              "      <td>0.0</td>\n",
              "      <td>United Kingdom</td>\n",
              "      <td>2010</td>\n",
              "      <td>12</td>\n",
              "      <td>7</td>\n",
              "      <td>Northern Europe</td>\n",
              "    </tr>\n",
              "    <tr>\n",
              "      <th>...</th>\n",
              "      <td>...</td>\n",
              "      <td>...</td>\n",
              "      <td>...</td>\n",
              "      <td>...</td>\n",
              "      <td>...</td>\n",
              "      <td>...</td>\n",
              "      <td>...</td>\n",
              "      <td>...</td>\n",
              "      <td>...</td>\n",
              "      <td>...</td>\n",
              "    </tr>\n",
              "    <tr>\n",
              "      <th>505251</th>\n",
              "      <td>580609</td>\n",
              "      <td>Amazon</td>\n",
              "      <td>1</td>\n",
              "      <td>2011-12-05 11:41:00</td>\n",
              "      <td>0.0</td>\n",
              "      <td>United Kingdom</td>\n",
              "      <td>2011</td>\n",
              "      <td>12</td>\n",
              "      <td>5</td>\n",
              "      <td>Northern Europe</td>\n",
              "    </tr>\n",
              "    <tr>\n",
              "      <th>515626</th>\n",
              "      <td>581202</td>\n",
              "      <td>check</td>\n",
              "      <td>41</td>\n",
              "      <td>2011-12-07 18:30:00</td>\n",
              "      <td>0.0</td>\n",
              "      <td>United Kingdom</td>\n",
              "      <td>2011</td>\n",
              "      <td>12</td>\n",
              "      <td>7</td>\n",
              "      <td>Northern Europe</td>\n",
              "    </tr>\n",
              "    <tr>\n",
              "      <th>515635</th>\n",
              "      <td>581211</td>\n",
              "      <td>check</td>\n",
              "      <td>14</td>\n",
              "      <td>2011-12-07 18:36:00</td>\n",
              "      <td>0.0</td>\n",
              "      <td>United Kingdom</td>\n",
              "      <td>2011</td>\n",
              "      <td>12</td>\n",
              "      <td>7</td>\n",
              "      <td>Northern Europe</td>\n",
              "    </tr>\n",
              "    <tr>\n",
              "      <th>518770</th>\n",
              "      <td>581406</td>\n",
              "      <td>POLYESTER FILLER PAD 45x45cm</td>\n",
              "      <td>240</td>\n",
              "      <td>2011-12-08 13:58:00</td>\n",
              "      <td>0.0</td>\n",
              "      <td>United Kingdom</td>\n",
              "      <td>2011</td>\n",
              "      <td>12</td>\n",
              "      <td>8</td>\n",
              "      <td>Northern Europe</td>\n",
              "    </tr>\n",
              "    <tr>\n",
              "      <th>518771</th>\n",
              "      <td>581406</td>\n",
              "      <td>POLYESTER FILLER PAD 40x40cm</td>\n",
              "      <td>300</td>\n",
              "      <td>2011-12-08 13:58:00</td>\n",
              "      <td>0.0</td>\n",
              "      <td>United Kingdom</td>\n",
              "      <td>2011</td>\n",
              "      <td>12</td>\n",
              "      <td>8</td>\n",
              "      <td>Northern Europe</td>\n",
              "    </tr>\n",
              "  </tbody>\n",
              "</table>\n",
              "<p>585 rows × 10 columns</p>\n",
              "</div>"
            ],
            "text/plain": [
              "        BillNo                          Itemname  Quantity  \\\n",
              "6275    536941                            amazon        20   \n",
              "6276    536942                            amazon        15   \n",
              "9097    537197      ROUND CAKE TIN VINTAGE GREEN         1   \n",
              "14038   537534      CREAM SWEETHEART LETTER RACK         1   \n",
              "14039   537534  ZINC WILLIE WINKIE  CANDLE STICK         1   \n",
              "...        ...                               ...       ...   \n",
              "505251  580609                            Amazon         1   \n",
              "515626  581202                             check        41   \n",
              "515635  581211                             check        14   \n",
              "518770  581406      POLYESTER FILLER PAD 45x45cm       240   \n",
              "518771  581406      POLYESTER FILLER PAD 40x40cm       300   \n",
              "\n",
              "                      Date  Price         Country  Year  Month  Day  \\\n",
              "6275   2010-12-03 12:08:00    0.0  United Kingdom  2010     12    3   \n",
              "6276   2010-12-03 12:08:00    0.0  United Kingdom  2010     12    3   \n",
              "9097   2010-12-05 14:02:00    0.0         Germany  2010     12    5   \n",
              "14038  2010-12-07 11:48:00    0.0  United Kingdom  2010     12    7   \n",
              "14039  2010-12-07 11:48:00    0.0  United Kingdom  2010     12    7   \n",
              "...                    ...    ...             ...   ...    ...  ...   \n",
              "505251 2011-12-05 11:41:00    0.0  United Kingdom  2011     12    5   \n",
              "515626 2011-12-07 18:30:00    0.0  United Kingdom  2011     12    7   \n",
              "515635 2011-12-07 18:36:00    0.0  United Kingdom  2011     12    7   \n",
              "518770 2011-12-08 13:58:00    0.0  United Kingdom  2011     12    8   \n",
              "518771 2011-12-08 13:58:00    0.0  United Kingdom  2011     12    8   \n",
              "\n",
              "                    Zoning  \n",
              "6275       Northern Europe  \n",
              "6276       Northern Europe  \n",
              "9097    Germanic Countries  \n",
              "14038      Northern Europe  \n",
              "14039      Northern Europe  \n",
              "...                    ...  \n",
              "505251     Northern Europe  \n",
              "515626     Northern Europe  \n",
              "515635     Northern Europe  \n",
              "518770     Northern Europe  \n",
              "518771     Northern Europe  \n",
              "\n",
              "[585 rows x 10 columns]"
            ]
          },
          "execution_count": 31,
          "metadata": {},
          "output_type": "execute_result"
        }
      ],
      "source": [
        "# Verificar Se existem valores menores que \"0\"\n",
        "aserto_1[aserto_1['Price']<=0]"
      ]
    },
    {
      "cell_type": "markdown",
      "id": "069c748f",
      "metadata": {
        "id": "069c748f"
      },
      "source": [
        "### Temos 585 dados com valor menor e igual que 0 e com quantidades elevadas, será que é erro de input?, vamos descartar de qualquer forma pela representatividade.\n"
      ]
    },
    {
      "cell_type": "code",
      "execution_count": null,
      "id": "946f6f8c",
      "metadata": {
        "id": "946f6f8c",
        "outputId": "54179f8d-cbdf-488d-b5a6-e9b4033c8afe"
      },
      "outputs": [
        {
          "data": {
            "text/html": [
              "<div>\n",
              "<style scoped>\n",
              "    .dataframe tbody tr th:only-of-type {\n",
              "        vertical-align: middle;\n",
              "    }\n",
              "\n",
              "    .dataframe tbody tr th {\n",
              "        vertical-align: top;\n",
              "    }\n",
              "\n",
              "    .dataframe thead th {\n",
              "        text-align: right;\n",
              "    }\n",
              "</style>\n",
              "<table border=\"1\" class=\"dataframe\">\n",
              "  <thead>\n",
              "    <tr style=\"text-align: right;\">\n",
              "      <th></th>\n",
              "      <th>BillNo</th>\n",
              "      <th>Itemname</th>\n",
              "      <th>Quantity</th>\n",
              "      <th>Date</th>\n",
              "      <th>Price</th>\n",
              "      <th>Country</th>\n",
              "      <th>Year</th>\n",
              "      <th>Month</th>\n",
              "      <th>Day</th>\n",
              "      <th>Zoning</th>\n",
              "    </tr>\n",
              "  </thead>\n",
              "  <tbody>\n",
              "    <tr>\n",
              "      <th>0</th>\n",
              "      <td>536365</td>\n",
              "      <td>WHITE HANGING HEART T-LIGHT HOLDER</td>\n",
              "      <td>6</td>\n",
              "      <td>2010-12-01 08:26:00</td>\n",
              "      <td>2.55</td>\n",
              "      <td>United Kingdom</td>\n",
              "      <td>2010</td>\n",
              "      <td>12</td>\n",
              "      <td>1</td>\n",
              "      <td>Northern Europe</td>\n",
              "    </tr>\n",
              "    <tr>\n",
              "      <th>1</th>\n",
              "      <td>536365</td>\n",
              "      <td>WHITE METAL LANTERN</td>\n",
              "      <td>6</td>\n",
              "      <td>2010-12-01 08:26:00</td>\n",
              "      <td>3.39</td>\n",
              "      <td>United Kingdom</td>\n",
              "      <td>2010</td>\n",
              "      <td>12</td>\n",
              "      <td>1</td>\n",
              "      <td>Northern Europe</td>\n",
              "    </tr>\n",
              "    <tr>\n",
              "      <th>2</th>\n",
              "      <td>536365</td>\n",
              "      <td>CREAM CUPID HEARTS COAT HANGER</td>\n",
              "      <td>8</td>\n",
              "      <td>2010-12-01 08:26:00</td>\n",
              "      <td>2.75</td>\n",
              "      <td>United Kingdom</td>\n",
              "      <td>2010</td>\n",
              "      <td>12</td>\n",
              "      <td>1</td>\n",
              "      <td>Northern Europe</td>\n",
              "    </tr>\n",
              "    <tr>\n",
              "      <th>3</th>\n",
              "      <td>536365</td>\n",
              "      <td>KNITTED UNION FLAG HOT WATER BOTTLE</td>\n",
              "      <td>6</td>\n",
              "      <td>2010-12-01 08:26:00</td>\n",
              "      <td>3.39</td>\n",
              "      <td>United Kingdom</td>\n",
              "      <td>2010</td>\n",
              "      <td>12</td>\n",
              "      <td>1</td>\n",
              "      <td>Northern Europe</td>\n",
              "    </tr>\n",
              "    <tr>\n",
              "      <th>4</th>\n",
              "      <td>536365</td>\n",
              "      <td>RED WOOLLY HOTTIE WHITE HEART.</td>\n",
              "      <td>6</td>\n",
              "      <td>2010-12-01 08:26:00</td>\n",
              "      <td>3.39</td>\n",
              "      <td>United Kingdom</td>\n",
              "      <td>2010</td>\n",
              "      <td>12</td>\n",
              "      <td>1</td>\n",
              "      <td>Northern Europe</td>\n",
              "    </tr>\n",
              "    <tr>\n",
              "      <th>...</th>\n",
              "      <td>...</td>\n",
              "      <td>...</td>\n",
              "      <td>...</td>\n",
              "      <td>...</td>\n",
              "      <td>...</td>\n",
              "      <td>...</td>\n",
              "      <td>...</td>\n",
              "      <td>...</td>\n",
              "      <td>...</td>\n",
              "      <td>...</td>\n",
              "    </tr>\n",
              "    <tr>\n",
              "      <th>522059</th>\n",
              "      <td>581587</td>\n",
              "      <td>PACK OF 20 SPACEBOY NAPKINS</td>\n",
              "      <td>12</td>\n",
              "      <td>2011-12-09 12:50:00</td>\n",
              "      <td>0.85</td>\n",
              "      <td>France</td>\n",
              "      <td>2011</td>\n",
              "      <td>12</td>\n",
              "      <td>9</td>\n",
              "      <td>Western Europe</td>\n",
              "    </tr>\n",
              "    <tr>\n",
              "      <th>522060</th>\n",
              "      <td>581587</td>\n",
              "      <td>CHILDREN'S APRON DOLLY GIRL</td>\n",
              "      <td>6</td>\n",
              "      <td>2011-12-09 12:50:00</td>\n",
              "      <td>2.10</td>\n",
              "      <td>France</td>\n",
              "      <td>2011</td>\n",
              "      <td>12</td>\n",
              "      <td>9</td>\n",
              "      <td>Western Europe</td>\n",
              "    </tr>\n",
              "    <tr>\n",
              "      <th>522061</th>\n",
              "      <td>581587</td>\n",
              "      <td>CHILDRENS CUTLERY DOLLY GIRL</td>\n",
              "      <td>4</td>\n",
              "      <td>2011-12-09 12:50:00</td>\n",
              "      <td>4.15</td>\n",
              "      <td>France</td>\n",
              "      <td>2011</td>\n",
              "      <td>12</td>\n",
              "      <td>9</td>\n",
              "      <td>Western Europe</td>\n",
              "    </tr>\n",
              "    <tr>\n",
              "      <th>522062</th>\n",
              "      <td>581587</td>\n",
              "      <td>CHILDRENS CUTLERY CIRCUS PARADE</td>\n",
              "      <td>4</td>\n",
              "      <td>2011-12-09 12:50:00</td>\n",
              "      <td>4.15</td>\n",
              "      <td>France</td>\n",
              "      <td>2011</td>\n",
              "      <td>12</td>\n",
              "      <td>9</td>\n",
              "      <td>Western Europe</td>\n",
              "    </tr>\n",
              "    <tr>\n",
              "      <th>522063</th>\n",
              "      <td>581587</td>\n",
              "      <td>BAKING SET 9 PIECE RETROSPOT</td>\n",
              "      <td>3</td>\n",
              "      <td>2011-12-09 12:50:00</td>\n",
              "      <td>4.95</td>\n",
              "      <td>France</td>\n",
              "      <td>2011</td>\n",
              "      <td>12</td>\n",
              "      <td>9</td>\n",
              "      <td>Western Europe</td>\n",
              "    </tr>\n",
              "  </tbody>\n",
              "</table>\n",
              "<p>519551 rows × 10 columns</p>\n",
              "</div>"
            ],
            "text/plain": [
              "        BillNo                             Itemname  Quantity  \\\n",
              "0       536365   WHITE HANGING HEART T-LIGHT HOLDER         6   \n",
              "1       536365                  WHITE METAL LANTERN         6   \n",
              "2       536365       CREAM CUPID HEARTS COAT HANGER         8   \n",
              "3       536365  KNITTED UNION FLAG HOT WATER BOTTLE         6   \n",
              "4       536365       RED WOOLLY HOTTIE WHITE HEART.         6   \n",
              "...        ...                                  ...       ...   \n",
              "522059  581587          PACK OF 20 SPACEBOY NAPKINS        12   \n",
              "522060  581587          CHILDREN'S APRON DOLLY GIRL         6   \n",
              "522061  581587         CHILDRENS CUTLERY DOLLY GIRL         4   \n",
              "522062  581587      CHILDRENS CUTLERY CIRCUS PARADE         4   \n",
              "522063  581587         BAKING SET 9 PIECE RETROSPOT         3   \n",
              "\n",
              "                      Date  Price         Country  Year  Month  Day  \\\n",
              "0      2010-12-01 08:26:00   2.55  United Kingdom  2010     12    1   \n",
              "1      2010-12-01 08:26:00   3.39  United Kingdom  2010     12    1   \n",
              "2      2010-12-01 08:26:00   2.75  United Kingdom  2010     12    1   \n",
              "3      2010-12-01 08:26:00   3.39  United Kingdom  2010     12    1   \n",
              "4      2010-12-01 08:26:00   3.39  United Kingdom  2010     12    1   \n",
              "...                    ...    ...             ...   ...    ...  ...   \n",
              "522059 2011-12-09 12:50:00   0.85          France  2011     12    9   \n",
              "522060 2011-12-09 12:50:00   2.10          France  2011     12    9   \n",
              "522061 2011-12-09 12:50:00   4.15          France  2011     12    9   \n",
              "522062 2011-12-09 12:50:00   4.15          France  2011     12    9   \n",
              "522063 2011-12-09 12:50:00   4.95          France  2011     12    9   \n",
              "\n",
              "                 Zoning  \n",
              "0       Northern Europe  \n",
              "1       Northern Europe  \n",
              "2       Northern Europe  \n",
              "3       Northern Europe  \n",
              "4       Northern Europe  \n",
              "...                 ...  \n",
              "522059   Western Europe  \n",
              "522060   Western Europe  \n",
              "522061   Western Europe  \n",
              "522062   Western Europe  \n",
              "522063   Western Europe  \n",
              "\n",
              "[519551 rows x 10 columns]"
            ]
          },
          "execution_count": 32,
          "metadata": {},
          "output_type": "execute_result"
        }
      ],
      "source": [
        "df3 = aserto_1[aserto_1['Price']>0].copy()\n",
        "df3"
      ]
    },
    {
      "cell_type": "markdown",
      "id": "b55a9b9a",
      "metadata": {
        "id": "b55a9b9a"
      },
      "source": [
        "### Vamos verificar as estatisticas para ver se o erro foi corregido."
      ]
    },
    {
      "cell_type": "code",
      "execution_count": null,
      "id": "07644016",
      "metadata": {
        "id": "07644016",
        "outputId": "a59f7184-bec9-407f-e70e-efe0fabe1372"
      },
      "outputs": [
        {
          "data": {
            "text/html": [
              "<div>\n",
              "<style scoped>\n",
              "    .dataframe tbody tr th:only-of-type {\n",
              "        vertical-align: middle;\n",
              "    }\n",
              "\n",
              "    .dataframe tbody tr th {\n",
              "        vertical-align: top;\n",
              "    }\n",
              "\n",
              "    .dataframe thead th {\n",
              "        text-align: right;\n",
              "    }\n",
              "</style>\n",
              "<table border=\"1\" class=\"dataframe\">\n",
              "  <thead>\n",
              "    <tr style=\"text-align: right;\">\n",
              "      <th></th>\n",
              "      <th>Quantity</th>\n",
              "      <th>Price</th>\n",
              "    </tr>\n",
              "  </thead>\n",
              "  <tbody>\n",
              "    <tr>\n",
              "      <th>count</th>\n",
              "      <td>519551.000000</td>\n",
              "      <td>519551.000000</td>\n",
              "    </tr>\n",
              "    <tr>\n",
              "      <th>mean</th>\n",
              "      <td>10.398361</td>\n",
              "      <td>3.887894</td>\n",
              "    </tr>\n",
              "    <tr>\n",
              "      <th>std</th>\n",
              "      <td>157.004952</td>\n",
              "      <td>35.954045</td>\n",
              "    </tr>\n",
              "    <tr>\n",
              "      <th>min</th>\n",
              "      <td>1.000000</td>\n",
              "      <td>0.001000</td>\n",
              "    </tr>\n",
              "    <tr>\n",
              "      <th>25%</th>\n",
              "      <td>1.000000</td>\n",
              "      <td>1.250000</td>\n",
              "    </tr>\n",
              "    <tr>\n",
              "      <th>50%</th>\n",
              "      <td>3.000000</td>\n",
              "      <td>2.080000</td>\n",
              "    </tr>\n",
              "    <tr>\n",
              "      <th>75%</th>\n",
              "      <td>10.000000</td>\n",
              "      <td>4.130000</td>\n",
              "    </tr>\n",
              "    <tr>\n",
              "      <th>max</th>\n",
              "      <td>80995.000000</td>\n",
              "      <td>13541.330000</td>\n",
              "    </tr>\n",
              "  </tbody>\n",
              "</table>\n",
              "</div>"
            ],
            "text/plain": [
              "            Quantity          Price\n",
              "count  519551.000000  519551.000000\n",
              "mean       10.398361       3.887894\n",
              "std       157.004952      35.954045\n",
              "min         1.000000       0.001000\n",
              "25%         1.000000       1.250000\n",
              "50%         3.000000       2.080000\n",
              "75%        10.000000       4.130000\n",
              "max     80995.000000   13541.330000"
            ]
          },
          "execution_count": 33,
          "metadata": {},
          "output_type": "execute_result"
        }
      ],
      "source": [
        "df3[['Quantity','Price']].describe()"
      ]
    },
    {
      "cell_type": "markdown",
      "id": "e9aa03d6",
      "metadata": {
        "id": "e9aa03d6"
      },
      "source": [
        "### Podemos concluir que tem erro de input e tambem tem items ingressados por SAC\n",
        "================================================================================================\n",
        "\n",
        "### Agora Vamos analisar um pouco mais os graficos\n",
        "\n",
        "\n",
        "## Vamos fazer um agrupamento para ver os preços por continente/ regiao e pais em 2010."
      ]
    },
    {
      "cell_type": "code",
      "execution_count": null,
      "id": "2bf75e7f",
      "metadata": {
        "id": "2bf75e7f",
        "outputId": "bf1c45d7-9766-4573-b203-212de84d34c3"
      },
      "outputs": [
        {
          "data": {
            "text/html": [
              "<div>\n",
              "<style scoped>\n",
              "    .dataframe tbody tr th:only-of-type {\n",
              "        vertical-align: middle;\n",
              "    }\n",
              "\n",
              "    .dataframe tbody tr th {\n",
              "        vertical-align: top;\n",
              "    }\n",
              "\n",
              "    .dataframe thead th {\n",
              "        text-align: right;\n",
              "    }\n",
              "</style>\n",
              "<table border=\"1\" class=\"dataframe\">\n",
              "  <thead>\n",
              "    <tr style=\"text-align: right;\">\n",
              "      <th></th>\n",
              "      <th></th>\n",
              "      <th></th>\n",
              "      <th>Price</th>\n",
              "    </tr>\n",
              "    <tr>\n",
              "      <th>Year</th>\n",
              "      <th>Zoning</th>\n",
              "      <th>Country</th>\n",
              "      <th></th>\n",
              "    </tr>\n",
              "  </thead>\n",
              "  <tbody>\n",
              "    <tr>\n",
              "      <th rowspan=\"5\" valign=\"top\">2010</th>\n",
              "      <th rowspan=\"2\" valign=\"top\">Benelux</th>\n",
              "      <th>Belgium</th>\n",
              "      <td>273.35</td>\n",
              "    </tr>\n",
              "    <tr>\n",
              "      <th>Netherlands</th>\n",
              "      <td>161.69</td>\n",
              "    </tr>\n",
              "    <tr>\n",
              "      <th>Continental Europe</th>\n",
              "      <th>Iceland</th>\n",
              "      <td>89.59</td>\n",
              "    </tr>\n",
              "    <tr>\n",
              "      <th>Eastern Europe</th>\n",
              "      <th>Poland</th>\n",
              "      <td>18.99</td>\n",
              "    </tr>\n",
              "    <tr>\n",
              "      <th>Far East</th>\n",
              "      <th>Japan</th>\n",
              "      <td>123.50</td>\n",
              "    </tr>\n",
              "  </tbody>\n",
              "</table>\n",
              "</div>"
            ],
            "text/plain": [
              "                                      Price\n",
              "Year Zoning             Country            \n",
              "2010 Benelux            Belgium      273.35\n",
              "                        Netherlands  161.69\n",
              "     Continental Europe Iceland       89.59\n",
              "     Eastern Europe     Poland        18.99\n",
              "     Far East           Japan        123.50"
            ]
          },
          "execution_count": 34,
          "metadata": {},
          "output_type": "execute_result"
        }
      ],
      "source": [
        "valor_preço=df3.groupby(['Year','Zoning','Country'])['Price'].sum().to_frame()\n",
        "valor_preço.head()"
      ]
    },
    {
      "cell_type": "markdown",
      "id": "a7b7e6f6",
      "metadata": {
        "id": "a7b7e6f6"
      },
      "source": [
        "### Neste grafico podemos observar o comportamento das vendas e que regioes ou continentes estao participando com as vendas.\n"
      ]
    },
    {
      "cell_type": "code",
      "execution_count": null,
      "id": "327a69a2",
      "metadata": {
        "id": "327a69a2",
        "outputId": "f99c042c-d95f-42e3-aefd-836b41b7a4fd"
      },
      "outputs": [
        {
          "data": {
            "image/png": "[encoded data removed]",
            "text/plain": [
              "<Figure size 864x720 with 1 Axes>"
            ]
          },
          "metadata": {},
          "output_type": "display_data"
        }
      ],
      "source": [
        "# Preços por Continente/Regiao no ano 2010\n",
        "plt.figure(figsize =(12,10))\n",
        "plt.xticks(rotation=45)\n",
        "sns.set_theme(style = 'darkgrid')\n",
        "sns.lineplot(data=valor_preço,x='Zoning', y='Price',hue='Year',palette=['blue','red'],ci=False);"
      ]
    },
    {
      "cell_type": "markdown",
      "id": "fe9ae9b8",
      "metadata": {
        "id": "fe9ae9b8"
      },
      "source": [
        "### Neste grafico podemos concluir que quem movimenta mais as vendas em 2010 é a regiao da europa, ja em 2011 o cenario é um pouco diferente, europa setentrional continua tendo o maior indice de vendas,seguido por Europa meridional. paises germanicos e suldeste de asia, deveriamos avaliar mais a profundidade oq está acontecendo, falta de recursos para merketing? se tiver marketin por que não tem engajamento?, preços muito altos ou mais caros do que a concorrencia?, problemas no serviço?"
      ]
    },
    {
      "cell_type": "markdown",
      "id": "67029063",
      "metadata": {
        "id": "67029063"
      },
      "source": [
        "### Tambem poderiamos visualisar esses dados por paises e compreender quais paises foram os mais destacados em volume de vendas.\n"
      ]
    },
    {
      "cell_type": "code",
      "execution_count": null,
      "id": "d5f40cb6",
      "metadata": {
        "id": "d5f40cb6",
        "outputId": "f5184474-5315-48f2-f847-cec79a530887"
      },
      "outputs": [
        {
          "data": {
            "image/png": "[encoded data removed]",
            "text/plain": [
              "<Figure size 1296x720 with 1 Axes>"
            ]
          },
          "metadata": {},
          "output_type": "display_data"
        }
      ],
      "source": [
        "# Preços por Continente e regiao no ano\n",
        "plt.figure(figsize =(18,10))\n",
        "plt.xticks(rotation=45)\n",
        "sns.set_theme(style = 'darkgrid')\n",
        "sns.lineplot(data=valor_preço,x='Country', y='Price',hue='Year',palette=['blue','red'],ci=False);"
      ]
    },
    {
      "cell_type": "markdown",
      "id": "712a2c55",
      "metadata": {
        "id": "712a2c55"
      },
      "source": [
        "### é basicamente o mesmo resultado que o anterior"
      ]
    },
    {
      "cell_type": "markdown",
      "id": "a47bab72",
      "metadata": {
        "id": "a47bab72"
      },
      "source": [
        "### Embora seja importante compreender as vendas, tambem é necessario ter uma estatistica de media de vendas por continentes e/ou regioes e paises em 2010.\n",
        "\n",
        "### Agrupando ticket medio por pais e continente."
      ]
    },
    {
      "cell_type": "code",
      "execution_count": null,
      "id": "8f99e4b2",
      "metadata": {
        "id": "8f99e4b2",
        "outputId": "c5180a1d-941f-48ab-bd1c-96a731222316"
      },
      "outputs": [
        {
          "data": {
            "text/html": [
              "<div>\n",
              "<style scoped>\n",
              "    .dataframe tbody tr th:only-of-type {\n",
              "        vertical-align: middle;\n",
              "    }\n",
              "\n",
              "    .dataframe tbody tr th {\n",
              "        vertical-align: top;\n",
              "    }\n",
              "\n",
              "    .dataframe thead th {\n",
              "        text-align: right;\n",
              "    }\n",
              "</style>\n",
              "<table border=\"1\" class=\"dataframe\">\n",
              "  <thead>\n",
              "    <tr style=\"text-align: right;\">\n",
              "      <th></th>\n",
              "      <th></th>\n",
              "      <th></th>\n",
              "      <th>Price</th>\n",
              "    </tr>\n",
              "    <tr>\n",
              "      <th>Year</th>\n",
              "      <th>Zoning</th>\n",
              "      <th>Country</th>\n",
              "      <th></th>\n",
              "    </tr>\n",
              "  </thead>\n",
              "  <tbody>\n",
              "    <tr>\n",
              "      <th rowspan=\"5\" valign=\"top\">2010</th>\n",
              "      <th rowspan=\"2\" valign=\"top\">Benelux</th>\n",
              "      <th>Belgium</th>\n",
              "      <td>2.877368</td>\n",
              "    </tr>\n",
              "    <tr>\n",
              "      <th>Netherlands</th>\n",
              "      <td>2.245694</td>\n",
              "    </tr>\n",
              "    <tr>\n",
              "      <th>Continental Europe</th>\n",
              "      <th>Iceland</th>\n",
              "      <td>2.890000</td>\n",
              "    </tr>\n",
              "    <tr>\n",
              "      <th>Eastern Europe</th>\n",
              "      <th>Poland</th>\n",
              "      <td>2.373750</td>\n",
              "    </tr>\n",
              "    <tr>\n",
              "      <th>Far East</th>\n",
              "      <th>Japan</th>\n",
              "      <td>1.900000</td>\n",
              "    </tr>\n",
              "  </tbody>\n",
              "</table>\n",
              "</div>"
            ],
            "text/plain": [
              "                                        Price\n",
              "Year Zoning             Country              \n",
              "2010 Benelux            Belgium      2.877368\n",
              "                        Netherlands  2.245694\n",
              "     Continental Europe Iceland      2.890000\n",
              "     Eastern Europe     Poland       2.373750\n",
              "     Far East           Japan        1.900000"
            ]
          },
          "execution_count": 37,
          "metadata": {},
          "output_type": "execute_result"
        }
      ],
      "source": [
        "valor_tm=df3.groupby(['Year','Zoning','Country'])['Price'].mean().to_frame()\n",
        "valor_tm.head()"
      ]
    },
    {
      "cell_type": "markdown",
      "id": "707138fe",
      "metadata": {
        "id": "707138fe"
      },
      "source": [
        "### Visualizando o ticket medio por continente / regiao em 2010"
      ]
    },
    {
      "cell_type": "code",
      "execution_count": null,
      "id": "64b27ca1",
      "metadata": {
        "id": "64b27ca1",
        "outputId": "7d37eda0-028f-436e-99c2-43dc7c1bb867"
      },
      "outputs": [
        {
          "data": {
            "image/png": "[encoded data removed]",
            "text/plain": [
              "<Figure size 864x720 with 1 Axes>"
            ]
          },
          "metadata": {},
          "output_type": "display_data"
        }
      ],
      "source": [
        "# Tiket medio por Continente e regiao no ano 2010\n",
        "plt.figure(figsize =(12,10))\n",
        "plt.xticks(rotation=45)\n",
        "sns.set_theme(style = 'darkgrid')\n",
        "sns.lineplot(data=valor_tm,x='Zoning', y='Price',hue='Year', palette=['blue','red'],ci=False);"
      ]
    },
    {
      "cell_type": "markdown",
      "id": "8301652e",
      "metadata": {
        "id": "8301652e"
      },
      "source": [
        "### Podemos observar o Ticket medio por continente ou regiao e percebemos que mesmo tendo pouco volume de vendas, os paises germanicos tiveram o melhor ticket medio de 2010, ja em 2011 o maior ticket medio que se gerou foi do suldeste da asia e o extremo oriente, o resto das regioes meio que mantiveram o tiveram um pequeno crescimento."
      ]
    },
    {
      "cell_type": "markdown",
      "id": "5a7f8cc0",
      "metadata": {
        "id": "5a7f8cc0"
      },
      "source": [
        "### Visualizando o ticket medio por pais em 2010"
      ]
    },
    {
      "cell_type": "code",
      "execution_count": null,
      "id": "5433a9b3",
      "metadata": {
        "id": "5433a9b3",
        "outputId": "621b7065-c0d5-41f0-bb18-8356b4411d7c"
      },
      "outputs": [
        {
          "data": {
            "image/png": "[encoded data removed]",
            "text/plain": [
              "<Figure size 1440x720 with 1 Axes>"
            ]
          },
          "metadata": {},
          "output_type": "display_data"
        }
      ],
      "source": [
        "# Ticket medio por Paises no ano 2010\n",
        "plt.figure(figsize =(20,10))\n",
        "plt.xticks(rotation=45)\n",
        "sns.set_theme(style = 'darkgrid')\n",
        "sns.lineplot(data=valor_tm,x='Country', y='Price',hue='Year', palette=['blue','red'],ci=False);"
      ]
    },
    {
      "cell_type": "markdown",
      "id": "54892069",
      "metadata": {
        "id": "54892069"
      },
      "source": [
        "### em 2010, paises como austria, reino unido e italia estavam no top 3 do ticket medio, ja em 2011, tudo isso mudou, singapure teve o melhor ticket medio pode ser por diminuição de vendas, e hong kong tambem o resto apresentou um padrao parecido com o ano anterior excepto noruega, mostrando um crescimento significativo."
      ]
    },
    {
      "cell_type": "markdown",
      "id": "45e1a293",
      "metadata": {
        "id": "45e1a293"
      },
      "source": [
        "### Tambem, algo muito interessante a se fazer em um trabalho de e-comerce é um de motor de recomendação, para fazer ele vamos criar um novo df chamando \"df_motor_recomendação\"\n"
      ]
    },
    {
      "cell_type": "code",
      "execution_count": null,
      "id": "36a6a9bd",
      "metadata": {
        "id": "36a6a9bd"
      },
      "outputs": [],
      "source": [
        "df_motor_recomendaçao = df"
      ]
    },
    {
      "cell_type": "markdown",
      "id": "ccccaa76",
      "metadata": {
        "id": "ccccaa76"
      },
      "source": [
        "### Logo depois, vamos precisar tirar todos os dados nulos que existir nele"
      ]
    },
    {
      "cell_type": "code",
      "execution_count": null,
      "id": "5fb953d7",
      "metadata": {
        "id": "5fb953d7",
        "outputId": "ccb2d78e-afe1-40b6-8c76-12e6e8ece768"
      },
      "outputs": [
        {
          "data": {
            "text/plain": [
              "BillNo             0\n",
              "Itemname        1455\n",
              "Quantity           0\n",
              "Date               0\n",
              "Price              0\n",
              "CustomerID    134041\n",
              "Country            0\n",
              "dtype: int64"
            ]
          },
          "execution_count": 41,
          "metadata": {},
          "output_type": "execute_result"
        }
      ],
      "source": [
        "df_motor_recomendaçao.isnull().sum()"
      ]
    },
    {
      "cell_type": "markdown",
      "id": "951a114d",
      "metadata": {
        "id": "951a114d"
      },
      "source": [
        "### vamos tirar do nosso dataset os dados nulos que vao sujar nosso motor de recomendação"
      ]
    },
    {
      "cell_type": "code",
      "execution_count": null,
      "id": "63af37f1",
      "metadata": {
        "id": "63af37f1",
        "outputId": "a4a2c0fc-213b-49c3-9d4e-82cb483a4eab"
      },
      "outputs": [
        {
          "data": {
            "text/html": [
              "<div>\n",
              "<style scoped>\n",
              "    .dataframe tbody tr th:only-of-type {\n",
              "        vertical-align: middle;\n",
              "    }\n",
              "\n",
              "    .dataframe tbody tr th {\n",
              "        vertical-align: top;\n",
              "    }\n",
              "\n",
              "    .dataframe thead th {\n",
              "        text-align: right;\n",
              "    }\n",
              "</style>\n",
              "<table border=\"1\" class=\"dataframe\">\n",
              "  <thead>\n",
              "    <tr style=\"text-align: right;\">\n",
              "      <th></th>\n",
              "      <th>BillNo</th>\n",
              "      <th>Itemname</th>\n",
              "      <th>Quantity</th>\n",
              "      <th>Date</th>\n",
              "      <th>Price</th>\n",
              "      <th>CustomerID</th>\n",
              "      <th>Country</th>\n",
              "    </tr>\n",
              "  </thead>\n",
              "  <tbody>\n",
              "    <tr>\n",
              "      <th>0</th>\n",
              "      <td>536365</td>\n",
              "      <td>WHITE HANGING HEART T-LIGHT HOLDER</td>\n",
              "      <td>6</td>\n",
              "      <td>2010-12-01 08:26:00</td>\n",
              "      <td>2.55</td>\n",
              "      <td>17850.0</td>\n",
              "      <td>United Kingdom</td>\n",
              "    </tr>\n",
              "    <tr>\n",
              "      <th>1</th>\n",
              "      <td>536365</td>\n",
              "      <td>WHITE METAL LANTERN</td>\n",
              "      <td>6</td>\n",
              "      <td>2010-12-01 08:26:00</td>\n",
              "      <td>3.39</td>\n",
              "      <td>17850.0</td>\n",
              "      <td>United Kingdom</td>\n",
              "    </tr>\n",
              "    <tr>\n",
              "      <th>2</th>\n",
              "      <td>536365</td>\n",
              "      <td>CREAM CUPID HEARTS COAT HANGER</td>\n",
              "      <td>8</td>\n",
              "      <td>2010-12-01 08:26:00</td>\n",
              "      <td>2.75</td>\n",
              "      <td>17850.0</td>\n",
              "      <td>United Kingdom</td>\n",
              "    </tr>\n",
              "    <tr>\n",
              "      <th>3</th>\n",
              "      <td>536365</td>\n",
              "      <td>KNITTED UNION FLAG HOT WATER BOTTLE</td>\n",
              "      <td>6</td>\n",
              "      <td>2010-12-01 08:26:00</td>\n",
              "      <td>3.39</td>\n",
              "      <td>17850.0</td>\n",
              "      <td>United Kingdom</td>\n",
              "    </tr>\n",
              "    <tr>\n",
              "      <th>4</th>\n",
              "      <td>536365</td>\n",
              "      <td>RED WOOLLY HOTTIE WHITE HEART.</td>\n",
              "      <td>6</td>\n",
              "      <td>2010-12-01 08:26:00</td>\n",
              "      <td>3.39</td>\n",
              "      <td>17850.0</td>\n",
              "      <td>United Kingdom</td>\n",
              "    </tr>\n",
              "    <tr>\n",
              "      <th>...</th>\n",
              "      <td>...</td>\n",
              "      <td>...</td>\n",
              "      <td>...</td>\n",
              "      <td>...</td>\n",
              "      <td>...</td>\n",
              "      <td>...</td>\n",
              "      <td>...</td>\n",
              "    </tr>\n",
              "    <tr>\n",
              "      <th>522059</th>\n",
              "      <td>581587</td>\n",
              "      <td>PACK OF 20 SPACEBOY NAPKINS</td>\n",
              "      <td>12</td>\n",
              "      <td>2011-12-09 12:50:00</td>\n",
              "      <td>0.85</td>\n",
              "      <td>12680.0</td>\n",
              "      <td>France</td>\n",
              "    </tr>\n",
              "    <tr>\n",
              "      <th>522060</th>\n",
              "      <td>581587</td>\n",
              "      <td>CHILDREN'S APRON DOLLY GIRL</td>\n",
              "      <td>6</td>\n",
              "      <td>2011-12-09 12:50:00</td>\n",
              "      <td>2.10</td>\n",
              "      <td>12680.0</td>\n",
              "      <td>France</td>\n",
              "    </tr>\n",
              "    <tr>\n",
              "      <th>522061</th>\n",
              "      <td>581587</td>\n",
              "      <td>CHILDRENS CUTLERY DOLLY GIRL</td>\n",
              "      <td>4</td>\n",
              "      <td>2011-12-09 12:50:00</td>\n",
              "      <td>4.15</td>\n",
              "      <td>12680.0</td>\n",
              "      <td>France</td>\n",
              "    </tr>\n",
              "    <tr>\n",
              "      <th>522062</th>\n",
              "      <td>581587</td>\n",
              "      <td>CHILDRENS CUTLERY CIRCUS PARADE</td>\n",
              "      <td>4</td>\n",
              "      <td>2011-12-09 12:50:00</td>\n",
              "      <td>4.15</td>\n",
              "      <td>12680.0</td>\n",
              "      <td>France</td>\n",
              "    </tr>\n",
              "    <tr>\n",
              "      <th>522063</th>\n",
              "      <td>581587</td>\n",
              "      <td>BAKING SET 9 PIECE RETROSPOT</td>\n",
              "      <td>3</td>\n",
              "      <td>2011-12-09 12:50:00</td>\n",
              "      <td>4.95</td>\n",
              "      <td>12680.0</td>\n",
              "      <td>France</td>\n",
              "    </tr>\n",
              "  </tbody>\n",
              "</table>\n",
              "<p>388023 rows × 7 columns</p>\n",
              "</div>"
            ],
            "text/plain": [
              "        BillNo                             Itemname  Quantity  \\\n",
              "0       536365   WHITE HANGING HEART T-LIGHT HOLDER         6   \n",
              "1       536365                  WHITE METAL LANTERN         6   \n",
              "2       536365       CREAM CUPID HEARTS COAT HANGER         8   \n",
              "3       536365  KNITTED UNION FLAG HOT WATER BOTTLE         6   \n",
              "4       536365       RED WOOLLY HOTTIE WHITE HEART.         6   \n",
              "...        ...                                  ...       ...   \n",
              "522059  581587          PACK OF 20 SPACEBOY NAPKINS        12   \n",
              "522060  581587          CHILDREN'S APRON DOLLY GIRL         6   \n",
              "522061  581587         CHILDRENS CUTLERY DOLLY GIRL         4   \n",
              "522062  581587      CHILDRENS CUTLERY CIRCUS PARADE         4   \n",
              "522063  581587         BAKING SET 9 PIECE RETROSPOT         3   \n",
              "\n",
              "                      Date  Price  CustomerID         Country  \n",
              "0      2010-12-01 08:26:00   2.55     17850.0  United Kingdom  \n",
              "1      2010-12-01 08:26:00   3.39     17850.0  United Kingdom  \n",
              "2      2010-12-01 08:26:00   2.75     17850.0  United Kingdom  \n",
              "3      2010-12-01 08:26:00   3.39     17850.0  United Kingdom  \n",
              "4      2010-12-01 08:26:00   3.39     17850.0  United Kingdom  \n",
              "...                    ...    ...         ...             ...  \n",
              "522059 2011-12-09 12:50:00   0.85     12680.0          France  \n",
              "522060 2011-12-09 12:50:00   2.10     12680.0          France  \n",
              "522061 2011-12-09 12:50:00   4.15     12680.0          France  \n",
              "522062 2011-12-09 12:50:00   4.15     12680.0          France  \n",
              "522063 2011-12-09 12:50:00   4.95     12680.0          France  \n",
              "\n",
              "[388023 rows x 7 columns]"
            ]
          },
          "execution_count": 42,
          "metadata": {},
          "output_type": "execute_result"
        }
      ],
      "source": [
        "df_motor_recomendaçao.dropna()"
      ]
    },
    {
      "cell_type": "markdown",
      "id": "746f322e",
      "metadata": {
        "id": "746f322e"
      },
      "source": [
        "### Vamos visualizar a quantidade de produtos, e a quantidade de clientes reais que temos."
      ]
    },
    {
      "cell_type": "code",
      "execution_count": null,
      "id": "3b4c838b",
      "metadata": {
        "id": "3b4c838b",
        "outputId": "ae56afa7-4f27-4760-c755-f59d6383f885"
      },
      "outputs": [
        {
          "name": "stdout",
          "output_type": "stream",
          "text": [
            "Quantidade de produtos  4185\n",
            "Quantidade de Clientes:  4297\n"
          ]
        }
      ],
      "source": [
        "# Número dos datasets\n",
        "print('Quantidade de produtos ',\n",
        "df_motor_recomendaçao['Itemname'].value_counts().shape[0])\n",
        " \n",
        "print('Quantidade de Clientes: ',\n",
        "df_motor_recomendaçao['CustomerID'].value_counts().shape[0])\n",
        " "
      ]
    },
    {
      "cell_type": "markdown",
      "id": "6c374339",
      "metadata": {
        "id": "6c374339"
      },
      "source": [
        "### agora vamos ver nossos top 5 de produtos "
      ]
    },
    {
      "cell_type": "code",
      "execution_count": null,
      "id": "74730df5",
      "metadata": {
        "id": "74730df5",
        "outputId": "fa252c91-e752-4374-f04f-0c1d0ac07f54"
      },
      "outputs": [
        {
          "data": {
            "text/plain": [
              "WHITE HANGING HEART T-LIGHT HOLDER    2269\n",
              "JUMBO BAG RED RETROSPOT               2087\n",
              "REGENCY CAKESTAND 3 TIER              1930\n",
              "PARTY BUNTING                         1677\n",
              "LUNCH BAG RED RETROSPOT               1570\n",
              "Name: Itemname, dtype: int64"
            ]
          },
          "execution_count": 44,
          "metadata": {},
          "output_type": "execute_result"
        }
      ],
      "source": [
        "df_motor_recomendaçao['Itemname'].value_counts().head()"
      ]
    },
    {
      "cell_type": "markdown",
      "id": "151c722b",
      "metadata": {
        "id": "151c722b"
      },
      "source": [
        "### e seguindo essa linha de raciocinio vamos ver nossos 5 melhores clientes."
      ]
    },
    {
      "cell_type": "code",
      "execution_count": null,
      "id": "c850ade6",
      "metadata": {
        "id": "c850ade6",
        "outputId": "674a6e86-8410-4a99-d62d-2d26c61f6192"
      },
      "outputs": [
        {
          "data": {
            "text/plain": [
              "17841.0    7847\n",
              "14096.0    5111\n",
              "12748.0    4596\n",
              "14606.0    2700\n",
              "15311.0    2379\n",
              "Name: CustomerID, dtype: int64"
            ]
          },
          "execution_count": 45,
          "metadata": {},
          "output_type": "execute_result"
        }
      ],
      "source": [
        "df_motor_recomendaçao['CustomerID'].value_counts().head()"
      ]
    },
    {
      "cell_type": "markdown",
      "id": "da347aea",
      "metadata": {
        "id": "da347aea"
      },
      "source": [
        "### Criamos uma função simples como nosso motor de recomendação"
      ]
    },
    {
      "cell_type": "code",
      "execution_count": null,
      "id": "b39ac025",
      "metadata": {
        "id": "b39ac025"
      },
      "outputs": [],
      "source": [
        "def recomenda_produto(CustomerID, Itemname):\n",
        "    nome_produto = df_motor_recomendaçao.query('Itemname == @Itemname')['Itemname'].values[0]\n",
        "    print('Produto: ', nome_produto)\n",
        "    print('Cliente: ', CustomerID)\n",
        "    if df_motor_recomendaçao.query('CustomerID == @CustomerID and Itemname == @Itemname')['CustomerID'].values.size == 0:\n",
        "        print('Esse usuario nao quer o produto')\n",
        "    else:\n",
        "        produto = df_motor_recomendaçao.query('CustomerID == @CustomerID and Itemname == @Itemname')['Itemname'].values[0]\n",
        "        print('Cliente compraria esse: ', nome_produto)\n",
        "        "
      ]
    },
    {
      "cell_type": "markdown",
      "id": "6a10f5c7",
      "metadata": {
        "id": "6a10f5c7"
      },
      "source": [
        ""
      ]
    },
    {
      "cell_type": "code",
      "execution_count": null,
      "id": "4e81f9cc",
      "metadata": {
        "scrolled": true,
        "id": "4e81f9cc",
        "outputId": "225cdfcb-24c4-4a28-f8c9-0b77de581801"
      },
      "outputs": [
        {
          "name": "stdout",
          "output_type": "stream",
          "text": [
            "Produto:  JUMBO BAG RED RETROSPOT\n",
            "Cliente:  17841\n",
            "Cliente compraria esse:  JUMBO BAG RED RETROSPOT\n"
          ]
        }
      ],
      "source": [
        "recomenda_produto(17841,\"JUMBO BAG RED RETROSPOT\")"
      ]
    },
    {
      "cell_type": "markdown",
      "id": "4cff221f",
      "metadata": {
        "id": "4cff221f"
      },
      "source": [
        "### Prepara Base para Machine Learning\n"
      ]
    },
    {
      "cell_type": "code",
      "execution_count": null,
      "id": "5e6fb6ab",
      "metadata": {
        "id": "5e6fb6ab"
      },
      "outputs": [],
      "source": [
        "# Importar Biblioteca\n",
        "from sklearn.preprocessing import StandardScaler, LabelEncoder\n",
        "from sklearn.model_selection import train_test_split\n",
        "from sklearn.metrics import mean_absolute_error\n",
        "from sklearn.svm import LinearSVC\n",
        "from sklearn.metrics import accuracy_score\n",
        "from sklearn.dummy import DummyClassifier\n",
        "from sklearn.ensemble import RandomForestRegressor\n",
        "\n",
        "from sklearn.linear_model import LinearRegression\n",
        "from sklearn.metrics import accuracy_score, confusion_matrix, classification_report, roc_auc_score\n",
        "from IPython.display import Image  \n"
      ]
    },
    {
      "cell_type": "code",
      "execution_count": null,
      "id": "529cc293",
      "metadata": {
        "id": "529cc293"
      },
      "outputs": [],
      "source": [
        "df3= df3[['Itemname','Price', 'Country', 'Year', 'Month', 'Day', 'Zoning', 'Quantity']]"
      ]
    },
    {
      "cell_type": "markdown",
      "id": "81508251",
      "metadata": {
        "id": "81508251"
      },
      "source": [
        "### Vamos definir nossos dados previsores e classe"
      ]
    },
    {
      "cell_type": "markdown",
      "id": "6b56d0a1",
      "metadata": {
        "id": "6b56d0a1"
      },
      "source": [
        "### Previsores"
      ]
    },
    {
      "cell_type": "code",
      "execution_count": null,
      "id": "c767517b",
      "metadata": {
        "id": "c767517b",
        "outputId": "f016ad23-8eb5-45de-ba07-e64170bd262e"
      },
      "outputs": [
        {
          "data": {
            "text/plain": [
              "array(['WHITE HANGING HEART T-LIGHT HOLDER', 2.55, 'United Kingdom', 2010,\n",
              "       12, 1, 'Northern Europe'], dtype=object)"
            ]
          },
          "execution_count": 79,
          "metadata": {},
          "output_type": "execute_result"
        }
      ],
      "source": [
        "X_data = df3.iloc[:,0:7].values\n",
        "X_data[0]"
      ]
    },
    {
      "cell_type": "markdown",
      "id": "ae0258ba",
      "metadata": {
        "id": "ae0258ba"
      },
      "source": [
        "### Classe"
      ]
    },
    {
      "cell_type": "code",
      "execution_count": null,
      "id": "9f8f3fcb",
      "metadata": {
        "id": "9f8f3fcb",
        "outputId": "a70f2b06-b61a-4ee3-f0a4-7e961e7fe61c"
      },
      "outputs": [
        {
          "data": {
            "text/plain": [
              "array([6, 6, 8, ..., 4, 4, 3], dtype=int64)"
            ]
          },
          "execution_count": 80,
          "metadata": {},
          "output_type": "execute_result"
        }
      ],
      "source": [
        "y_data = df3.iloc[:,7].values\n",
        "y_data"
      ]
    },
    {
      "cell_type": "markdown",
      "id": "e35e4bef",
      "metadata": {
        "id": "e35e4bef"
      },
      "source": [
        "### Precisamos converter valores categoricos em numericos e neste caso usaremos label encoder e de paso definiremos um escalonador de valores numericos, que é o StandardScaler"
      ]
    },
    {
      "cell_type": "code",
      "execution_count": null,
      "id": "4f818c19",
      "metadata": {
        "id": "4f818c19"
      },
      "outputs": [],
      "source": [
        "le = LabelEncoder()\n",
        "sc = StandardScaler()"
      ]
    },
    {
      "cell_type": "markdown",
      "id": "52d3cae5",
      "metadata": {
        "id": "52d3cae5"
      },
      "source": [
        "### Com esse metodo ja convertemos os valores categoricos em numericos"
      ]
    },
    {
      "cell_type": "code",
      "execution_count": null,
      "id": "1668a918",
      "metadata": {
        "id": "1668a918"
      },
      "outputs": [],
      "source": [
        "X_data[:,0] = le.fit_transform(X_data[:,0])\n",
        "X_data[:,2] = le.fit_transform(X_data[:,2])\n",
        "X_data[:,6] = le.fit_transform(X_data[:,6])"
      ]
    },
    {
      "cell_type": "markdown",
      "id": "c07f1e04",
      "metadata": {
        "id": "c07f1e04"
      },
      "source": [
        "### Podemos visualizar aqui que os valores ja estao de forma numerica"
      ]
    },
    {
      "cell_type": "code",
      "execution_count": null,
      "id": "a40a92c0",
      "metadata": {
        "id": "a40a92c0",
        "outputId": "b7591a5d-6923-48a5-b418-52fbb4104e2a"
      },
      "outputs": [
        {
          "data": {
            "text/plain": [
              "array([3824, 2.55, 28, 2010, 12, 1, 7], dtype=object)"
            ]
          },
          "execution_count": 83,
          "metadata": {},
          "output_type": "execute_result"
        }
      ],
      "source": [
        "X_data[0]"
      ]
    },
    {
      "cell_type": "markdown",
      "id": "24b3804b",
      "metadata": {
        "id": "24b3804b"
      },
      "source": [
        "### Embora os valores sejam numericos, podemos perceber que não estao padronizados, ou escalonados, isso dificulta um pouco o entendimento do nosso modelo. é por esse motivo que vamos escalonar os valores."
      ]
    },
    {
      "cell_type": "code",
      "execution_count": null,
      "id": "3abe17df",
      "metadata": {
        "id": "3abe17df",
        "outputId": "6db48e30-41c4-4a4e-d392-b6f6df30a666"
      },
      "outputs": [
        {
          "data": {
            "text/plain": [
              "array([[ 1.56578465, -0.03721127,  0.24197884, ...,  1.26271036,\n",
              "        -1.61712872, -0.02578847],\n",
              "       [ 1.57292664, -0.01384809,  0.24197884, ...,  1.26271036,\n",
              "        -1.61712872, -0.02578847],\n",
              "       [-1.06604106, -0.03164861,  0.24197884, ...,  1.26271036,\n",
              "        -1.61712872, -0.02578847],\n",
              "       ...,\n",
              "       [-1.21155924,  0.00729003, -4.53683261, ...,  1.26271036,\n",
              "        -0.69470758,  5.28743297],\n",
              "       [-1.21245199,  0.00729003, -4.53683261, ...,  1.26271036,\n",
              "        -0.69470758,  5.28743297],\n",
              "       [-1.6052618 ,  0.02954068, -4.53683261, ...,  1.26271036,\n",
              "        -0.69470758,  5.28743297]])"
            ]
          },
          "execution_count": 84,
          "metadata": {},
          "output_type": "execute_result"
        }
      ],
      "source": [
        "X_data = sc.fit_transform(X_data)\n",
        "X_data"
      ]
    },
    {
      "cell_type": "markdown",
      "id": "f5e3f16e",
      "metadata": {
        "id": "f5e3f16e"
      },
      "source": [
        "### Ja escalonado os valores, podemos passar a realizar nosso modelo, agora que ja temos todos os valores prontos para trabalhar, vamos proseguir a fazer uma regressao linear"
      ]
    },
    {
      "cell_type": "code",
      "execution_count": null,
      "id": "9b189a10",
      "metadata": {
        "id": "9b189a10",
        "outputId": "6be82579-27a7-43fc-ccca-66dd3bbe4bc3"
      },
      "outputs": [
        {
          "data": {
            "text/plain": [
              "((363685, 7), (155866, 7), (363685,), (155866,))"
            ]
          },
          "execution_count": 85,
          "metadata": {},
          "output_type": "execute_result"
        }
      ],
      "source": [
        "# Divide o dataset entre treino (70%) e teste (30%)\n",
        "SEED = 1580\n",
        "np.random.seed(SEED)\n",
        "X_datatreino, X_datateste, y_datatreino, y_datateste = train_test_split(X_data, y_data, test_size=0.3)\n",
        "X_datatreino.shape,X_datateste.shape, y_datatreino.shape, y_datateste.shape"
      ]
    },
    {
      "cell_type": "code",
      "execution_count": null,
      "id": "0249862c",
      "metadata": {
        "id": "0249862c"
      },
      "outputs": [],
      "source": [
        "# Gera o modelo de regressão linear (lm) no dataset de treino\n",
        "modelolm = LinearRegression().fit(X_datatreino, y_datatreino)"
      ]
    },
    {
      "cell_type": "markdown",
      "id": "918de0d9",
      "metadata": {
        "id": "918de0d9"
      },
      "source": [
        "### Vamos ver algumas previsoes"
      ]
    },
    {
      "cell_type": "code",
      "execution_count": null,
      "id": "c5c8ebfc",
      "metadata": {
        "id": "c5c8ebfc",
        "outputId": "98a3ed42-d3b5-492c-b555-3b10a978636f"
      },
      "outputs": [
        {
          "data": {
            "text/plain": [
              "array([ 9.67866355,  9.94847226,  9.5275856 , ...,  9.89968911,\n",
              "       25.8913129 ,  9.96948897])"
            ]
          },
          "execution_count": 87,
          "metadata": {},
          "output_type": "execute_result"
        }
      ],
      "source": [
        "previsoes = modelolm.predict(X_datateste)\n",
        "previsoes"
      ]
    },
    {
      "cell_type": "markdown",
      "id": "bf50c0ff",
      "metadata": {
        "id": "bf50c0ff"
      },
      "source": [
        "### Valida e testa a performance do modelo"
      ]
    },
    {
      "cell_type": "code",
      "execution_count": null,
      "id": "271bfc61",
      "metadata": {
        "id": "271bfc61",
        "outputId": "9aba570d-7167-40cc-a792-80ffdff70c81"
      },
      "outputs": [
        {
          "data": {
            "text/plain": [
              "0.00012494712079169634"
            ]
          },
          "execution_count": 88,
          "metadata": {},
          "output_type": "execute_result"
        }
      ],
      "source": [
        "modelolm.score(X_datateste, y_datateste)"
      ]
    },
    {
      "cell_type": "code",
      "execution_count": null,
      "id": "0d61605c",
      "metadata": {
        "id": "0d61605c",
        "outputId": "1d5f44fd-5a21-4d01-e800-9701ef09a0ce"
      },
      "outputs": [
        {
          "data": {
            "text/plain": [
              "11.399691305866494"
            ]
          },
          "execution_count": 89,
          "metadata": {},
          "output_type": "execute_result"
        }
      ],
      "source": [
        "# Avaliação dos Erros do Modelo - MAE (Erro Médio Absoluto)\n",
        "maelm = mean_absolute_error(y_datateste, previsoes)\n",
        "maelm"
      ]
    },
    {
      "cell_type": "markdown",
      "id": "456beb8e",
      "metadata": {
        "id": "456beb8e"
      },
      "source": [
        "### Podemos perceber que o Erro medio absoluto do modelo neste casso é de 11"
      ]
    },
    {
      "cell_type": "markdown",
      "id": "9d8dc61a",
      "metadata": {
        "id": "9d8dc61a"
      },
      "source": [
        "### Iniciaremos nosso modelo de floresta randomica"
      ]
    },
    {
      "cell_type": "code",
      "execution_count": null,
      "id": "91eed9b6",
      "metadata": {
        "id": "91eed9b6"
      },
      "outputs": [],
      "source": [
        "modelofr = RandomForestRegressor(n_estimators = 100, random_state = 0).fit(X_datatreino, y_datatreino)\n"
      ]
    },
    {
      "cell_type": "markdown",
      "id": "9074ca71",
      "metadata": {
        "id": "9074ca71"
      },
      "source": [
        "### Previsoes para fr"
      ]
    },
    {
      "cell_type": "code",
      "execution_count": null,
      "id": "9e29353b",
      "metadata": {
        "id": "9e29353b"
      },
      "outputs": [],
      "source": [
        "# Faz as previsoes no dataset de teste\n",
        "previsoesfr = modelofr.predict(X_datateste)\n"
      ]
    },
    {
      "cell_type": "markdown",
      "id": "fe7d2b30",
      "metadata": {
        "id": "fe7d2b30"
      },
      "source": [
        "### Score de performance do modelo"
      ]
    },
    {
      "cell_type": "code",
      "execution_count": null,
      "id": "9ae1d923",
      "metadata": {
        "id": "9ae1d923",
        "outputId": "c025a6e4-3a65-4877-90ae-8535ed185804"
      },
      "outputs": [
        {
          "data": {
            "text/plain": [
              "0.005437427732472466"
            ]
          },
          "execution_count": 92,
          "metadata": {},
          "output_type": "execute_result"
        }
      ],
      "source": [
        "# Valida e testa a performance do Modelo. Qual foi o score (R2)?\n",
        "modelofr.score(X_datateste, y_datateste)"
      ]
    },
    {
      "cell_type": "markdown",
      "id": "52c80e70",
      "metadata": {
        "id": "52c80e70"
      },
      "source": [
        "### Error media absoluta."
      ]
    },
    {
      "cell_type": "code",
      "execution_count": null,
      "id": "b13e643a",
      "metadata": {
        "id": "b13e643a",
        "outputId": "52e6aacd-8620-4179-c42e-c0a63782bfbb"
      },
      "outputs": [
        {
          "data": {
            "text/plain": [
              "7.341642819878139"
            ]
          },
          "execution_count": 93,
          "metadata": {},
          "output_type": "execute_result"
        }
      ],
      "source": [
        "# Avaliação dos Erros do Modelo - MAE (Erro Médio Absoluto)\n",
        "maefr = mean_absolute_error(y_datateste, previsoesfr)\n",
        "maefr"
      ]
    },
    {
      "cell_type": "markdown",
      "id": "816c83d2",
      "metadata": {
        "id": "816c83d2"
      },
      "source": [
        "### Podemos perceber que o Erro medio absoluto do modelo neste casso é menor do que a regressao linear, porem a performance foi melhor do que se esperava.\n",
        "\n",
        "### Como conclusão poderiamos testar outros modelos e até criar uma rede neural para adequar um pouco mais a realidade desse dataset, ou simplesmente descartar essa amostra e tentar realizar com outra, com outros anhadindo outros dados."
      ]
    },
    {
      "cell_type": "code",
      "execution_count": null,
      "id": "4e025a17",
      "metadata": {
        "id": "4e025a17"
      },
      "outputs": [],
      "source": [
        ""
      ]
    }
  ],
  "metadata": {
    "kernelspec": {
      "display_name": "Python 3",
      "language": "python",
      "name": "python3"
    },
    "language_info": {
      "codemirror_mode": {
        "name": "ipython",
        "version": 3
      },
      "file_extension": ".py",
      "mimetype": "text/x-python",
      "name": "python",
      "nbconvert_exporter": "python",
      "pygments_lexer": "ipython3",
      "version": "3.8.8"
    },
    "colab": {
      "name": "Dataset_manfing.ipynb",
      "provenance": [],
      "include_colab_link": true
    }
  },
  "nbformat": 4,
  "nbformat_minor": 5
}